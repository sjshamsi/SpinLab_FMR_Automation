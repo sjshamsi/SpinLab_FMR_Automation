{
 "cells": [
  {
   "cell_type": "code",
   "execution_count": 1,
   "metadata": {},
   "outputs": [],
   "source": [
    "import numpy as np\n",
    "import pandas as pd\n",
    "import matplotlib.pyplot as plt"
   ]
  },
  {
   "cell_type": "code",
   "execution_count": 2,
   "metadata": {},
   "outputs": [
    {
     "name": "stderr",
     "output_type": "stream",
     "text": [
      "C:\\Users\\physlab\\AppData\\Local\\Temp\\ipykernel_8444\\557009218.py:2: MatplotlibDeprecationWarning: The seaborn styles shipped by Matplotlib are deprecated since 3.6, as they no longer correspond to the styles shipped by seaborn. However, they will remain available as 'seaborn-v0_8-<style>'. Alternatively, directly use the seaborn API instead.\n",
      "  plt.style.use('seaborn')\n"
     ]
    }
   ],
   "source": [
    "%matplotlib qt\n",
    "plt.style.use('seaborn')"
   ]
  },
  {
   "cell_type": "code",
   "execution_count": 3,
   "metadata": {},
   "outputs": [
    {
     "ename": "NameError",
     "evalue": "name '_get_timestring' is not defined",
     "output_type": "error",
     "traceback": [
      "\u001b[1;31m---------------------------------------------------------------------------\u001b[0m",
      "\u001b[1;31mNameError\u001b[0m                                 Traceback (most recent call last)",
      "Cell \u001b[1;32mIn[3], line 2\u001b[0m\n\u001b[0;32m      1\u001b[0m \u001b[39mfrom\u001b[39;00m \u001b[39mfmr_experiment\u001b[39;00m \u001b[39mimport\u001b[39;00m Experiment\n\u001b[1;32m----> 2\u001b[0m E \u001b[39m=\u001b[39m Experiment()\n",
      "File \u001b[1;32mc:\\Users\\physlab\\Desktop\\FMR_Python_Automation\\SpinLab_FMR_Automation\\fmr_experiment.py:17\u001b[0m, in \u001b[0;36mExperiment.__init__\u001b[1;34m(self, logFilePath)\u001b[0m\n\u001b[0;32m     15\u001b[0m \u001b[39mdef\u001b[39;00m \u001b[39m__init__\u001b[39m(\u001b[39mself\u001b[39m, logFilePath\u001b[39m=\u001b[39m\u001b[39mNone\u001b[39;00m):\n\u001b[0;32m     16\u001b[0m     \u001b[39mif\u001b[39;00m logFilePath \u001b[39mis\u001b[39;00m \u001b[39mNone\u001b[39;00m:\n\u001b[1;32m---> 17\u001b[0m         logFilePath \u001b[39m=\u001b[39m \u001b[39m'\u001b[39m\u001b[39m./Experiment_Logs/FMR_log_\u001b[39m\u001b[39m{}\u001b[39;00m\u001b[39m.log\u001b[39m\u001b[39m'\u001b[39m\u001b[39m.\u001b[39mformat(_get_timestring())\n\u001b[0;32m     18\u001b[0m     \u001b[39mwith\u001b[39;00m \u001b[39mopen\u001b[39m(logFilePath, \u001b[39m'\u001b[39m\u001b[39mw\u001b[39m\u001b[39m'\u001b[39m) \u001b[39mas\u001b[39;00m log:\n\u001b[0;32m     19\u001b[0m             log\u001b[39m.\u001b[39mwrite(\u001b[39m'\u001b[39m\u001b[39mSpinLab Instruments LogFile @ \u001b[39m\u001b[39m{}\u001b[39;00m\u001b[39m'\u001b[39m\u001b[39m.\u001b[39mformat(datetime\u001b[39m.\u001b[39mutcnow()) \u001b[39m+\u001b[39m \u001b[39m'\u001b[39m\u001b[39m\\n\u001b[39;00m\u001b[39m'\u001b[39m)\n",
      "\u001b[1;31mNameError\u001b[0m: name '_get_timestring' is not defined"
     ]
    }
   ],
   "source": [
    "from fmr_experiment import Experiment\n",
    "E = Experiment()"
   ]
  },
  {
   "cell_type": "code",
   "execution_count": 5,
   "metadata": {},
   "outputs": [
    {
     "ename": "KeyboardInterrupt",
     "evalue": "",
     "output_type": "error",
     "traceback": [
      "\u001b[1;31m---------------------------------------------------------------------------\u001b[0m",
      "\u001b[1;31mKeyboardInterrupt\u001b[0m                         Traceback (most recent call last)",
      "File \u001b[1;32m<timed exec>:12\u001b[0m\n",
      "File \u001b[1;32mc:\\Users\\physlab\\Desktop\\FMR_Python_Automation\\SpinLab_FMR_Automation\\fmr_experiment.py:253\u001b[0m, in \u001b[0;36mmake_2D\u001b[1;34m(self, frequencies, fields, save_dir, primary, channel, file_prefix, sen, read_delay, read_reps, rep_delay, avg_func, integrate)\u001b[0m\n\u001b[0;32m    251\u001b[0m     time\u001b[39m.\u001b[39msleep(read_delay)\n\u001b[0;32m    252\u001b[0m     x, y \u001b[39m=\u001b[39m \u001b[39mself\u001b[39m\u001b[39m.\u001b[39mreadXY(avg_func, read_reps, rep_delay)\n\u001b[1;32m--> 253\u001b[0m     X_arr \u001b[39m=\u001b[39m np\u001b[39m.\u001b[39mappend(X_arr, x)\n\u001b[0;32m    254\u001b[0m     Y_arr \u001b[39m=\u001b[39m np\u001b[39m.\u001b[39mappend(Y_arr, y)\n\u001b[0;32m    255\u001b[0m \u001b[39mif\u001b[39;00m channel \u001b[39m==\u001b[39m \u001b[39m'\u001b[39m\u001b[39mX\u001b[39m\u001b[39m'\u001b[39m:\n",
      "\u001b[1;31mKeyboardInterrupt\u001b[0m: "
     ]
    }
   ],
   "source": [
    "%%time\n",
    "\n",
    "#define the frequency range\n",
    "freq_step = 0.01 # 10  MHz\n",
    "freq_range = np.arange(2, 4 + freq_step, freq_step)\n",
    "\n",
    "#define field range\n",
    "field_step = 10\n",
    "field_range = np.arange(0, 400 + field_step, field_step)\n",
    "\n",
    "E.SG.level = '-3'\n",
    "\n",
    "save_dir = r'C:\\Users\\physlab\\Desktop\\FMR_Python_Automation\\Data\\NiFe_2_2d_plot2'\n",
    "arr = E.make_2D(freq_range,\n",
    "          field_range,\n",
    "          save_dir,\n",
    "          primary='frequency',\n",
    "          channel='X',\n",
    "          integrate=False,\n",
    "          read_delay=0.05,\n",
    "          read_reps=1,\n",
    "          rep_delay=0,\n",
    "          avg_func=np.average)"
   ]
  },
  {
   "cell_type": "code",
   "execution_count": 13,
   "metadata": {},
   "outputs": [
    {
     "data": {
      "text/plain": [
       "Text(0, 0.5, 'Frequency (GHz)')"
      ]
     },
     "execution_count": 13,
     "metadata": {},
     "output_type": "execute_result"
    }
   ],
   "source": [
    "arr = np.load(r'C:\\Users\\physlab\\Desktop\\FMR_Python_Automation\\Data\\NiFe_2_2d_plot2\\frequency_2-2_GHz_field_-700-700_Oe_-3_dB.npy')\n",
    "plt.figure(figsize=(10, 7))\n",
    "plot = plt.pcolormesh(field_range, freq_range, arr, cmap='coolwarm', shading='gouraud')\n",
    "plt.colorbar(plot)\n",
    "plt.xlabel('Field (Oe)')\n",
    "plt.ylabel('Frequency (GHz)')"
   ]
  },
  {
   "cell_type": "code",
   "execution_count": 14,
   "metadata": {},
   "outputs": [
    {
     "data": {
      "text/plain": [
       "Text(0, 0.5, 'Frequency (GHz)')"
      ]
     },
     "execution_count": 14,
     "metadata": {},
     "output_type": "execute_result"
    }
   ],
   "source": [
    "arr = np.load(r'C:\\Users\\physlab\\Desktop\\FMR_Python_Automation\\Data\\NiFe_2_2d_plot2\\nonintegrated_frequency_2-2_GHz_field_-700-700_Oe_-3_dB.npy')\n",
    "plt.figure(figsize=(10, 7))\n",
    "plot = plt.pcolormesh(field_range, freq_range, arr, cmap='coolwarm', shading='gouraud')\n",
    "plt.colorbar(plot)\n",
    "plt.xlabel('Field (Oe)')\n",
    "plt.ylabel('Frequency (GHz)')"
   ]
  },
  {
   "cell_type": "code",
   "execution_count": 5,
   "metadata": {},
   "outputs": [
    {
     "data": {
      "text/plain": [
       "[<matplotlib.lines.Line2D at 0x272bbf2fd30>]"
      ]
     },
     "execution_count": 5,
     "metadata": {},
     "output_type": "execute_result"
    }
   ],
   "source": [
    "plt.plot(field_range, arr[0], label='2 GHz')\n",
    "plt.plot(field_range, arr[-1], label='5 GHz')\n",
    "plt.plot(field_range, arr[2], label='2.5 GHz')\n"
   ]
  },
  {
   "cell_type": "code",
   "execution_count": 12,
   "metadata": {},
   "outputs": [
    {
     "data": {
      "text/plain": [
       "[<matplotlib.lines.Line2D at 0x272bf2d0b80>]"
      ]
     },
     "execution_count": 12,
     "metadata": {},
     "output_type": "execute_result"
    }
   ],
   "source": [
    "arr2_intx, arr2_inty = E._integrate(field_range, arr[2])\n",
    "plt.plot(arr2_intx, arr2_inty)\n",
    "plt.plot(field_range, arr[2]-np.mean(arr[2]))"
   ]
  },
  {
   "cell_type": "code",
   "execution_count": 6,
   "metadata": {},
   "outputs": [
    {
     "name": "stderr",
     "output_type": "stream",
     "text": [
      "c:\\Users\\physlab\\Desktop\\FMR Python Automation\\SpinLab_FMR_Automation\\experiment.py:257: UserWarning: Attempting to set identical low and high xlims makes transformation singular; automatically expanding.\n",
      "  self.ax.set_xlim(min(xdata), max(xdata))\n",
      "c:\\Users\\physlab\\Desktop\\FMR Python Automation\\SpinLab_FMR_Automation\\experiment.py:257: UserWarning: Attempting to set identical low and high xlims makes transformation singular; automatically expanding.\n",
      "  self.ax.set_xlim(min(xdata), max(xdata))\n",
      "c:\\Users\\physlab\\Desktop\\FMR Python Automation\\SpinLab_FMR_Automation\\experiment.py:257: UserWarning: Attempting to set identical low and high xlims makes transformation singular; automatically expanding.\n",
      "  self.ax.set_xlim(min(xdata), max(xdata))\n",
      "c:\\Users\\physlab\\Desktop\\FMR Python Automation\\SpinLab_FMR_Automation\\experiment.py:257: UserWarning: Attempting to set identical low and high xlims makes transformation singular; automatically expanding.\n",
      "  self.ax.set_xlim(min(xdata), max(xdata))\n",
      "c:\\Users\\physlab\\Desktop\\FMR Python Automation\\SpinLab_FMR_Automation\\experiment.py:257: UserWarning: Attempting to set identical low and high xlims makes transformation singular; automatically expanding.\n",
      "  self.ax.set_xlim(min(xdata), max(xdata))\n",
      "c:\\Users\\physlab\\Desktop\\FMR Python Automation\\SpinLab_FMR_Automation\\experiment.py:257: UserWarning: Attempting to set identical low and high xlims makes transformation singular; automatically expanding.\n",
      "  self.ax.set_xlim(min(xdata), max(xdata))\n",
      "c:\\Users\\physlab\\Desktop\\FMR Python Automation\\SpinLab_FMR_Automation\\experiment.py:257: UserWarning: Attempting to set identical low and high xlims makes transformation singular; automatically expanding.\n",
      "  self.ax.set_xlim(min(xdata), max(xdata))\n",
      "c:\\Users\\physlab\\Desktop\\FMR Python Automation\\SpinLab_FMR_Automation\\experiment.py:257: UserWarning: Attempting to set identical low and high xlims makes transformation singular; automatically expanding.\n",
      "  self.ax.set_xlim(min(xdata), max(xdata))\n",
      "c:\\Users\\physlab\\Desktop\\FMR Python Automation\\SpinLab_FMR_Automation\\experiment.py:257: UserWarning: Attempting to set identical low and high xlims makes transformation singular; automatically expanding.\n",
      "  self.ax.set_xlim(min(xdata), max(xdata))\n",
      "c:\\Users\\physlab\\Desktop\\FMR Python Automation\\SpinLab_FMR_Automation\\experiment.py:257: UserWarning: Attempting to set identical low and high xlims makes transformation singular; automatically expanding.\n",
      "  self.ax.set_xlim(min(xdata), max(xdata))\n",
      "c:\\Users\\physlab\\Desktop\\FMR Python Automation\\SpinLab_FMR_Automation\\experiment.py:257: UserWarning: Attempting to set identical low and high xlims makes transformation singular; automatically expanding.\n",
      "  self.ax.set_xlim(min(xdata), max(xdata))\n",
      "c:\\Users\\physlab\\Desktop\\FMR Python Automation\\SpinLab_FMR_Automation\\experiment.py:257: UserWarning: Attempting to set identical low and high xlims makes transformation singular; automatically expanding.\n",
      "  self.ax.set_xlim(min(xdata), max(xdata))\n",
      "c:\\Users\\physlab\\Desktop\\FMR Python Automation\\SpinLab_FMR_Automation\\experiment.py:257: UserWarning: Attempting to set identical low and high xlims makes transformation singular; automatically expanding.\n",
      "  self.ax.set_xlim(min(xdata), max(xdata))\n",
      "c:\\Users\\physlab\\Desktop\\FMR Python Automation\\SpinLab_FMR_Automation\\experiment.py:257: UserWarning: Attempting to set identical low and high xlims makes transformation singular; automatically expanding.\n",
      "  self.ax.set_xlim(min(xdata), max(xdata))\n",
      "c:\\Users\\physlab\\Desktop\\FMR Python Automation\\SpinLab_FMR_Automation\\experiment.py:257: UserWarning: Attempting to set identical low and high xlims makes transformation singular; automatically expanding.\n",
      "  self.ax.set_xlim(min(xdata), max(xdata))\n",
      "c:\\Users\\physlab\\Desktop\\FMR Python Automation\\SpinLab_FMR_Automation\\experiment.py:257: UserWarning: Attempting to set identical low and high xlims makes transformation singular; automatically expanding.\n",
      "  self.ax.set_xlim(min(xdata), max(xdata))\n",
      "c:\\Users\\physlab\\Desktop\\FMR Python Automation\\SpinLab_FMR_Automation\\experiment.py:257: UserWarning: Attempting to set identical low and high xlims makes transformation singular; automatically expanding.\n",
      "  self.ax.set_xlim(min(xdata), max(xdata))\n",
      "c:\\Users\\physlab\\Desktop\\FMR Python Automation\\SpinLab_FMR_Automation\\experiment.py:257: UserWarning: Attempting to set identical low and high xlims makes transformation singular; automatically expanding.\n",
      "  self.ax.set_xlim(min(xdata), max(xdata))\n",
      "c:\\Users\\physlab\\Desktop\\FMR Python Automation\\SpinLab_FMR_Automation\\experiment.py:257: UserWarning: Attempting to set identical low and high xlims makes transformation singular; automatically expanding.\n",
      "  self.ax.set_xlim(min(xdata), max(xdata))\n",
      "c:\\Users\\physlab\\Desktop\\FMR Python Automation\\SpinLab_FMR_Automation\\experiment.py:257: UserWarning: Attempting to set identical low and high xlims makes transformation singular; automatically expanding.\n",
      "  self.ax.set_xlim(min(xdata), max(xdata))\n",
      "c:\\Users\\physlab\\Desktop\\FMR Python Automation\\SpinLab_FMR_Automation\\experiment.py:257: UserWarning: Attempting to set identical low and high xlims makes transformation singular; automatically expanding.\n",
      "  self.ax.set_xlim(min(xdata), max(xdata))\n",
      "c:\\Users\\physlab\\Desktop\\FMR Python Automation\\SpinLab_FMR_Automation\\experiment.py:257: UserWarning: Attempting to set identical low and high xlims makes transformation singular; automatically expanding.\n",
      "  self.ax.set_xlim(min(xdata), max(xdata))\n",
      "c:\\Users\\physlab\\Desktop\\FMR Python Automation\\SpinLab_FMR_Automation\\experiment.py:257: UserWarning: Attempting to set identical low and high xlims makes transformation singular; automatically expanding.\n",
      "  self.ax.set_xlim(min(xdata), max(xdata))\n",
      "c:\\Users\\physlab\\Desktop\\FMR Python Automation\\SpinLab_FMR_Automation\\experiment.py:257: UserWarning: Attempting to set identical low and high xlims makes transformation singular; automatically expanding.\n",
      "  self.ax.set_xlim(min(xdata), max(xdata))\n",
      "c:\\Users\\physlab\\Desktop\\FMR Python Automation\\SpinLab_FMR_Automation\\experiment.py:257: UserWarning: Attempting to set identical low and high xlims makes transformation singular; automatically expanding.\n",
      "  self.ax.set_xlim(min(xdata), max(xdata))\n",
      "c:\\Users\\physlab\\Desktop\\FMR Python Automation\\SpinLab_FMR_Automation\\experiment.py:257: UserWarning: Attempting to set identical low and high xlims makes transformation singular; automatically expanding.\n",
      "  self.ax.set_xlim(min(xdata), max(xdata))\n",
      "c:\\Users\\physlab\\Desktop\\FMR Python Automation\\SpinLab_FMR_Automation\\experiment.py:257: UserWarning: Attempting to set identical low and high xlims makes transformation singular; automatically expanding.\n",
      "  self.ax.set_xlim(min(xdata), max(xdata))\n",
      "c:\\Users\\physlab\\Desktop\\FMR Python Automation\\SpinLab_FMR_Automation\\experiment.py:257: UserWarning: Attempting to set identical low and high xlims makes transformation singular; automatically expanding.\n",
      "  self.ax.set_xlim(min(xdata), max(xdata))\n",
      "c:\\Users\\physlab\\Desktop\\FMR Python Automation\\SpinLab_FMR_Automation\\experiment.py:257: UserWarning: Attempting to set identical low and high xlims makes transformation singular; automatically expanding.\n",
      "  self.ax.set_xlim(min(xdata), max(xdata))\n",
      "c:\\Users\\physlab\\Desktop\\FMR Python Automation\\SpinLab_FMR_Automation\\experiment.py:257: UserWarning: Attempting to set identical low and high xlims makes transformation singular; automatically expanding.\n",
      "  self.ax.set_xlim(min(xdata), max(xdata))\n",
      "c:\\Users\\physlab\\Desktop\\FMR Python Automation\\SpinLab_FMR_Automation\\experiment.py:257: UserWarning: Attempting to set identical low and high xlims makes transformation singular; automatically expanding.\n",
      "  self.ax.set_xlim(min(xdata), max(xdata))\n"
     ]
    }
   ],
   "source": [
    "E.read_delay = 0.02\n",
    "E.read_repetitions = 20\n",
    "E.read_repetition_delay = 0.01\n",
    "E.SG.level = '-3'\n",
    "\n",
    "save_dir = r'C:\\Users\\physlab\\Desktop\\FMR Python Automation\\Data\\NiFe_2_2d_plot'\n",
    "for freq in freq_range:\n",
    "    E.sweep_field(freq, field_range, save_dir=save_dir, closefig=True)"
   ]
  },
  {
   "cell_type": "code",
   "execution_count": 5,
   "metadata": {},
   "outputs": [
    {
     "data": {
      "text/plain": [
       "[<matplotlib.lines.Line2D at 0x1699558ee30>]"
      ]
     },
     "execution_count": 5,
     "metadata": {},
     "output_type": "execute_result"
    }
   ],
   "source": [
    "Xs = np.linspace(-4 * np.pi, 4 * np.pi, 1000)\n",
    "Ys = np.sin(Xs)\n",
    "Xs2, Ys2 = E._integrate(Xs, Ys, c=-1.0)\n",
    "plt.plot(Xs, Ys)\n",
    "plt.plot(Xs, Ys2)"
   ]
  },
  {
   "cell_type": "code",
   "execution_count": 18,
   "metadata": {},
   "outputs": [
    {
     "data": {
      "text/plain": [
       "1.4210854715202004e-17"
      ]
     },
     "execution_count": 18,
     "metadata": {},
     "output_type": "execute_result"
    }
   ],
   "source": []
  },
  {
   "cell_type": "code",
   "execution_count": 4,
   "metadata": {},
   "outputs": [
    {
     "data": {
      "text/plain": [
       "array([2. , 2.1, 2.2, 2.3, 2.4, 2.5, 2.6, 2.7, 2.8, 2.9, 3. , 3.1, 3.2,\n",
       "       3.3, 3.4, 3.5, 3.6, 3.7, 3.8, 3.9, 4. , 4.1, 4.2, 4.3, 4.4, 4.5,\n",
       "       4.6, 4.7, 4.8, 4.9])"
      ]
     },
     "execution_count": 4,
     "metadata": {},
     "output_type": "execute_result"
    }
   ],
   "source": [
    "np.arange(2, 5, 0.1 , )"
   ]
  },
  {
   "cell_type": "code",
   "execution_count": 7,
   "metadata": {},
   "outputs": [
    {
     "ename": "ValueError",
     "evalue": "could not convert string to float: '2.343,3.554'",
     "output_type": "error",
     "traceback": [
      "\u001b[1;31m---------------------------------------------------------------------------\u001b[0m",
      "\u001b[1;31mValueError\u001b[0m                                Traceback (most recent call last)",
      "Cell \u001b[1;32mIn[7], line 1\u001b[0m\n\u001b[1;32m----> 1\u001b[0m \u001b[39mfloat\u001b[39;49m(\u001b[39m'\u001b[39;49m\u001b[39m2.343,3.554\u001b[39;49m\u001b[39m'\u001b[39;49m)\n",
      "\u001b[1;31mValueError\u001b[0m: could not convert string to float: '2.343,3.554'"
     ]
    }
   ],
   "source": [
    "float('2.343,3.554')"
   ]
  },
  {
   "cell_type": "code",
   "execution_count": 8,
   "metadata": {},
   "outputs": [],
   "source": [
    "a = np.array(['Foo'])"
   ]
  },
  {
   "cell_type": "code",
   "execution_count": 9,
   "metadata": {},
   "outputs": [
    {
     "data": {
      "text/plain": [
       "array(['Foo', '3.43'], dtype='<U32')"
      ]
     },
     "execution_count": 9,
     "metadata": {},
     "output_type": "execute_result"
    }
   ],
   "source": [
    "np.append(a, 3.43)"
   ]
  },
  {
   "cell_type": "code",
   "execution_count": 10,
   "metadata": {},
   "outputs": [
    {
     "data": {
      "text/plain": [
       "6.3"
      ]
     },
     "execution_count": 10,
     "metadata": {},
     "output_type": "execute_result"
    }
   ],
   "source": [
    "arr = np.array([6.3])\n",
    "np.mean(arr[np.logical_and(arr >= np.percentile(arr, 25), arr <= np.percentile(arr, 75))])"
   ]
  },
  {
   "cell_type": "code",
   "execution_count": 12,
   "metadata": {},
   "outputs": [
    {
     "data": {
      "text/plain": [
       "array([[0., 0., 0., 0., 0., 0., 0., 0., 0., 0.],\n",
       "       [0., 0., 0., 0., 0., 0., 0., 0., 0., 0.],\n",
       "       [0., 0., 0., 0., 0., 0., 0., 0., 0., 0.],\n",
       "       [0., 0., 0., 0., 0., 0., 0., 0., 0., 0.],\n",
       "       [0., 0., 0., 0., 0., 0., 0., 0., 0., 0.]])"
      ]
     },
     "execution_count": 12,
     "metadata": {},
     "output_type": "execute_result"
    }
   ],
   "source": [
    "np.zeros((5,10))"
   ]
  },
  {
   "cell_type": "code",
   "execution_count": 6,
   "metadata": {},
   "outputs": [],
   "source": [
    "import pandas as pd"
   ]
  },
  {
   "cell_type": "code",
   "execution_count": 6,
   "metadata": {},
   "outputs": [
    {
     "data": {
      "text/plain": [
       "<matplotlib.legend.Legend at 0x1c5b3a56110>"
      ]
     },
     "execution_count": 6,
     "metadata": {},
     "output_type": "execute_result"
    }
   ],
   "source": [
    "\n",
    "df = pd.read_csv(r'C:\\Users\\physlab\\Desktop\\FMR_Python_Automation\\Data\\NiFe_2\\freq_3.0_GHz_field_0.0-170.0_Oe.csv')\n",
    "intX, intY = E._integrate(df['field_Oe'].to_numpy(), df['X'].to_numpy())\n",
    "plt.plot(intX, intY, label='Integrated')\n",
    "plt.plot(df['field_Oe'], df['X'], label='Signal')\n",
    "plt.legend()"
   ]
  },
  {
   "cell_type": "code",
   "execution_count": 7,
   "metadata": {},
   "outputs": [],
   "source": [
    "a = np.array([[1,2,3],\n",
    "        [4,5,6],\n",
    "        [7,8,9]])"
   ]
  },
  {
   "cell_type": "code",
   "execution_count": 8,
   "metadata": {},
   "outputs": [
    {
     "data": {
      "text/plain": [
       "array([[1, 2, 3],\n",
       "       [4, 5, 6],\n",
       "       [7, 8, 9]])"
      ]
     },
     "execution_count": 8,
     "metadata": {},
     "output_type": "execute_result"
    }
   ],
   "source": [
    "a"
   ]
  },
  {
   "cell_type": "code",
   "execution_count": 13,
   "metadata": {},
   "outputs": [
    {
     "data": {
      "text/plain": [
       "array([[1, 2],\n",
       "       [4, 5],\n",
       "       [7, 8]])"
      ]
     },
     "execution_count": 13,
     "metadata": {},
     "output_type": "execute_result"
    }
   ],
   "source": [
    "a[:, :2]"
   ]
  },
  {
   "cell_type": "code",
   "execution_count": null,
   "metadata": {},
   "outputs": [],
   "source": []
  }
 ],
 "metadata": {
  "kernelspec": {
   "display_name": "Python 3 (ipykernel)",
   "language": "python",
   "name": "python3"
  },
  "language_info": {
   "codemirror_mode": {
    "name": "ipython",
    "version": 3
   },
   "file_extension": ".py",
   "mimetype": "text/x-python",
   "name": "python",
   "nbconvert_exporter": "python",
   "pygments_lexer": "ipython3",
   "version": "3.10.11"
  }
 },
 "nbformat": 4,
 "nbformat_minor": 2
}
