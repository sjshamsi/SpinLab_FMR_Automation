{
 "cells": [
  {
   "cell_type": "code",
   "execution_count": 1,
   "metadata": {},
   "outputs": [],
   "source": [
    "from fmr_experiment import Experiment, get_midpoint\n",
    "import numpy as np"
   ]
  },
  {
   "cell_type": "code",
   "execution_count": 2,
   "metadata": {},
   "outputs": [
    {
     "name": "stderr",
     "output_type": "stream",
     "text": [
      "C:\\Users\\physlab\\AppData\\Local\\Temp\\ipykernel_7216\\761868469.py:4: MatplotlibDeprecationWarning: The seaborn styles shipped by Matplotlib are deprecated since 3.6, as they no longer correspond to the styles shipped by seaborn. However, they will remain available as 'seaborn-v0_8-<style>'. Alternatively, directly use the seaborn API instead.\n",
      "  plt.style.use('seaborn')\n"
     ]
    }
   ],
   "source": [
    "%matplotlib qt\n",
    "\n",
    "import matplotlib.pyplot as plt\n",
    "plt.style.use('seaborn')"
   ]
  },
  {
   "cell_type": "code",
   "execution_count": 3,
   "metadata": {},
   "outputs": [
    {
     "name": "stdout",
     "output_type": "stream",
     "text": [
      "Welcome to the FMR Experiment!\n",
      "You might want to update some experiment parameters.\n",
      "The parameters presently are:\n",
      "\n",
      "PS Output Current (A) :\t 3.13115\n",
      "PS Output Voltage (V) :\t 30.6614\n",
      "PS Output Mode (Current/Voltage) :\t Constant Current\n",
      "SG Frequency :\t FR03000000000HZ\n",
      "SG RF Output :\t On\n",
      "SG RF Output Level :\t LE-70.0DM\n",
      "LIA Time Constant :\t 0.3\n",
      "From 0 Delay (s) :\t 3\n",
      "Sensivity Delay (s) :\t 3\n",
      "Log File :\t c:\\Users\\physlab\\Desktop\\FMR_Python_Automation\\SpinLab_FMR_Automation\\Experiment_Logs\\FMR_log_2023-6-12_13-20-42.log\n"
     ]
    }
   ],
   "source": [
    "E = Experiment()"
   ]
  },
  {
   "cell_type": "code",
   "execution_count": null,
   "metadata": {},
   "outputs": [],
   "source": [
    "field_range = np.linspace(-200, 200, 200)\n",
    "savedir = r'C:\\Users\\physlab\\Desktop\\FMR_Python_Automation\\Data\\2d_exp'\n",
    "\n",
    "for freq in np.linspace(2, 10, 200):\n",
    "    E.field_sweep(freq, field_range, savedir)"
   ]
  },
  {
   "cell_type": "code",
   "execution_count": 6,
   "metadata": {},
   "outputs": [
    {
     "name": "stderr",
     "output_type": "stream",
     "text": [
      "c:\\Users\\physlab\\Desktop\\FMR_Python_Automation\\SpinLab_FMR_Automation\\fmr_experiment.py:335: UserWarning: Attempting to set identical low and high xlims makes transformation singular; automatically expanding.\n",
      "  self.ax.set_xlim(min(xdata), max(xdata))\n"
     ]
    }
   ],
   "source": [
    "E.SG.level = '-3'\n",
    "dir = r'C:\\Users\\physlab\\Desktop'\n",
    "\n",
    "E.sweep_field(3.0, np.linspace(0, 120, 100), save_dir=dir, read_reps=2, avg_func=np.average)"
   ]
  },
  {
   "cell_type": "code",
   "execution_count": null,
   "metadata": {},
   "outputs": [],
   "source": []
  },
  {
   "cell_type": "code",
   "execution_count": 4,
   "metadata": {},
   "outputs": [
    {
     "name": "stderr",
     "output_type": "stream",
     "text": [
      "c:\\Users\\physlab\\Desktop\\FMR_Python_Automation\\SpinLab_FMR_Automation\\fmr_experiment.py:313: UserWarning: Attempting to set identical low and high xlims makes transformation singular; automatically expanding.\n",
      "  self.ax.set_xlim(min(xdata), max(xdata))\n",
      "c:\\Users\\physlab\\Desktop\\FMR_Python_Automation\\SpinLab_FMR_Automation\\fmr_experiment.py:313: UserWarning: Attempting to set identical low and high xlims makes transformation singular; automatically expanding.\n",
      "  self.ax.set_xlim(min(xdata), max(xdata))\n",
      "c:\\Users\\physlab\\Desktop\\FMR_Python_Automation\\SpinLab_FMR_Automation\\fmr_experiment.py:313: UserWarning: Attempting to set identical low and high xlims makes transformation singular; automatically expanding.\n",
      "  self.ax.set_xlim(min(xdata), max(xdata))\n",
      "c:\\Users\\physlab\\Desktop\\FMR_Python_Automation\\SpinLab_FMR_Automation\\fmr_experiment.py:313: UserWarning: Attempting to set identical low and high xlims makes transformation singular; automatically expanding.\n",
      "  self.ax.set_xlim(min(xdata), max(xdata))\n",
      "c:\\Users\\physlab\\Desktop\\FMR_Python_Automation\\SpinLab_FMR_Automation\\fmr_experiment.py:313: UserWarning: Attempting to set identical low and high xlims makes transformation singular; automatically expanding.\n",
      "  self.ax.set_xlim(min(xdata), max(xdata))\n",
      "c:\\Users\\physlab\\Desktop\\FMR_Python_Automation\\SpinLab_FMR_Automation\\fmr_experiment.py:313: UserWarning: Attempting to set identical low and high xlims makes transformation singular; automatically expanding.\n",
      "  self.ax.set_xlim(min(xdata), max(xdata))\n",
      "c:\\Users\\physlab\\Desktop\\FMR_Python_Automation\\SpinLab_FMR_Automation\\fmr_experiment.py:313: UserWarning: Attempting to set identical low and high xlims makes transformation singular; automatically expanding.\n",
      "  self.ax.set_xlim(min(xdata), max(xdata))\n",
      "c:\\Users\\physlab\\Desktop\\FMR_Python_Automation\\SpinLab_FMR_Automation\\fmr_experiment.py:313: UserWarning: Attempting to set identical low and high xlims makes transformation singular; automatically expanding.\n",
      "  self.ax.set_xlim(min(xdata), max(xdata))\n",
      "c:\\Users\\physlab\\Desktop\\FMR_Python_Automation\\SpinLab_FMR_Automation\\fmr_experiment.py:313: UserWarning: Attempting to set identical low and high xlims makes transformation singular; automatically expanding.\n",
      "  self.ax.set_xlim(min(xdata), max(xdata))\n",
      "c:\\Users\\physlab\\Desktop\\FMR_Python_Automation\\SpinLab_FMR_Automation\\fmr_experiment.py:313: UserWarning: Attempting to set identical low and high xlims makes transformation singular; automatically expanding.\n",
      "  self.ax.set_xlim(min(xdata), max(xdata))\n",
      "c:\\Users\\physlab\\Desktop\\FMR_Python_Automation\\SpinLab_FMR_Automation\\fmr_experiment.py:313: UserWarning: Attempting to set identical low and high xlims makes transformation singular; automatically expanding.\n",
      "  self.ax.set_xlim(min(xdata), max(xdata))\n",
      "c:\\Users\\physlab\\Desktop\\FMR_Python_Automation\\SpinLab_FMR_Automation\\fmr_experiment.py:313: UserWarning: Attempting to set identical low and high xlims makes transformation singular; automatically expanding.\n",
      "  self.ax.set_xlim(min(xdata), max(xdata))\n",
      "c:\\Users\\physlab\\Desktop\\FMR_Python_Automation\\SpinLab_FMR_Automation\\fmr_experiment.py:313: UserWarning: Attempting to set identical low and high xlims makes transformation singular; automatically expanding.\n",
      "  self.ax.set_xlim(min(xdata), max(xdata))\n",
      "c:\\Users\\physlab\\Desktop\\FMR_Python_Automation\\SpinLab_FMR_Automation\\fmr_experiment.py:313: UserWarning: Attempting to set identical low and high xlims makes transformation singular; automatically expanding.\n",
      "  self.ax.set_xlim(min(xdata), max(xdata))\n",
      "c:\\Users\\physlab\\Desktop\\FMR_Python_Automation\\SpinLab_FMR_Automation\\fmr_experiment.py:313: UserWarning: Attempting to set identical low and high xlims makes transformation singular; automatically expanding.\n",
      "  self.ax.set_xlim(min(xdata), max(xdata))\n",
      "c:\\Users\\physlab\\Desktop\\FMR_Python_Automation\\SpinLab_FMR_Automation\\fmr_experiment.py:313: UserWarning: Attempting to set identical low and high xlims makes transformation singular; automatically expanding.\n",
      "  self.ax.set_xlim(min(xdata), max(xdata))\n",
      "c:\\Users\\physlab\\Desktop\\FMR_Python_Automation\\SpinLab_FMR_Automation\\fmr_experiment.py:313: UserWarning: Attempting to set identical low and high xlims makes transformation singular; automatically expanding.\n",
      "  self.ax.set_xlim(min(xdata), max(xdata))\n",
      "c:\\Users\\physlab\\Desktop\\FMR_Python_Automation\\SpinLab_FMR_Automation\\fmr_experiment.py:313: UserWarning: Attempting to set identical low and high xlims makes transformation singular; automatically expanding.\n",
      "  self.ax.set_xlim(min(xdata), max(xdata))\n",
      "c:\\Users\\physlab\\Desktop\\FMR_Python_Automation\\SpinLab_FMR_Automation\\fmr_experiment.py:313: UserWarning: Attempting to set identical low and high xlims makes transformation singular; automatically expanding.\n",
      "  self.ax.set_xlim(min(xdata), max(xdata))\n",
      "c:\\Users\\physlab\\Desktop\\FMR_Python_Automation\\SpinLab_FMR_Automation\\fmr_experiment.py:313: UserWarning: Attempting to set identical low and high xlims makes transformation singular; automatically expanding.\n",
      "  self.ax.set_xlim(min(xdata), max(xdata))\n",
      "c:\\Users\\physlab\\Desktop\\FMR_Python_Automation\\SpinLab_FMR_Automation\\fmr_experiment.py:313: UserWarning: Attempting to set identical low and high xlims makes transformation singular; automatically expanding.\n",
      "  self.ax.set_xlim(min(xdata), max(xdata))\n",
      "c:\\Users\\physlab\\Desktop\\FMR_Python_Automation\\SpinLab_FMR_Automation\\fmr_experiment.py:313: UserWarning: Attempting to set identical low and high xlims makes transformation singular; automatically expanding.\n",
      "  self.ax.set_xlim(min(xdata), max(xdata))\n",
      "c:\\Users\\physlab\\Desktop\\FMR_Python_Automation\\SpinLab_FMR_Automation\\fmr_experiment.py:313: UserWarning: Attempting to set identical low and high xlims makes transformation singular; automatically expanding.\n",
      "  self.ax.set_xlim(min(xdata), max(xdata))\n",
      "c:\\Users\\physlab\\Desktop\\FMR_Python_Automation\\SpinLab_FMR_Automation\\fmr_experiment.py:313: UserWarning: Attempting to set identical low and high xlims makes transformation singular; automatically expanding.\n",
      "  self.ax.set_xlim(min(xdata), max(xdata))\n",
      "c:\\Users\\physlab\\Desktop\\FMR_Python_Automation\\SpinLab_FMR_Automation\\fmr_experiment.py:313: UserWarning: Attempting to set identical low and high xlims makes transformation singular; automatically expanding.\n",
      "  self.ax.set_xlim(min(xdata), max(xdata))\n",
      "c:\\Users\\physlab\\Desktop\\FMR_Python_Automation\\SpinLab_FMR_Automation\\fmr_experiment.py:313: UserWarning: Attempting to set identical low and high xlims makes transformation singular; automatically expanding.\n",
      "  self.ax.set_xlim(min(xdata), max(xdata))\n",
      "c:\\Users\\physlab\\Desktop\\FMR_Python_Automation\\SpinLab_FMR_Automation\\fmr_experiment.py:313: UserWarning: Attempting to set identical low and high xlims makes transformation singular; automatically expanding.\n",
      "  self.ax.set_xlim(min(xdata), max(xdata))\n",
      "c:\\Users\\physlab\\Desktop\\FMR_Python_Automation\\SpinLab_FMR_Automation\\fmr_experiment.py:313: UserWarning: Attempting to set identical low and high xlims makes transformation singular; automatically expanding.\n",
      "  self.ax.set_xlim(min(xdata), max(xdata))\n",
      "c:\\Users\\physlab\\Desktop\\FMR_Python_Automation\\SpinLab_FMR_Automation\\fmr_experiment.py:313: UserWarning: Attempting to set identical low and high xlims makes transformation singular; automatically expanding.\n",
      "  self.ax.set_xlim(min(xdata), max(xdata))\n",
      "c:\\Users\\physlab\\Desktop\\FMR_Python_Automation\\SpinLab_FMR_Automation\\fmr_experiment.py:313: UserWarning: Attempting to set identical low and high xlims makes transformation singular; automatically expanding.\n",
      "  self.ax.set_xlim(min(xdata), max(xdata))\n",
      "c:\\Users\\physlab\\Desktop\\FMR_Python_Automation\\SpinLab_FMR_Automation\\fmr_experiment.py:313: UserWarning: Attempting to set identical low and high xlims makes transformation singular; automatically expanding.\n",
      "  self.ax.set_xlim(min(xdata), max(xdata))\n",
      "c:\\Users\\physlab\\Desktop\\FMR_Python_Automation\\SpinLab_FMR_Automation\\fmr_experiment.py:313: UserWarning: Attempting to set identical low and high xlims makes transformation singular; automatically expanding.\n",
      "  self.ax.set_xlim(min(xdata), max(xdata))\n",
      "c:\\Users\\physlab\\Desktop\\FMR_Python_Automation\\SpinLab_FMR_Automation\\fmr_experiment.py:313: UserWarning: Attempting to set identical low and high xlims makes transformation singular; automatically expanding.\n",
      "  self.ax.set_xlim(min(xdata), max(xdata))\n",
      "c:\\Users\\physlab\\Desktop\\FMR_Python_Automation\\SpinLab_FMR_Automation\\fmr_experiment.py:313: UserWarning: Attempting to set identical low and high xlims makes transformation singular; automatically expanding.\n",
      "  self.ax.set_xlim(min(xdata), max(xdata))\n",
      "c:\\Users\\physlab\\Desktop\\FMR_Python_Automation\\SpinLab_FMR_Automation\\fmr_experiment.py:313: UserWarning: Attempting to set identical low and high xlims makes transformation singular; automatically expanding.\n",
      "  self.ax.set_xlim(min(xdata), max(xdata))\n",
      "c:\\Users\\physlab\\Desktop\\FMR_Python_Automation\\SpinLab_FMR_Automation\\fmr_experiment.py:313: UserWarning: Attempting to set identical low and high xlims makes transformation singular; automatically expanding.\n",
      "  self.ax.set_xlim(min(xdata), max(xdata))\n",
      "c:\\Users\\physlab\\Desktop\\FMR_Python_Automation\\SpinLab_FMR_Automation\\fmr_experiment.py:313: UserWarning: Attempting to set identical low and high xlims makes transformation singular; automatically expanding.\n",
      "  self.ax.set_xlim(min(xdata), max(xdata))\n",
      "c:\\Users\\physlab\\Desktop\\FMR_Python_Automation\\SpinLab_FMR_Automation\\fmr_experiment.py:313: UserWarning: Attempting to set identical low and high xlims makes transformation singular; automatically expanding.\n",
      "  self.ax.set_xlim(min(xdata), max(xdata))\n",
      "c:\\Users\\physlab\\Desktop\\FMR_Python_Automation\\SpinLab_FMR_Automation\\fmr_experiment.py:313: UserWarning: Attempting to set identical low and high xlims makes transformation singular; automatically expanding.\n",
      "  self.ax.set_xlim(min(xdata), max(xdata))\n",
      "c:\\Users\\physlab\\Desktop\\FMR_Python_Automation\\SpinLab_FMR_Automation\\fmr_experiment.py:313: UserWarning: Attempting to set identical low and high xlims makes transformation singular; automatically expanding.\n",
      "  self.ax.set_xlim(min(xdata), max(xdata))\n",
      "c:\\Users\\physlab\\Desktop\\FMR_Python_Automation\\SpinLab_FMR_Automation\\fmr_experiment.py:313: UserWarning: Attempting to set identical low and high xlims makes transformation singular; automatically expanding.\n",
      "  self.ax.set_xlim(min(xdata), max(xdata))\n",
      "c:\\Users\\physlab\\Desktop\\FMR_Python_Automation\\SpinLab_FMR_Automation\\fmr_experiment.py:313: UserWarning: Attempting to set identical low and high xlims makes transformation singular; automatically expanding.\n",
      "  self.ax.set_xlim(min(xdata), max(xdata))\n",
      "c:\\Users\\physlab\\Desktop\\FMR_Python_Automation\\SpinLab_FMR_Automation\\fmr_experiment.py:313: UserWarning: Attempting to set identical low and high xlims makes transformation singular; automatically expanding.\n",
      "  self.ax.set_xlim(min(xdata), max(xdata))\n",
      "c:\\Users\\physlab\\Desktop\\FMR_Python_Automation\\SpinLab_FMR_Automation\\fmr_experiment.py:313: UserWarning: Attempting to set identical low and high xlims makes transformation singular; automatically expanding.\n",
      "  self.ax.set_xlim(min(xdata), max(xdata))\n",
      "c:\\Users\\physlab\\Desktop\\FMR_Python_Automation\\SpinLab_FMR_Automation\\fmr_experiment.py:313: UserWarning: Attempting to set identical low and high xlims makes transformation singular; automatically expanding.\n",
      "  self.ax.set_xlim(min(xdata), max(xdata))\n",
      "c:\\Users\\physlab\\Desktop\\FMR_Python_Automation\\SpinLab_FMR_Automation\\fmr_experiment.py:313: UserWarning: Attempting to set identical low and high xlims makes transformation singular; automatically expanding.\n",
      "  self.ax.set_xlim(min(xdata), max(xdata))\n",
      "c:\\Users\\physlab\\Desktop\\FMR_Python_Automation\\SpinLab_FMR_Automation\\fmr_experiment.py:313: UserWarning: Attempting to set identical low and high xlims makes transformation singular; automatically expanding.\n",
      "  self.ax.set_xlim(min(xdata), max(xdata))\n",
      "c:\\Users\\physlab\\Desktop\\FMR_Python_Automation\\SpinLab_FMR_Automation\\fmr_experiment.py:313: UserWarning: Attempting to set identical low and high xlims makes transformation singular; automatically expanding.\n",
      "  self.ax.set_xlim(min(xdata), max(xdata))\n",
      "c:\\Users\\physlab\\Desktop\\FMR_Python_Automation\\SpinLab_FMR_Automation\\fmr_experiment.py:313: UserWarning: Attempting to set identical low and high xlims makes transformation singular; automatically expanding.\n",
      "  self.ax.set_xlim(min(xdata), max(xdata))\n",
      "c:\\Users\\physlab\\Desktop\\FMR_Python_Automation\\SpinLab_FMR_Automation\\fmr_experiment.py:313: UserWarning: Attempting to set identical low and high xlims makes transformation singular; automatically expanding.\n",
      "  self.ax.set_xlim(min(xdata), max(xdata))\n"
     ]
    }
   ],
   "source": [
    "E.SG.level = '-3'\n",
    "dir = r'C:\\Users\\physlab\\Desktop\\FMR_Python_Automation\\Data\\2d_exp'\n",
    "\n",
    "E.make_2D_figs(np.linspace(2, 3, 10), np.linspace(-100, 100, 50), save_dir=dir, read_delay=0.02, primary='fields')"
   ]
  },
  {
   "cell_type": "code",
   "execution_count": 7,
   "metadata": {},
   "outputs": [
    {
     "data": {
      "text/plain": [
       "<matplotlib.image.AxesImage at 0x1964467fa00>"
      ]
     },
     "execution_count": 7,
     "metadata": {},
     "output_type": "execute_result"
    }
   ],
   "source": [
    "arr = np.load(dir + '\\\\frequency_2-2_GHz_field_-200-200_Oe_-3_dB.npy')\n",
    "plt.imshow(arr)"
   ]
  },
  {
   "cell_type": "code",
   "execution_count": 17,
   "metadata": {},
   "outputs": [
    {
     "data": {
      "text/plain": [
       "array([2.        , 2.33333333, 2.66666667, 3.        , 3.33333333,\n",
       "       3.66666667, 4.        , 4.33333333, 4.66666667, 5.        ])"
      ]
     },
     "execution_count": 17,
     "metadata": {},
     "output_type": "execute_result"
    }
   ],
   "source": []
  },
  {
   "cell_type": "code",
   "execution_count": 22,
   "metadata": {},
   "outputs": [
    {
     "data": {
      "text/plain": [
       "array([[-196., -188., -180., -172., -164., -156., -148., -140., -132.,\n",
       "        -124., -116., -108., -100.,  -92.,  -84.,  -76.,  -68.,  -60.,\n",
       "         -52.,  -44.,  -36.,  -28.,  -20.,  -12.,   -4.,    4.,   12.,\n",
       "          20.,   28.,   36.,   44.,   52.,   60.,   68.,   76.,   84.,\n",
       "          92.,  100.,  108.,  116.,  124.,  132.,  140.,  148.,  156.,\n",
       "         164.,  172.,  180.,  188.,  196.],\n",
       "       [-196., -188., -180., -172., -164., -156., -148., -140., -132.,\n",
       "        -124., -116., -108., -100.,  -92.,  -84.,  -76.,  -68.,  -60.,\n",
       "         -52.,  -44.,  -36.,  -28.,  -20.,  -12.,   -4.,    4.,   12.,\n",
       "          20.,   28.,   36.,   44.,   52.,   60.,   68.,   76.,   84.,\n",
       "          92.,  100.,  108.,  116.,  124.,  132.,  140.,  148.,  156.,\n",
       "         164.,  172.,  180.,  188.,  196.],\n",
       "       [-196., -188., -180., -172., -164., -156., -148., -140., -132.,\n",
       "        -124., -116., -108., -100.,  -92.,  -84.,  -76.,  -68.,  -60.,\n",
       "         -52.,  -44.,  -36.,  -28.,  -20.,  -12.,   -4.,    4.,   12.,\n",
       "          20.,   28.,   36.,   44.,   52.,   60.,   68.,   76.,   84.,\n",
       "          92.,  100.,  108.,  116.,  124.,  132.,  140.,  148.,  156.,\n",
       "         164.,  172.,  180.,  188.,  196.],\n",
       "       [-196., -188., -180., -172., -164., -156., -148., -140., -132.,\n",
       "        -124., -116., -108., -100.,  -92.,  -84.,  -76.,  -68.,  -60.,\n",
       "         -52.,  -44.,  -36.,  -28.,  -20.,  -12.,   -4.,    4.,   12.,\n",
       "          20.,   28.,   36.,   44.,   52.,   60.,   68.,   76.,   84.,\n",
       "          92.,  100.,  108.,  116.,  124.,  132.,  140.,  148.,  156.,\n",
       "         164.,  172.,  180.,  188.,  196.],\n",
       "       [-196., -188., -180., -172., -164., -156., -148., -140., -132.,\n",
       "        -124., -116., -108., -100.,  -92.,  -84.,  -76.,  -68.,  -60.,\n",
       "         -52.,  -44.,  -36.,  -28.,  -20.,  -12.,   -4.,    4.,   12.,\n",
       "          20.,   28.,   36.,   44.,   52.,   60.,   68.,   76.,   84.,\n",
       "          92.,  100.,  108.,  116.,  124.,  132.,  140.,  148.,  156.,\n",
       "         164.,  172.,  180.,  188.,  196.],\n",
       "       [-196., -188., -180., -172., -164., -156., -148., -140., -132.,\n",
       "        -124., -116., -108., -100.,  -92.,  -84.,  -76.,  -68.,  -60.,\n",
       "         -52.,  -44.,  -36.,  -28.,  -20.,  -12.,   -4.,    4.,   12.,\n",
       "          20.,   28.,   36.,   44.,   52.,   60.,   68.,   76.,   84.,\n",
       "          92.,  100.,  108.,  116.,  124.,  132.,  140.,  148.,  156.,\n",
       "         164.,  172.,  180.,  188.,  196.],\n",
       "       [-196., -188., -180., -172., -164., -156., -148., -140., -132.,\n",
       "        -124., -116., -108., -100.,  -92.,  -84.,  -76.,  -68.,  -60.,\n",
       "         -52.,  -44.,  -36.,  -28.,  -20.,  -12.,   -4.,    4.,   12.,\n",
       "          20.,   28.,   36.,   44.,   52.,   60.,   68.,   76.,   84.,\n",
       "          92.,  100.,  108.,  116.,  124.,  132.,  140.,  148.,  156.,\n",
       "         164.,  172.,  180.,  188.,  196.],\n",
       "       [-196., -188., -180., -172., -164., -156., -148., -140., -132.,\n",
       "        -124., -116., -108., -100.,  -92.,  -84.,  -76.,  -68.,  -60.,\n",
       "         -52.,  -44.,  -36.,  -28.,  -20.,  -12.,   -4.,    4.,   12.,\n",
       "          20.,   28.,   36.,   44.,   52.,   60.,   68.,   76.,   84.,\n",
       "          92.,  100.,  108.,  116.,  124.,  132.,  140.,  148.,  156.,\n",
       "         164.,  172.,  180.,  188.,  196.],\n",
       "       [-196., -188., -180., -172., -164., -156., -148., -140., -132.,\n",
       "        -124., -116., -108., -100.,  -92.,  -84.,  -76.,  -68.,  -60.,\n",
       "         -52.,  -44.,  -36.,  -28.,  -20.,  -12.,   -4.,    4.,   12.,\n",
       "          20.,   28.,   36.,   44.,   52.,   60.,   68.,   76.,   84.,\n",
       "          92.,  100.,  108.,  116.,  124.,  132.,  140.,  148.,  156.,\n",
       "         164.,  172.,  180.,  188.,  196.],\n",
       "       [-196., -188., -180., -172., -164., -156., -148., -140., -132.,\n",
       "        -124., -116., -108., -100.,  -92.,  -84.,  -76.,  -68.,  -60.,\n",
       "         -52.,  -44.,  -36.,  -28.,  -20.,  -12.,   -4.,    4.,   12.,\n",
       "          20.,   28.,   36.,   44.,   52.,   60.,   68.,   76.,   84.,\n",
       "          92.,  100.,  108.,  116.,  124.,  132.,  140.,  148.,  156.,\n",
       "         164.,  172.,  180.,  188.,  196.]])"
      ]
     },
     "execution_count": 22,
     "metadata": {},
     "output_type": "execute_result"
    }
   ],
   "source": [
    "X"
   ]
  },
  {
   "cell_type": "code",
   "execution_count": 34,
   "metadata": {},
   "outputs": [
    {
     "data": {
      "text/plain": [
       "array([-200.        , -191.83673469, -183.67346939, -175.51020408,\n",
       "       -167.34693878, -159.18367347, -151.02040816, -142.85714286,\n",
       "       -134.69387755, -126.53061224, -118.36734694, -110.20408163,\n",
       "       -102.04081633,  -93.87755102,  -85.71428571,  -77.55102041,\n",
       "        -69.3877551 ,  -61.2244898 ,  -53.06122449,  -44.89795918,\n",
       "        -36.73469388,  -28.57142857,  -20.40816327,  -12.24489796,\n",
       "         -4.08163265,    4.08163265,   12.24489796,   20.40816327,\n",
       "         28.57142857,   36.73469388,   44.89795918,   53.06122449,\n",
       "         61.2244898 ,   69.3877551 ,   77.55102041,   85.71428571,\n",
       "         93.87755102,  102.04081633,  110.20408163,  118.36734694,\n",
       "        126.53061224,  134.69387755,  142.85714286,  151.02040816,\n",
       "        159.18367347,  167.34693878,  175.51020408,  183.67346939,\n",
       "        191.83673469,  200.        ])"
      ]
     },
     "execution_count": 34,
     "metadata": {},
     "output_type": "execute_result"
    }
   ],
   "source": [
    "x"
   ]
  },
  {
   "cell_type": "code",
   "execution_count": 37,
   "metadata": {},
   "outputs": [
    {
     "data": {
      "text/plain": [
       "array([4.85, 4.85, 4.85, 4.85, 4.85, 4.85, 4.85, 4.85, 4.85, 4.85, 4.85,\n",
       "       4.85, 4.85, 4.85, 4.85, 4.85, 4.85, 4.85, 4.85, 4.85, 4.85, 4.85,\n",
       "       4.85, 4.85, 4.85, 4.85, 4.85, 4.85, 4.85, 4.85, 4.85, 4.85, 4.85,\n",
       "       4.85, 4.85, 4.85, 4.85, 4.85, 4.85, 4.85, 4.85, 4.85, 4.85, 4.85,\n",
       "       4.85, 4.85, 4.85, 4.85, 4.85, 4.85])"
      ]
     },
     "execution_count": 37,
     "metadata": {},
     "output_type": "execute_result"
    }
   ],
   "source": [
    "Y[-1]"
   ]
  },
  {
   "cell_type": "code",
   "execution_count": 50,
   "metadata": {},
   "outputs": [
    {
     "data": {
      "text/plain": [
       "Text(0, 0.5, 'Frequency (GHz)')"
      ]
     },
     "execution_count": 50,
     "metadata": {},
     "output_type": "execute_result"
    }
   ],
   "source": [
    "x = np.linspace(-200, 200, 51)\n",
    "y = np.linspace(2, 5, 11)\n",
    "x_center = 0.5 * (x[:-1] + x[1:])\n",
    "y_center = 0.5 * (y[:-1] + y[1:])\n",
    "\n",
    "X, Y = np.meshgrid(x_center, y_center)\n",
    "\n",
    "z = arr\n",
    "plt.figure(figsize=(10,7))\n",
    "plot = plt.pcolormesh(x, y, z, cmap='viridis')\n",
    "plt.colorbar(plot)\n",
    "plt.xlabel('Field (Oe)')\n",
    "plt.ylabel('Frequency (GHz)')\n",
    "# plt.set_aspect('equal')"
   ]
  },
  {
   "cell_type": "code",
   "execution_count": 30,
   "metadata": {},
   "outputs": [
    {
     "data": {
      "text/plain": [
       "(49,)"
      ]
     },
     "execution_count": 30,
     "metadata": {},
     "output_type": "execute_result"
    }
   ],
   "source": [
    "X[0].shape"
   ]
  },
  {
   "cell_type": "code",
   "execution_count": 4,
   "metadata": {},
   "outputs": [
    {
     "name": "stderr",
     "output_type": "stream",
     "text": [
      "c:\\Users\\physlab\\Desktop\\FMR Python Automation\\SpinLab_FMR_Automation\\fmr_experiment.py:212: UserWarning: Attempting to set identical low and high xlims makes transformation singular; automatically expanding.\n",
      "  self.ax.set_xlim(min(xdata), max(xdata))\n"
     ]
    }
   ],
   "source": [
    "E.SG.level = '-3'\n",
    "\n",
    "save_dir = r'C:\\Users\\physlab\\Desktop\\FMR Python Automation\\Data\\FMR_exp'\n",
    "E.sweep_field(2.0, np.linspace(0, 100, 100), save_dir=save_dir, savefig=True)"
   ]
  },
  {
   "cell_type": "code",
   "execution_count": 4,
   "metadata": {},
   "outputs": [
    {
     "name": "stderr",
     "output_type": "stream",
     "text": [
      "c:\\Users\\physlab\\Desktop\\FMR Python Automation\\SpinLab_FMR_Automation\\fmr_experiment.py:207: UserWarning: Attempting to set identical low and high xlims makes transformation singular; automatically expanding.\n",
      "  self.ax.set_xlim(min(xdata), max(xdata))\n"
     ]
    }
   ],
   "source": [
    "E.SG.level = '-3'\n",
    "\n",
    "save_dir = r'C:\\Users\\physlab\\Desktop\\FMR Python Automation\\Data\\FMR_exp'\n",
    "E.sweep_frequency(99.1, np.linspace(2, 4, 100), save_dir=save_dir, savefig=True, read_reps=5)"
   ]
  },
  {
   "cell_type": "code",
   "execution_count": 4,
   "metadata": {},
   "outputs": [
    {
     "name": "stdout",
     "output_type": "stream",
     "text": [
      "Welcome to the FMR Experiment!\n",
      "You might want to update some experiment parameters.\n",
      "The parameters presently are:\n",
      "\n",
      "PS Output Current (A) :\t 8.36336\n",
      "PS Output Voltage (V) :\t -45.9705\n",
      "PS Output Mode (Current/Voltage) :\t Constant Current\n",
      "SG Frequency :\t FR03000000000HZ\n",
      "SG RF Output :\t On\n",
      "SG RF Output Level :\t LE-70.0DM\n",
      "LIA Sensitivity :\t 0.0002\n",
      "Default Sensitivity :\t 0.0002\n",
      "LIA Time Constant :\t 0.3\n",
      "Read Delay (s) :\t 1\n",
      "From 0 Delay (s) :\t 5\n",
      "Sensivity Delay (s) :\t 5\n",
      "Read Repetition Delay :\t 0.1\n",
      "Read Repetitions :\t 30\n",
      "Log File :\t c:\\Users\\physlab\\Desktop\\FMR Python Automation\\SpinLab_FMR_Automation\\Experiment_Logs\\FMR_log_2023-6-9_19-48-46.log\n"
     ]
    }
   ],
   "source": [
    "E = Experiment()"
   ]
  },
  {
   "cell_type": "code",
   "execution_count": 9,
   "metadata": {},
   "outputs": [
    {
     "name": "stderr",
     "output_type": "stream",
     "text": [
      "c:\\Users\\physlab\\Desktop\\FMR Python Automation\\SpinLab_FMR_Automation\\experiment.py:243: UserWarning: Attempting to set identical low and high xlims makes transformation singular; automatically expanding.\n",
      "  self.ax.set_xlim(min(xdata), max(xdata))\n"
     ]
    },
    {
     "ename": "KeyboardInterrupt",
     "evalue": "",
     "output_type": "error",
     "traceback": [
      "\u001b[1;31m---------------------------------------------------------------------------\u001b[0m",
      "\u001b[1;31mKeyboardInterrupt\u001b[0m                         Traceback (most recent call last)",
      "Cell \u001b[1;32mIn[9], line 7\u001b[0m\n\u001b[0;32m      4\u001b[0m E\u001b[39m.\u001b[39mSG\u001b[39m.\u001b[39mlevel \u001b[39m=\u001b[39m \u001b[39m'\u001b[39m\u001b[39m-3\u001b[39m\u001b[39m'\u001b[39m\n\u001b[0;32m      6\u001b[0m save_dir \u001b[39m=\u001b[39m \u001b[39mr\u001b[39m\u001b[39m'\u001b[39m\u001b[39mC:\u001b[39m\u001b[39m\\\u001b[39m\u001b[39mUsers\u001b[39m\u001b[39m\\\u001b[39m\u001b[39mphyslab\u001b[39m\u001b[39m\\\u001b[39m\u001b[39mDesktop\u001b[39m\u001b[39m\\\u001b[39m\u001b[39mFMR Python Automation\u001b[39m\u001b[39m\\\u001b[39m\u001b[39mData\u001b[39m\u001b[39m\\\u001b[39m\u001b[39mNiFe_2_GPIB\u001b[39m\u001b[39m'\u001b[39m\n\u001b[1;32m----> 7\u001b[0m E\u001b[39m.\u001b[39;49msweep_field(\u001b[39m3.0\u001b[39;49m, np\u001b[39m.\u001b[39;49mlinspace(\u001b[39m0\u001b[39;49m, \u001b[39m170\u001b[39;49m, \u001b[39m200\u001b[39;49m), save_dir\u001b[39m=\u001b[39;49msave_dir, savefig\u001b[39m=\u001b[39;49m\u001b[39mTrue\u001b[39;49;00m)\n",
      "File \u001b[1;32mc:\\Users\\physlab\\Desktop\\FMR Python Automation\\SpinLab_FMR_Automation\\experiment.py:155\u001b[0m, in \u001b[0;36mExperiment.sweep_field\u001b[1;34m(self, frequency, fields, save_dir, savefig, closefig, default_sen)\u001b[0m\n\u001b[0;32m    153\u001b[0m \u001b[39mfor\u001b[39;00m i, current \u001b[39min\u001b[39;00m \u001b[39menumerate\u001b[39m(currents):\n\u001b[0;32m    154\u001b[0m     \u001b[39mself\u001b[39m\u001b[39m.\u001b[39mPS\u001b[39m.\u001b[39mcurrent \u001b[39m=\u001b[39m current\n\u001b[1;32m--> 155\u001b[0m     time\u001b[39m.\u001b[39;49msleep(\u001b[39mself\u001b[39;49m\u001b[39m.\u001b[39;49mread_delay)\n\u001b[0;32m    156\u001b[0m     X_array\u001b[39m.\u001b[39mappend(\u001b[39mself\u001b[39m\u001b[39m.\u001b[39mreadLIA(\u001b[39m'\u001b[39m\u001b[39mX\u001b[39m\u001b[39m'\u001b[39m, \u001b[39m'\u001b[39m\u001b[39mmean mid-50\u001b[39m\u001b[39m'\u001b[39m))\n\u001b[0;32m    157\u001b[0m     Y_array\u001b[39m.\u001b[39mappend(\u001b[39mself\u001b[39m\u001b[39m.\u001b[39mreadLIA(\u001b[39m'\u001b[39m\u001b[39mY\u001b[39m\u001b[39m'\u001b[39m, \u001b[39m'\u001b[39m\u001b[39mmean mid-50\u001b[39m\u001b[39m'\u001b[39m))\n",
      "\u001b[1;31mKeyboardInterrupt\u001b[0m: "
     ]
    }
   ],
   "source": [
    "E.read_delay = 1\n",
    "E.read_repetitions = 10\n",
    "E.read_repetition_delay = 0.1\n",
    "E.SG.level = '-3'\n",
    "\n",
    "save_dir = r'C:\\Users\\physlab\\Desktop\\FMR Python Automation\\Data\\NiFe_2_GPIB'\n",
    "E.sweep_field(3.0, np.linspace(0, 170, 200), save_dir=save_dir, savefig=True)"
   ]
  },
  {
   "cell_type": "code",
   "execution_count": 23,
   "metadata": {},
   "outputs": [
    {
     "name": "stdout",
     "output_type": "stream",
     "text": [
      "Welcome to the FMR Experiment!\n",
      "You might want to update some experiment parameters.\n",
      "The parameters presently are:\n",
      "\n",
      "PS Output Current (A) :\t 2.10769\n",
      "PS Output Voltage (V) :\t 51.2405\n",
      "PS Output Mode (Current/Voltage) :\t Constant Current\n",
      "SG Frequency :\t FR03000000000HZ\n",
      "SG RF Output :\t On\n",
      "SG RF Output Level :\t LE-70.0DM\n",
      "LIA Sensitivity :\t 0.0002\n",
      "Default Sensitivity :\t 0.0002\n",
      "LIA Time Constant :\t 0.3\n",
      "Read Delay (s) :\t 1\n",
      "From 0 Delay (s) :\t 5\n",
      "Sensivity Delay (s) :\t 5\n",
      "Read Repetition Delay :\t 0.1\n",
      "Read Repetitions :\t 30\n",
      "Log File :\t c:\\Users\\plyslab\\Desktop\\SpinLab_FMR_Automation\\Experiment_Logs\\FMR_log_2023-6-8_12-35-27.log\n"
     ]
    }
   ],
   "source": [
    "E = Experiment()\n",
    "\n",
    "E.read_delay = 0.5\n",
    "E.read_repetitions = 10\n",
    "E.read_repetition_delay = 0.1\n",
    "E.SG.level = '-3'\n",
    "\n",
    "save_dir = save_dir = r'C:\\Users\\physlab\\Desktop\\FMR Python Automation\\Data\\NiFe_2'\n",
    "E.sweep_field(4.0, np.linspace(70, 270, 200), save_dir=save_dir, savefig=True)"
   ]
  },
  {
   "cell_type": "code",
   "execution_count": 3,
   "metadata": {},
   "outputs": [
    {
     "name": "stdout",
     "output_type": "stream",
     "text": [
      "Welcome to the FMR Experiment!\n",
      "You might want to update some experiment parameters.\n",
      "The parameters presently are:\n",
      "\n",
      "PS Output Current (A) :\t 1.10977\n",
      "PS Output Voltage (V) :\t 43.3619\n",
      "PS Output Mode (Current/Voltage) :\t Constant Current\n",
      "SG Frequency :\t FR03000000000HZ\n",
      "SG RF Output :\t On\n",
      "SG RF Output Level :\t LE-70.0DM\n",
      "LIA Sensitivity :\t 0.0002\n",
      "Default Sensitivity :\t 0.0002\n",
      "LIA Time Constant :\t 0.3\n",
      "Read Delay (s) :\t 1\n",
      "From 0 Delay (s) :\t 5\n",
      "Sensivity Delay (s) :\t 5\n",
      "Read Repetition Delay :\t 0.1\n",
      "Read Repetitions :\t 30\n",
      "Log File :\t c:\\Users\\plyslab\\Desktop\\SpinLab_FMR_Automation\\Experiment_Logs\\FMR_log_2023-6-8_12-53-22.log\n"
     ]
    }
   ],
   "source": [
    "E = Experiment()"
   ]
  },
  {
   "cell_type": "code",
   "execution_count": 4,
   "metadata": {},
   "outputs": [
    {
     "name": "stdout",
     "output_type": "stream",
     "text": [
      "The parameters presently are:\n",
      "\n",
      "PS Output Current (A) :\t 8.36285\n",
      "PS Output Voltage (V) :\t 42.7767\n",
      "PS Output Mode (Current/Voltage) :\t Constant Current\n",
      "SG Frequency :\t FR03000000000HZ\n",
      "SG RF Output :\t On\n",
      "SG RF Output Level :\t LE-3.0DM\n",
      "LIA Sensitivity :\t 0.0002\n",
      "Default Sensitivity :\t 0.0002\n",
      "LIA Time Constant :\t 0.3\n",
      "Read Delay (s) :\t 0.5\n",
      "From 0 Delay (s) :\t 5\n",
      "Sensivity Delay (s) :\t 5\n",
      "Read Repetition Delay :\t 0.1\n",
      "Read Repetitions :\t 10\n",
      "Log File :\t c:\\Users\\plyslab\\Desktop\\SpinLab_FMR_Automation\\Experiment_Logs\\FMR_log_2023-6-8_12-53-22.log\n"
     ]
    },
    {
     "name": "stderr",
     "output_type": "stream",
     "text": [
      "c:\\Users\\plyslab\\Desktop\\SpinLab_FMR_Automation\\experiment.py:240: UserWarning: Attempting to set identical low and high xlims makes transformation singular; automatically expanding.\n",
      "  self.ax.set_xlim(min(xdata), max(xdata))\n"
     ]
    }
   ],
   "source": [
    "E.read_delay = 0.5\n",
    "E.read_repetitions = 10\n",
    "E.read_repetition_delay = 0.1\n",
    "E.SG.level = '-3'\n",
    "E.print_parameters()\n",
    "\n",
    "save_dir = save_dir = r'C:\\Users\\physlab\\Desktop\\FMR Python Automation\\Data\\NiFe_2'\n",
    "E.sweep_field(5.0, np.linspace(200, 400, 200), save_dir=save_dir, savefig=True)"
   ]
  },
  {
   "cell_type": "code",
   "execution_count": 6,
   "metadata": {},
   "outputs": [
    {
     "name": "stdout",
     "output_type": "stream",
     "text": [
      "The parameters presently are:\n",
      "\n",
      "PS Output Current (A) :\t 0.4604\n",
      "PS Output Voltage (V) :\t -52.1047\n",
      "PS Output Mode (Current/Voltage) :\t Constant Current\n",
      "SG Frequency :\t FR05000000000HZ\n",
      "SG RF Output :\t On\n",
      "SG RF Output Level :\t LE-3.0DM\n",
      "LIA Sensitivity :\t 0.0005\n",
      "Default Sensitivity :\t 0.0002\n",
      "LIA Time Constant :\t 0.3\n",
      "Read Delay (s) :\t 0.5\n",
      "From 0 Delay (s) :\t 5\n",
      "Sensivity Delay (s) :\t 5\n",
      "Read Repetition Delay :\t 0.1\n",
      "Read Repetitions :\t 10\n",
      "Log File :\t c:\\Users\\plyslab\\Desktop\\SpinLab_FMR_Automation\\Experiment_Logs\\FMR_log_2023-6-8_12-53-22.log\n"
     ]
    },
    {
     "name": "stderr",
     "output_type": "stream",
     "text": [
      "c:\\Users\\plyslab\\Desktop\\SpinLab_FMR_Automation\\experiment.py:240: UserWarning: Attempting to set identical low and high xlims makes transformation singular; automatically expanding.\n",
      "  self.ax.set_xlim(min(xdata), max(xdata))\n"
     ]
    }
   ],
   "source": [
    "E.read_delay = 0.5\n",
    "E.read_repetitions = 10\n",
    "E.read_repetition_delay = 0.1\n",
    "E.SG.level = '-3'\n",
    "E.print_parameters()\n",
    "\n",
    "save_dir = save_dir = r'C:\\Users\\physlab\\Desktop\\FMR Python Automation\\Data\\NiFe_2'\n",
    "E.sweep_field(6.0, np.linspace(300, 600, 250), save_dir=save_dir, savefig=True)"
   ]
  },
  {
   "cell_type": "code",
   "execution_count": 7,
   "metadata": {},
   "outputs": [
    {
     "name": "stdout",
     "output_type": "stream",
     "text": [
      "The parameters presently are:\n",
      "\n",
      "PS Output Current (A) :\t 7.31692\n",
      "PS Output Voltage (V) :\t 45.9961\n",
      "PS Output Mode (Current/Voltage) :\t Constant Current\n",
      "SG Frequency :\t FR06000000000HZ\n",
      "SG RF Output :\t On\n",
      "SG RF Output Level :\t LE-3.0DM\n",
      "LIA Sensitivity :\t 0.001\n",
      "Default Sensitivity :\t 0.0002\n",
      "LIA Time Constant :\t 0.3\n",
      "Read Delay (s) :\t 0.5\n",
      "From 0 Delay (s) :\t 5\n",
      "Sensivity Delay (s) :\t 5\n",
      "Read Repetition Delay :\t 0.1\n",
      "Read Repetitions :\t 15\n",
      "Log File :\t c:\\Users\\plyslab\\Desktop\\SpinLab_FMR_Automation\\Experiment_Logs\\FMR_log_2023-6-8_12-53-22.log\n"
     ]
    },
    {
     "name": "stderr",
     "output_type": "stream",
     "text": [
      "c:\\Users\\plyslab\\Desktop\\SpinLab_FMR_Automation\\experiment.py:240: UserWarning: Attempting to set identical low and high xlims makes transformation singular; automatically expanding.\n",
      "  self.ax.set_xlim(min(xdata), max(xdata))\n"
     ]
    }
   ],
   "source": [
    "E.read_delay = 0.5\n",
    "E.read_repetitions = 15\n",
    "E.read_repetition_delay = 0.1\n",
    "E.SG.level = '-3'\n",
    "E.print_parameters()\n",
    "\n",
    "save_dir = save_dir = r'C:\\Users\\physlab\\Desktop\\FMR Python Automation\\Data\\NiFe_2'\n",
    "E.sweep_field(7.0, np.linspace(400, 700, 250), save_dir=save_dir, savefig=True)"
   ]
  },
  {
   "cell_type": "code",
   "execution_count": 9,
   "metadata": {},
   "outputs": [
    {
     "name": "stdout",
     "output_type": "stream",
     "text": [
      "The parameters presently are:\n",
      "\n",
      "PS Output Current (A) :\t 5.23297\n",
      "PS Output Voltage (V) :\t 47.8473\n",
      "PS Output Mode (Current/Voltage) :\t Constant Current\n",
      "SG Frequency :\t FR07000000000HZ\n",
      "SG RF Output :\t On\n",
      "SG RF Output Level :\t LE-3.0DM\n",
      "LIA Sensitivity :\t 0.001\n",
      "Default Sensitivity :\t 0.0002\n",
      "LIA Time Constant :\t 0.3\n",
      "Read Delay (s) :\t 0.5\n",
      "From 0 Delay (s) :\t 5\n",
      "Sensivity Delay (s) :\t 5\n",
      "Read Repetition Delay :\t 0.1\n",
      "Read Repetitions :\t 15\n",
      "Log File :\t c:\\Users\\plyslab\\Desktop\\SpinLab_FMR_Automation\\Experiment_Logs\\FMR_log_2023-6-8_12-53-22.log\n"
     ]
    },
    {
     "name": "stderr",
     "output_type": "stream",
     "text": [
      "c:\\Users\\plyslab\\Desktop\\SpinLab_FMR_Automation\\experiment.py:240: UserWarning: Attempting to set identical low and high xlims makes transformation singular; automatically expanding.\n",
      "  self.ax.set_xlim(min(xdata), max(xdata))\n"
     ]
    }
   ],
   "source": [
    "E.read_delay = 0.5\n",
    "E.read_repetitions = 15\n",
    "E.read_repetition_delay = 0.1\n",
    "E.SG.level = '-3'\n",
    "E.print_parameters()\n",
    "\n",
    "save_dir = save_dir = r'C:\\Users\\physlab\\Desktop\\FMR Python Automation\\Data\\NiFe_2'\n",
    "E.sweep_field(8.0, np.linspace(550, 900, 300), save_dir=save_dir, savefig=True)"
   ]
  },
  {
   "cell_type": "code",
   "execution_count": 11,
   "metadata": {},
   "outputs": [
    {
     "name": "stdout",
     "output_type": "stream",
     "text": [
      "The parameters presently are:\n",
      "\n",
      "PS Output Current (A) :\t 1.07912\n",
      "PS Output Voltage (V) :\t -39.7152\n",
      "PS Output Mode (Current/Voltage) :\t Constant Current\n",
      "SG Frequency :\t FR08000000000HZ\n",
      "SG RF Output :\t On\n",
      "SG RF Output Level :\t LE-3.0DM\n",
      "LIA Sensitivity :\t 0.0005\n",
      "Default Sensitivity :\t 0.0002\n",
      "LIA Time Constant :\t 0.3\n",
      "Read Delay (s) :\t 0.5\n",
      "From 0 Delay (s) :\t 5\n",
      "Sensivity Delay (s) :\t 5\n",
      "Read Repetition Delay :\t 0.1\n",
      "Read Repetitions :\t 20\n",
      "Log File :\t c:\\Users\\plyslab\\Desktop\\SpinLab_FMR_Automation\\Experiment_Logs\\FMR_log_2023-6-8_12-53-22.log\n"
     ]
    }
   ],
   "source": [
    "E.read_delay = 0.5\n",
    "E.read_repetitions = 20\n",
    "E.read_repetition_delay = 0.1\n",
    "E.SG.level = '-3'\n",
    "E.print_parameters()\n",
    "\n",
    "save_dir = save_dir = r'C:\\Users\\physlab\\Desktop\\FMR Python Automation\\Data\\NiFe_2'\n",
    "E.sweep_field(9.0, np.linspace(700, 1050, 300), save_dir=save_dir, savefig=True)"
   ]
  },
  {
   "cell_type": "code",
   "execution_count": 13,
   "metadata": {},
   "outputs": [
    {
     "name": "stdout",
     "output_type": "stream",
     "text": [
      "The parameters presently are:\n",
      "\n",
      "PS Output Current (A) :\t 1.26425\n",
      "PS Output Voltage (V) :\t -50.8004\n",
      "PS Output Mode (Current/Voltage) :\t Constant Current\n",
      "SG Frequency :\t FR09000000000HZ\n",
      "SG RF Output :\t On\n",
      "SG RF Output Level :\t LE-3.0DM\n",
      "LIA Sensitivity :\t 0.0002\n",
      "Default Sensitivity :\t 0.0002\n",
      "LIA Time Constant :\t 0.3\n",
      "Read Delay (s) :\t 0.5\n",
      "From 0 Delay (s) :\t 5\n",
      "Sensivity Delay (s) :\t 5\n",
      "Read Repetition Delay :\t 0.1\n",
      "Read Repetitions :\t 30\n",
      "Log File :\t c:\\Users\\plyslab\\Desktop\\SpinLab_FMR_Automation\\Experiment_Logs\\FMR_log_2023-6-8_12-53-22.log\n"
     ]
    }
   ],
   "source": [
    "E.read_delay = 0.5\n",
    "E.read_repetitions = 30\n",
    "E.read_repetition_delay = 0.1\n",
    "E.SG.level = '-3'\n",
    "E.print_parameters()\n",
    "\n",
    "save_dir = save_dir = r'C:\\Users\\physlab\\Desktop\\FMR Python Automation\\Data\\NiFe_2'\n",
    "E.sweep_field(10.0, np.linspace(850, 1350, 300), save_dir=save_dir, savefig=True)"
   ]
  },
  {
   "cell_type": "code",
   "execution_count": 14,
   "metadata": {},
   "outputs": [
    {
     "name": "stdout",
     "output_type": "stream",
     "text": [
      "The parameters presently are:\n",
      "\n",
      "PS Output Current (A) :\t 3.14775\n",
      "PS Output Voltage (V) :\t 49.6715\n",
      "PS Output Mode (Current/Voltage) :\t Constant Current\n",
      "SG Frequency :\t FR10000000000HZ\n",
      "SG RF Output :\t On\n",
      "SG RF Output Level :\t LE-3.0DM\n",
      "LIA Sensitivity :\t 0.0005\n",
      "Default Sensitivity :\t 0.0002\n",
      "LIA Time Constant :\t 0.3\n",
      "Read Delay (s) :\t 0.5\n",
      "From 0 Delay (s) :\t 5\n",
      "Sensivity Delay (s) :\t 5\n",
      "Read Repetition Delay :\t 0.05\n",
      "Read Repetitions :\t 30\n",
      "Log File :\t c:\\Users\\plyslab\\Desktop\\SpinLab_FMR_Automation\\Experiment_Logs\\FMR_log_2023-6-8_12-53-22.log\n"
     ]
    },
    {
     "name": "stderr",
     "output_type": "stream",
     "text": [
      "c:\\Users\\plyslab\\Desktop\\SpinLab_FMR_Automation\\experiment.py:240: UserWarning: Attempting to set identical low and high xlims makes transformation singular; automatically expanding.\n",
      "  self.ax.set_xlim(min(xdata), max(xdata))\n"
     ]
    }
   ],
   "source": [
    "E.read_delay = 0.5\n",
    "E.read_repetitions = 30\n",
    "E.read_repetition_delay = 0.05\n",
    "E.SG.level = '-3'\n",
    "E.print_parameters()\n",
    "\n",
    "save_dir = save_dir = r'C:\\Users\\physlab\\Desktop\\FMR Python Automation\\Data\\NiFe_2'\n",
    "E.sweep_field(11.0, np.linspace(1050, 1550, 300), save_dir=save_dir, savefig=True)"
   ]
  },
  {
   "cell_type": "code",
   "execution_count": null,
   "metadata": {},
   "outputs": [],
   "source": [
    "E.read_delay = 0.5\n",
    "E.read_repetitions = 30\n",
    "E.read_repetition_delay = 0.05\n",
    "E.SG.level = '-3'\n",
    "E.print_parameters()\n",
    "\n",
    "save_dir = save_dir = r'C:\\Users\\physlab\\Desktop\\FMR Python Automation\\Data\\NiFe_2'\n",
    "E.sweep_field(11.0, np.linspace(1050, 1550, 300), save_dir=save_dir, savefig=True)"
   ]
  },
  {
   "cell_type": "markdown",
   "metadata": {},
   "source": [
    "We now have a lot of data to analyse.\n",
    "\n",
    "First, let's find out the midpoints for all our field sweeps."
   ]
  },
  {
   "cell_type": "code",
   "execution_count": 5,
   "metadata": {},
   "outputs": [],
   "source": [
    "import os\n",
    "import glob"
   ]
  },
  {
   "cell_type": "code",
   "execution_count": 6,
   "metadata": {},
   "outputs": [
    {
     "data": {
      "text/plain": [
       "['C:\\\\Users\\\\physlab\\\\Desktop\\\\FMR Python Automation\\\\Data\\\\NiFe_2\\\\freq_10.0_GHz_field_850.0-1350.0_Oe.csv',\n",
       " 'C:\\\\Users\\\\physlab\\\\Desktop\\\\FMR Python Automation\\\\Data\\\\NiFe_2\\\\freq_11.0_GHz_field_1050.0-1550.0_Oe.csv',\n",
       " 'C:\\\\Users\\\\physlab\\\\Desktop\\\\FMR Python Automation\\\\Data\\\\NiFe_2\\\\freq_2.0_GHz_field_0.0-100.0_Oe.csv',\n",
       " 'C:\\\\Users\\\\physlab\\\\Desktop\\\\FMR Python Automation\\\\Data\\\\NiFe_2\\\\freq_3.0_GHz_field_0.0-170.0_Oe.csv',\n",
       " 'C:\\\\Users\\\\physlab\\\\Desktop\\\\FMR Python Automation\\\\Data\\\\NiFe_2\\\\freq_4.0_GHz_field_70.0-270.0_Oe.csv',\n",
       " 'C:\\\\Users\\\\physlab\\\\Desktop\\\\FMR Python Automation\\\\Data\\\\NiFe_2\\\\freq_5.0_GHz_field_200.0-400.0_Oe.csv',\n",
       " 'C:\\\\Users\\\\physlab\\\\Desktop\\\\FMR Python Automation\\\\Data\\\\NiFe_2\\\\freq_6.0_GHz_field_300.0-600.0_Oe.csv',\n",
       " 'C:\\\\Users\\\\physlab\\\\Desktop\\\\FMR Python Automation\\\\Data\\\\NiFe_2\\\\freq_7.0_GHz_field_400.0-700.0_Oe.csv',\n",
       " 'C:\\\\Users\\\\physlab\\\\Desktop\\\\FMR Python Automation\\\\Data\\\\NiFe_2\\\\freq_8.0_GHz_field_550.0-900.0_Oe.csv',\n",
       " 'C:\\\\Users\\\\physlab\\\\Desktop\\\\FMR Python Automation\\\\Data\\\\NiFe_2\\\\freq_9.0_GHz_field_700.0-1050.0_Oe.csv']"
      ]
     },
     "execution_count": 6,
     "metadata": {},
     "output_type": "execute_result"
    }
   ],
   "source": [
    "csv_dir = r'C:\\Users\\physlab\\Desktop\\FMR Python Automation\\Data\\NiFe_2'\n",
    "csv_files = glob.glob(os.path.join(csv_dir, \"*.csv\"))\n",
    "csv_files"
   ]
  },
  {
   "cell_type": "code",
   "execution_count": 7,
   "metadata": {},
   "outputs": [],
   "source": [
    "swept_freqs = [float(x.split('\\\\')[-1].split('_')[1]) for x in csv_files]\n",
    "field_midpoints = [get_midpoint(x, channel='both') for x in csv_files]"
   ]
  },
  {
   "cell_type": "markdown",
   "metadata": {},
   "source": [
    "We will now do a frequency sweep at 2 GHz"
   ]
  },
  {
   "cell_type": "code",
   "execution_count": 13,
   "metadata": {},
   "outputs": [
    {
     "name": "stdout",
     "output_type": "stream",
     "text": [
      "Welcome to the FMR Experiment!\n",
      "You might want to update some experiment parameters.\n",
      "The parameters presently are:\n",
      "\n",
      "PS Output Current (A) :\t 4.20032\n",
      "PS Output Voltage (V) :\t -50.7494\n",
      "PS Output Mode (Current/Voltage) :\t Constant Current\n",
      "SG Frequency :\t FR03000000000HZ\n",
      "SG RF Output :\t On\n",
      "SG RF Output Level :\t LE-70.0DM\n",
      "LIA Sensitivity :\t 0.001\n",
      "Default Sensitivity :\t 0.0002\n",
      "LIA Time Constant :\t 0.3\n",
      "Read Delay (s) :\t 1\n",
      "From 0 Delay (s) :\t 5\n",
      "Sensivity Delay (s) :\t 5\n",
      "Read Repetition Delay :\t 0.1\n",
      "Read Repetitions :\t 30\n",
      "Log File :\t c:\\Users\\physlab\\Desktop\\FMR Python Automation\\SpinLab_FMR_Automation\\Experiment_Logs\\FMR_log_2023-6-10_13-55-5.log\n"
     ]
    }
   ],
   "source": [
    "E = Experiment()"
   ]
  },
  {
   "cell_type": "code",
   "execution_count": 17,
   "metadata": {},
   "outputs": [
    {
     "name": "stdout",
     "output_type": "stream",
     "text": [
      "The parameters presently are:\n",
      "\n",
      "PS Output Current (A) :\t 6.27737\n",
      "PS Output Voltage (V) :\t 45.3838\n",
      "PS Output Mode (Current/Voltage) :\t Constant Current\n",
      "SG Frequency :\t FR03500000000HZ\n",
      "SG RF Output :\t On\n",
      "SG RF Output Level :\t LE-3.0DM\n",
      "LIA Sensitivity :\t 0.002\n",
      "Default Sensitivity :\t 0.0002\n",
      "LIA Time Constant :\t 0.3\n",
      "Read Delay (s) :\t 0.5\n",
      "From 0 Delay (s) :\t 5\n",
      "Sensivity Delay (s) :\t 5\n",
      "Read Repetition Delay :\t 0.1\n",
      "Read Repetitions :\t 15\n",
      "Log File :\t c:\\Users\\physlab\\Desktop\\FMR Python Automation\\SpinLab_FMR_Automation\\Experiment_Logs\\FMR_log_2023-6-10_13-55-5.log\n"
     ]
    }
   ],
   "source": [
    "E.read_delay = 0.5\n",
    "E.read_repetitions = 15\n",
    "E.read_repetition_delay = 0.1\n",
    "E.SG.level = '-3'\n",
    "#E.default_sensitivity = 0.002\n",
    "E.print_parameters()"
   ]
  },
  {
   "cell_type": "code",
   "execution_count": 20,
   "metadata": {},
   "outputs": [
    {
     "name": "stdout",
     "output_type": "stream",
     "text": [
      "The parameters presently are:\n",
      "\n",
      "PS Output Current (A) :\t 0.03626\n",
      "PS Output Voltage (V) :\t 0.2646\n",
      "PS Output Mode (Current/Voltage) :\t Constant Current\n",
      "SG Frequency :\t FR06000000000HZ\n",
      "SG RF Output :\t On\n",
      "SG RF Output Level :\t LE-3.0DM\n",
      "LIA Sensitivity :\t 0.0002\n",
      "Default Sensitivity :\t 0.0002\n",
      "LIA Time Constant :\t 0.3\n",
      "Read Delay (s) :\t 0.01\n",
      "From 0 Delay (s) :\t 5\n",
      "Sensivity Delay (s) :\t 5\n",
      "Read Repetition Delay :\t 0.01\n",
      "Read Repetitions :\t 5\n",
      "Log File :\t c:\\Users\\physlab\\Desktop\\FMR Python Automation\\SpinLab_FMR_Automation\\Experiment_Logs\\FMR_log_2023-6-10_13-55-5.log\n"
     ]
    },
    {
     "name": "stderr",
     "output_type": "stream",
     "text": [
      "c:\\Users\\physlab\\Desktop\\FMR Python Automation\\SpinLab_FMR_Automation\\experiment.py:243: UserWarning: Attempting to set identical low and high xlims makes transformation singular; automatically expanding.\n",
      "  self.ax.set_xlim(min(xdata), max(xdata))\n"
     ]
    }
   ],
   "source": [
    "E.read_delay = 0.01\n",
    "E.read_repetitions = 5\n",
    "E.read_repetition_delay = 0.01\n",
    "E.SG.level = '-3'\n",
    "#E.default_sensitivity = 0.002\n",
    "E.print_parameters()\n",
    "\n",
    "save_dir = r'C:\\Users\\physlab\\Desktop\\FMR Python Automation\\Data\\NiFe_2_GPIB\\field_sweeps'\n",
    "E.sweep_frequency(field_midpoints[4], np.linspace(2, 8, 150), save_dir=save_dir)"
   ]
  },
  {
   "cell_type": "code",
   "execution_count": 21,
   "metadata": {},
   "outputs": [
    {
     "name": "stdout",
     "output_type": "stream",
     "text": [
      "The parameters presently are:\n",
      "\n",
      "PS Output Current (A) :\t 7.32126\n",
      "PS Output Voltage (V) :\t 33.0867\n",
      "PS Output Mode (Current/Voltage) :\t Constant Current\n",
      "SG Frequency :\t FR08000000000HZ\n",
      "SG RF Output :\t On\n",
      "SG RF Output Level :\t LE-3.0DM\n",
      "LIA Sensitivity :\t 0.001\n",
      "Default Sensitivity :\t 0.0002\n",
      "LIA Time Constant :\t 0.3\n",
      "Read Delay (s) :\t 0.01\n",
      "From 0 Delay (s) :\t 5\n",
      "Sensivity Delay (s) :\t 5\n",
      "Read Repetition Delay :\t 0.01\n",
      "Read Repetitions :\t 5\n",
      "Log File :\t c:\\Users\\physlab\\Desktop\\FMR Python Automation\\SpinLab_FMR_Automation\\Experiment_Logs\\FMR_log_2023-6-10_13-55-5.log\n"
     ]
    },
    {
     "name": "stderr",
     "output_type": "stream",
     "text": [
      "c:\\Users\\physlab\\Desktop\\FMR Python Automation\\SpinLab_FMR_Automation\\experiment.py:243: UserWarning: Attempting to set identical low and high xlims makes transformation singular; automatically expanding.\n",
      "  self.ax.set_xlim(min(xdata), max(xdata))\n"
     ]
    }
   ],
   "source": [
    "E.read_delay = 0.01\n",
    "E.read_repetitions = 5\n",
    "E.read_repetition_delay = 0.01\n",
    "E.SG.level = '-3'\n",
    "#E.default_sensitivity = 0.002\n",
    "E.print_parameters()\n",
    "\n",
    "save_dir = r'C:\\Users\\physlab\\Desktop\\FMR Python Automation\\Data\\NiFe_2_GPIB\\field_sweeps'\n",
    "E.sweep_frequency(400, np.linspace(6, 8, 150), save_dir=save_dir)"
   ]
  },
  {
   "cell_type": "code",
   "execution_count": 22,
   "metadata": {},
   "outputs": [
    {
     "name": "stdout",
     "output_type": "stream",
     "text": [
      "The parameters presently are:\n",
      "\n",
      "PS Output Current (A) :\t 6.27763\n",
      "PS Output Voltage (V) :\t 39.7247\n",
      "PS Output Mode (Current/Voltage) :\t Constant Current\n",
      "SG Frequency :\t FR08000000000HZ\n",
      "SG RF Output :\t On\n",
      "SG RF Output Level :\t LE-3.0DM\n",
      "LIA Sensitivity :\t 0.0005\n",
      "Default Sensitivity :\t 0.0002\n",
      "LIA Time Constant :\t 0.3\n",
      "Read Delay (s) :\t 0.01\n",
      "From 0 Delay (s) :\t 5\n",
      "Sensivity Delay (s) :\t 5\n",
      "Read Repetition Delay :\t 0.01\n",
      "Read Repetitions :\t 5\n",
      "Log File :\t c:\\Users\\physlab\\Desktop\\FMR Python Automation\\SpinLab_FMR_Automation\\Experiment_Logs\\FMR_log_2023-6-10_13-55-5.log\n"
     ]
    },
    {
     "name": "stderr",
     "output_type": "stream",
     "text": [
      "c:\\Users\\physlab\\Desktop\\FMR Python Automation\\SpinLab_FMR_Automation\\experiment.py:243: UserWarning: Attempting to set identical low and high xlims makes transformation singular; automatically expanding.\n",
      "  self.ax.set_xlim(min(xdata), max(xdata))\n"
     ]
    }
   ],
   "source": [
    "E.read_delay = 0.01\n",
    "E.read_repetitions = 5\n",
    "E.read_repetition_delay = 0.01\n",
    "E.SG.level = '-3'\n",
    "#E.default_sensitivity = 0.002\n",
    "E.print_parameters()\n",
    "\n",
    "save_dir = r'C:\\Users\\physlab\\Desktop\\FMR Python Automation\\Data\\NiFe_2_GPIB\\field_sweeps'\n",
    "E.sweep_frequency(field_midpoints[4], np.linspace(2, 10, 150), save_dir=save_dir)"
   ]
  },
  {
   "cell_type": "code",
   "execution_count": 23,
   "metadata": {},
   "outputs": [
    {
     "name": "stdout",
     "output_type": "stream",
     "text": [
      "The parameters presently are:\n",
      "\n",
      "PS Output Current (A) :\t 6.27788\n",
      "PS Output Voltage (V) :\t 45.733\n",
      "PS Output Mode (Current/Voltage) :\t Constant Current\n",
      "SG Frequency :\t FR10000000000HZ\n",
      "SG RF Output :\t On\n",
      "SG RF Output Level :\t LE-3.0DM\n",
      "LIA Sensitivity :\t 0.001\n",
      "Default Sensitivity :\t 0.0002\n",
      "LIA Time Constant :\t 0.3\n",
      "Read Delay (s) :\t 0.01\n",
      "From 0 Delay (s) :\t 5\n",
      "Sensivity Delay (s) :\t 5\n",
      "Read Repetition Delay :\t 0.01\n",
      "Read Repetitions :\t 5\n",
      "Log File :\t c:\\Users\\physlab\\Desktop\\FMR Python Automation\\SpinLab_FMR_Automation\\Experiment_Logs\\FMR_log_2023-6-10_13-55-5.log\n"
     ]
    },
    {
     "name": "stderr",
     "output_type": "stream",
     "text": [
      "c:\\Users\\physlab\\Desktop\\FMR Python Automation\\SpinLab_FMR_Automation\\experiment.py:243: UserWarning: Attempting to set identical low and high xlims makes transformation singular; automatically expanding.\n",
      "  self.ax.set_xlim(min(xdata), max(xdata))\n"
     ]
    }
   ],
   "source": [
    "E.read_delay = 0.01\n",
    "E.read_repetitions = 5\n",
    "E.read_repetition_delay = 0.01\n",
    "E.SG.level = '-3'\n",
    "#E.default_sensitivity = 0.002\n",
    "E.print_parameters()\n",
    "\n",
    "save_dir = r'C:\\Users\\physlab\\Desktop\\FMR Python Automation\\Data\\NiFe_2_GPIB\\field_sweeps'\n",
    "E.sweep_frequency(field_midpoints[4], np.linspace(2.01, 10.01, 150), save_dir=save_dir)"
   ]
  },
  {
   "cell_type": "code",
   "execution_count": 11,
   "metadata": {},
   "outputs": [
    {
     "name": "stderr",
     "output_type": "stream",
     "text": [
      "c:\\Users\\physlab\\Desktop\\FMR Python Automation\\SpinLab_FMR_Automation\\experiment.py:257: UserWarning: Attempting to set identical low and high xlims makes transformation singular; automatically expanding.\n",
      "  self.ax.set_xlim(min(xdata), max(xdata))\n",
      "c:\\Users\\physlab\\Desktop\\FMR Python Automation\\SpinLab_FMR_Automation\\experiment.py:257: UserWarning: Attempting to set identical low and high xlims makes transformation singular; automatically expanding.\n",
      "  self.ax.set_xlim(min(xdata), max(xdata))\n",
      "c:\\Users\\physlab\\Desktop\\FMR Python Automation\\SpinLab_FMR_Automation\\experiment.py:257: UserWarning: Attempting to set identical low and high xlims makes transformation singular; automatically expanding.\n",
      "  self.ax.set_xlim(min(xdata), max(xdata))\n",
      "c:\\Users\\physlab\\Desktop\\FMR Python Automation\\SpinLab_FMR_Automation\\experiment.py:257: UserWarning: Attempting to set identical low and high xlims makes transformation singular; automatically expanding.\n",
      "  self.ax.set_xlim(min(xdata), max(xdata))\n",
      "c:\\Users\\physlab\\Desktop\\FMR Python Automation\\SpinLab_FMR_Automation\\experiment.py:257: UserWarning: Attempting to set identical low and high xlims makes transformation singular; automatically expanding.\n",
      "  self.ax.set_xlim(min(xdata), max(xdata))\n",
      "c:\\Users\\physlab\\Desktop\\FMR Python Automation\\SpinLab_FMR_Automation\\experiment.py:257: UserWarning: Attempting to set identical low and high xlims makes transformation singular; automatically expanding.\n",
      "  self.ax.set_xlim(min(xdata), max(xdata))\n"
     ]
    }
   ],
   "source": [
    "E.read_delay = 0.01\n",
    "E.read_repetitions = 10\n",
    "E.read_repetition_delay = 0.01\n",
    "E.SG.level = '-3'\n",
    "\n",
    "save_dir = r'C:\\Users\\physlab\\Desktop\\FMR Python Automation\\Data\\NiFe_2_GPIB\\field_sweeps'\n",
    "\n",
    "for freq, field in zip(swept_freqs[4:], field_midpoints[4:]):\n",
    "    E.sweep_frequency(field, np.linspace(freq-2, freq+2, 200), save_dir=save_dir)"
   ]
  },
  {
   "cell_type": "code",
   "execution_count": 10,
   "metadata": {},
   "outputs": [
    {
     "data": {
      "text/plain": [
       "[4.0, 5.0, 6.0, 7.0, 8.0, 9.0]"
      ]
     },
     "execution_count": 10,
     "metadata": {},
     "output_type": "execute_result"
    }
   ],
   "source": [
    "swept_freqs[4:]"
   ]
  },
  {
   "cell_type": "code",
   "execution_count": 8,
   "metadata": {},
   "outputs": [],
   "source": [
    "a = np.array([1,2,3])"
   ]
  },
  {
   "cell_type": "code",
   "execution_count": 9,
   "metadata": {},
   "outputs": [
    {
     "data": {
      "text/plain": [
       "array([4, 1, 2, 3])"
      ]
     },
     "execution_count": 9,
     "metadata": {},
     "output_type": "execute_result"
    }
   ],
   "source": [
    "np.insert(a, 0, 4)"
   ]
  },
  {
   "cell_type": "code",
   "execution_count": 10,
   "metadata": {},
   "outputs": [
    {
     "data": {
      "text/plain": [
       "array([1, 2, 3])"
      ]
     },
     "execution_count": 10,
     "metadata": {},
     "output_type": "execute_result"
    }
   ],
   "source": [
    "a"
   ]
  },
  {
   "cell_type": "code",
   "execution_count": 12,
   "metadata": {},
   "outputs": [
    {
     "data": {
      "text/plain": [
       "array([0, 1, 2])"
      ]
     },
     "execution_count": 12,
     "metadata": {},
     "output_type": "execute_result"
    }
   ],
   "source": [
    "a - 1"
   ]
  },
  {
   "cell_type": "code",
   "execution_count": null,
   "metadata": {},
   "outputs": [],
   "source": []
  }
 ],
 "metadata": {
  "kernelspec": {
   "display_name": "Python 3 (ipykernel)",
   "language": "python",
   "name": "python3"
  },
  "language_info": {
   "codemirror_mode": {
    "name": "ipython",
    "version": 3
   },
   "file_extension": ".py",
   "mimetype": "text/x-python",
   "name": "python",
   "nbconvert_exporter": "python",
   "pygments_lexer": "ipython3",
   "version": "3.10.11"
  }
 },
 "nbformat": 4,
 "nbformat_minor": 2
}
