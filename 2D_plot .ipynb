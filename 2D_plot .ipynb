{
 "cells": [
  {
   "cell_type": "code",
   "execution_count": 1,
   "metadata": {},
   "outputs": [],
   "source": [
    "import numpy as np\n",
    "import pandas as pd\n",
    "import matplotlib.pyplot as plt"
   ]
  },
  {
   "cell_type": "code",
   "execution_count": 2,
   "metadata": {},
   "outputs": [
    {
     "name": "stderr",
     "output_type": "stream",
     "text": [
      "C:\\Users\\physlab\\AppData\\Local\\Temp\\ipykernel_10424\\557009218.py:2: MatplotlibDeprecationWarning: The seaborn styles shipped by Matplotlib are deprecated since 3.6, as they no longer correspond to the styles shipped by seaborn. However, they will remain available as 'seaborn-v0_8-<style>'. Alternatively, directly use the seaborn API instead.\n",
      "  plt.style.use('seaborn')\n"
     ]
    }
   ],
   "source": [
    "%matplotlib qt\n",
    "plt.style.use('seaborn')"
   ]
  },
  {
   "cell_type": "code",
   "execution_count": 3,
   "metadata": {},
   "outputs": [
    {
     "name": "stdout",
     "output_type": "stream",
     "text": [
      "Welcome to the FMR Experiment!\n",
      "You might want to update some experiment parameters.\n",
      "The parameters presently are:\n",
      "\n",
      "PS Output Current (A) :\t 3.14622\n",
      "PS Output Voltage (V) :\t 33.0468\n",
      "PS Output Mode (Current/Voltage) :\t Constant Current\n",
      "SG Frequency :\t FR03000000000HZ\n",
      "SG RF Output :\t On\n",
      "SG RF Output Level :\t LE-70.0DM\n",
      "LIA Time Constant :\t 0.3\n",
      "From 0 Delay (s) :\t 3\n",
      "Sensivity Delay (s) :\t 3\n",
      "Log File :\t c:\\Users\\physlab\\Desktop\\FMR_Python_Automation\\SpinLab_FMR_Automation\\Experiment_Logs\\FMR_log_2023-6-12_15-43-46.log\n"
     ]
    }
   ],
   "source": [
    "from fmr_experiment import Experiment\n",
    "E = Experiment()"
   ]
  },
  {
   "cell_type": "code",
   "execution_count": 5,
   "metadata": {},
   "outputs": [
    {
     "name": "stdout",
     "output_type": "stream",
     "text": [
      "CPU times: total: 8min 35s\n",
      "Wall time: 22min 4s\n"
     ]
    }
   ],
   "source": [
    "%%time\n",
    "\n",
    "#define the frequency range\n",
    "freq_step = 0.1 # 100  MHz\n",
    "freq_range = np.arange(2, 6 + freq_step, freq_step)\n",
    "\n",
    "#define field range\n",
    "field_step = 5\n",
    "field_range = np.arange(-700, 700 + field_step, field_step)\n",
    "\n",
    "E.SG.level = '-3'\n",
    "\n",
    "save_dir = r'C:\\Users\\physlab\\Desktop\\FMR_Python_Automation\\Data\\NiFe_2_2d_plot2'\n",
    "arr = E.make_2D(freq_range,\n",
    "          field_range,\n",
    "          save_dir,\n",
    "          primary='frequency',\n",
    "          channel='X',\n",
    "          integrate=True)"
   ]
  },
  {
   "cell_type": "code",
   "execution_count": null,
   "metadata": {},
   "outputs": [],
   "source": [
    "np.load(r'C:\\Users\\physlab\\Desktop\\FMR_Python_Automation\\Data\\NiFe_2_2d_plot2\\frequency_2-2_GHz_field_-700-700_Oe_-3_dB')"
   ]
  },
  {
   "cell_type": "code",
   "execution_count": 5,
   "metadata": {},
   "outputs": [
    {
     "data": {
      "text/plain": [
       "[<matplotlib.lines.Line2D at 0x272bbf2fd30>]"
      ]
     },
     "execution_count": 5,
     "metadata": {},
     "output_type": "execute_result"
    }
   ],
   "source": [
    "plt.plot(field_range, arr[0], label='2 GHz')\n",
    "plt.plot(field_range, arr[-1], label='5 GHz')\n",
    "plt.plot(field_range, arr[2], label='2.5 GHz')\n"
   ]
  },
  {
   "cell_type": "code",
   "execution_count": 12,
   "metadata": {},
   "outputs": [
    {
     "data": {
      "text/plain": [
       "[<matplotlib.lines.Line2D at 0x272bf2d0b80>]"
      ]
     },
     "execution_count": 12,
     "metadata": {},
     "output_type": "execute_result"
    }
   ],
   "source": [
    "arr2_intx, arr2_inty = E._integrate(field_range, arr[2])\n",
    "plt.plot(arr2_intx, arr2_inty)\n",
    "plt.plot(field_range, arr[2]-np.mean(arr[2]))"
   ]
  },
  {
   "cell_type": "code",
   "execution_count": 6,
   "metadata": {},
   "outputs": [
    {
     "name": "stderr",
     "output_type": "stream",
     "text": [
      "c:\\Users\\physlab\\Desktop\\FMR Python Automation\\SpinLab_FMR_Automation\\experiment.py:257: UserWarning: Attempting to set identical low and high xlims makes transformation singular; automatically expanding.\n",
      "  self.ax.set_xlim(min(xdata), max(xdata))\n",
      "c:\\Users\\physlab\\Desktop\\FMR Python Automation\\SpinLab_FMR_Automation\\experiment.py:257: UserWarning: Attempting to set identical low and high xlims makes transformation singular; automatically expanding.\n",
      "  self.ax.set_xlim(min(xdata), max(xdata))\n",
      "c:\\Users\\physlab\\Desktop\\FMR Python Automation\\SpinLab_FMR_Automation\\experiment.py:257: UserWarning: Attempting to set identical low and high xlims makes transformation singular; automatically expanding.\n",
      "  self.ax.set_xlim(min(xdata), max(xdata))\n",
      "c:\\Users\\physlab\\Desktop\\FMR Python Automation\\SpinLab_FMR_Automation\\experiment.py:257: UserWarning: Attempting to set identical low and high xlims makes transformation singular; automatically expanding.\n",
      "  self.ax.set_xlim(min(xdata), max(xdata))\n",
      "c:\\Users\\physlab\\Desktop\\FMR Python Automation\\SpinLab_FMR_Automation\\experiment.py:257: UserWarning: Attempting to set identical low and high xlims makes transformation singular; automatically expanding.\n",
      "  self.ax.set_xlim(min(xdata), max(xdata))\n",
      "c:\\Users\\physlab\\Desktop\\FMR Python Automation\\SpinLab_FMR_Automation\\experiment.py:257: UserWarning: Attempting to set identical low and high xlims makes transformation singular; automatically expanding.\n",
      "  self.ax.set_xlim(min(xdata), max(xdata))\n",
      "c:\\Users\\physlab\\Desktop\\FMR Python Automation\\SpinLab_FMR_Automation\\experiment.py:257: UserWarning: Attempting to set identical low and high xlims makes transformation singular; automatically expanding.\n",
      "  self.ax.set_xlim(min(xdata), max(xdata))\n",
      "c:\\Users\\physlab\\Desktop\\FMR Python Automation\\SpinLab_FMR_Automation\\experiment.py:257: UserWarning: Attempting to set identical low and high xlims makes transformation singular; automatically expanding.\n",
      "  self.ax.set_xlim(min(xdata), max(xdata))\n",
      "c:\\Users\\physlab\\Desktop\\FMR Python Automation\\SpinLab_FMR_Automation\\experiment.py:257: UserWarning: Attempting to set identical low and high xlims makes transformation singular; automatically expanding.\n",
      "  self.ax.set_xlim(min(xdata), max(xdata))\n",
      "c:\\Users\\physlab\\Desktop\\FMR Python Automation\\SpinLab_FMR_Automation\\experiment.py:257: UserWarning: Attempting to set identical low and high xlims makes transformation singular; automatically expanding.\n",
      "  self.ax.set_xlim(min(xdata), max(xdata))\n",
      "c:\\Users\\physlab\\Desktop\\FMR Python Automation\\SpinLab_FMR_Automation\\experiment.py:257: UserWarning: Attempting to set identical low and high xlims makes transformation singular; automatically expanding.\n",
      "  self.ax.set_xlim(min(xdata), max(xdata))\n",
      "c:\\Users\\physlab\\Desktop\\FMR Python Automation\\SpinLab_FMR_Automation\\experiment.py:257: UserWarning: Attempting to set identical low and high xlims makes transformation singular; automatically expanding.\n",
      "  self.ax.set_xlim(min(xdata), max(xdata))\n",
      "c:\\Users\\physlab\\Desktop\\FMR Python Automation\\SpinLab_FMR_Automation\\experiment.py:257: UserWarning: Attempting to set identical low and high xlims makes transformation singular; automatically expanding.\n",
      "  self.ax.set_xlim(min(xdata), max(xdata))\n",
      "c:\\Users\\physlab\\Desktop\\FMR Python Automation\\SpinLab_FMR_Automation\\experiment.py:257: UserWarning: Attempting to set identical low and high xlims makes transformation singular; automatically expanding.\n",
      "  self.ax.set_xlim(min(xdata), max(xdata))\n",
      "c:\\Users\\physlab\\Desktop\\FMR Python Automation\\SpinLab_FMR_Automation\\experiment.py:257: UserWarning: Attempting to set identical low and high xlims makes transformation singular; automatically expanding.\n",
      "  self.ax.set_xlim(min(xdata), max(xdata))\n",
      "c:\\Users\\physlab\\Desktop\\FMR Python Automation\\SpinLab_FMR_Automation\\experiment.py:257: UserWarning: Attempting to set identical low and high xlims makes transformation singular; automatically expanding.\n",
      "  self.ax.set_xlim(min(xdata), max(xdata))\n",
      "c:\\Users\\physlab\\Desktop\\FMR Python Automation\\SpinLab_FMR_Automation\\experiment.py:257: UserWarning: Attempting to set identical low and high xlims makes transformation singular; automatically expanding.\n",
      "  self.ax.set_xlim(min(xdata), max(xdata))\n",
      "c:\\Users\\physlab\\Desktop\\FMR Python Automation\\SpinLab_FMR_Automation\\experiment.py:257: UserWarning: Attempting to set identical low and high xlims makes transformation singular; automatically expanding.\n",
      "  self.ax.set_xlim(min(xdata), max(xdata))\n",
      "c:\\Users\\physlab\\Desktop\\FMR Python Automation\\SpinLab_FMR_Automation\\experiment.py:257: UserWarning: Attempting to set identical low and high xlims makes transformation singular; automatically expanding.\n",
      "  self.ax.set_xlim(min(xdata), max(xdata))\n",
      "c:\\Users\\physlab\\Desktop\\FMR Python Automation\\SpinLab_FMR_Automation\\experiment.py:257: UserWarning: Attempting to set identical low and high xlims makes transformation singular; automatically expanding.\n",
      "  self.ax.set_xlim(min(xdata), max(xdata))\n",
      "c:\\Users\\physlab\\Desktop\\FMR Python Automation\\SpinLab_FMR_Automation\\experiment.py:257: UserWarning: Attempting to set identical low and high xlims makes transformation singular; automatically expanding.\n",
      "  self.ax.set_xlim(min(xdata), max(xdata))\n",
      "c:\\Users\\physlab\\Desktop\\FMR Python Automation\\SpinLab_FMR_Automation\\experiment.py:257: UserWarning: Attempting to set identical low and high xlims makes transformation singular; automatically expanding.\n",
      "  self.ax.set_xlim(min(xdata), max(xdata))\n",
      "c:\\Users\\physlab\\Desktop\\FMR Python Automation\\SpinLab_FMR_Automation\\experiment.py:257: UserWarning: Attempting to set identical low and high xlims makes transformation singular; automatically expanding.\n",
      "  self.ax.set_xlim(min(xdata), max(xdata))\n",
      "c:\\Users\\physlab\\Desktop\\FMR Python Automation\\SpinLab_FMR_Automation\\experiment.py:257: UserWarning: Attempting to set identical low and high xlims makes transformation singular; automatically expanding.\n",
      "  self.ax.set_xlim(min(xdata), max(xdata))\n",
      "c:\\Users\\physlab\\Desktop\\FMR Python Automation\\SpinLab_FMR_Automation\\experiment.py:257: UserWarning: Attempting to set identical low and high xlims makes transformation singular; automatically expanding.\n",
      "  self.ax.set_xlim(min(xdata), max(xdata))\n",
      "c:\\Users\\physlab\\Desktop\\FMR Python Automation\\SpinLab_FMR_Automation\\experiment.py:257: UserWarning: Attempting to set identical low and high xlims makes transformation singular; automatically expanding.\n",
      "  self.ax.set_xlim(min(xdata), max(xdata))\n",
      "c:\\Users\\physlab\\Desktop\\FMR Python Automation\\SpinLab_FMR_Automation\\experiment.py:257: UserWarning: Attempting to set identical low and high xlims makes transformation singular; automatically expanding.\n",
      "  self.ax.set_xlim(min(xdata), max(xdata))\n",
      "c:\\Users\\physlab\\Desktop\\FMR Python Automation\\SpinLab_FMR_Automation\\experiment.py:257: UserWarning: Attempting to set identical low and high xlims makes transformation singular; automatically expanding.\n",
      "  self.ax.set_xlim(min(xdata), max(xdata))\n",
      "c:\\Users\\physlab\\Desktop\\FMR Python Automation\\SpinLab_FMR_Automation\\experiment.py:257: UserWarning: Attempting to set identical low and high xlims makes transformation singular; automatically expanding.\n",
      "  self.ax.set_xlim(min(xdata), max(xdata))\n",
      "c:\\Users\\physlab\\Desktop\\FMR Python Automation\\SpinLab_FMR_Automation\\experiment.py:257: UserWarning: Attempting to set identical low and high xlims makes transformation singular; automatically expanding.\n",
      "  self.ax.set_xlim(min(xdata), max(xdata))\n",
      "c:\\Users\\physlab\\Desktop\\FMR Python Automation\\SpinLab_FMR_Automation\\experiment.py:257: UserWarning: Attempting to set identical low and high xlims makes transformation singular; automatically expanding.\n",
      "  self.ax.set_xlim(min(xdata), max(xdata))\n"
     ]
    }
   ],
   "source": [
    "E.read_delay = 0.02\n",
    "E.read_repetitions = 20\n",
    "E.read_repetition_delay = 0.01\n",
    "E.SG.level = '-3'\n",
    "\n",
    "save_dir = r'C:\\Users\\physlab\\Desktop\\FMR Python Automation\\Data\\NiFe_2_2d_plot'\n",
    "for freq in freq_range:\n",
    "    E.sweep_field(freq, field_range, save_dir=save_dir, closefig=True)"
   ]
  },
  {
   "cell_type": "code",
   "execution_count": 5,
   "metadata": {},
   "outputs": [
    {
     "data": {
      "text/plain": [
       "[<matplotlib.lines.Line2D at 0x1699558ee30>]"
      ]
     },
     "execution_count": 5,
     "metadata": {},
     "output_type": "execute_result"
    }
   ],
   "source": [
    "Xs = np.linspace(-4 * np.pi, 4 * np.pi, 1000)\n",
    "Ys = np.sin(Xs)\n",
    "Xs2, Ys2 = E._integrate(Xs, Ys, c=-1.0)\n",
    "plt.plot(Xs, Ys)\n",
    "plt.plot(Xs, Ys2)"
   ]
  },
  {
   "cell_type": "code",
   "execution_count": 18,
   "metadata": {},
   "outputs": [
    {
     "data": {
      "text/plain": [
       "1.4210854715202004e-17"
      ]
     },
     "execution_count": 18,
     "metadata": {},
     "output_type": "execute_result"
    }
   ],
   "source": []
  },
  {
   "cell_type": "code",
   "execution_count": 4,
   "metadata": {},
   "outputs": [
    {
     "data": {
      "text/plain": [
       "array([2. , 2.1, 2.2, 2.3, 2.4, 2.5, 2.6, 2.7, 2.8, 2.9, 3. , 3.1, 3.2,\n",
       "       3.3, 3.4, 3.5, 3.6, 3.7, 3.8, 3.9, 4. , 4.1, 4.2, 4.3, 4.4, 4.5,\n",
       "       4.6, 4.7, 4.8, 4.9])"
      ]
     },
     "execution_count": 4,
     "metadata": {},
     "output_type": "execute_result"
    }
   ],
   "source": [
    "np.arange(2, 5, 0.1 , )"
   ]
  },
  {
   "cell_type": "code",
   "execution_count": 7,
   "metadata": {},
   "outputs": [
    {
     "ename": "ValueError",
     "evalue": "could not convert string to float: '2.343,3.554'",
     "output_type": "error",
     "traceback": [
      "\u001b[1;31m---------------------------------------------------------------------------\u001b[0m",
      "\u001b[1;31mValueError\u001b[0m                                Traceback (most recent call last)",
      "Cell \u001b[1;32mIn[7], line 1\u001b[0m\n\u001b[1;32m----> 1\u001b[0m \u001b[39mfloat\u001b[39;49m(\u001b[39m'\u001b[39;49m\u001b[39m2.343,3.554\u001b[39;49m\u001b[39m'\u001b[39;49m)\n",
      "\u001b[1;31mValueError\u001b[0m: could not convert string to float: '2.343,3.554'"
     ]
    }
   ],
   "source": [
    "float('2.343,3.554')"
   ]
  },
  {
   "cell_type": "code",
   "execution_count": 8,
   "metadata": {},
   "outputs": [],
   "source": [
    "a = np.array(['Foo'])"
   ]
  },
  {
   "cell_type": "code",
   "execution_count": 9,
   "metadata": {},
   "outputs": [
    {
     "data": {
      "text/plain": [
       "array(['Foo', '3.43'], dtype='<U32')"
      ]
     },
     "execution_count": 9,
     "metadata": {},
     "output_type": "execute_result"
    }
   ],
   "source": [
    "np.append(a, 3.43)"
   ]
  },
  {
   "cell_type": "code",
   "execution_count": 10,
   "metadata": {},
   "outputs": [
    {
     "data": {
      "text/plain": [
       "6.3"
      ]
     },
     "execution_count": 10,
     "metadata": {},
     "output_type": "execute_result"
    }
   ],
   "source": [
    "arr = np.array([6.3])\n",
    "np.mean(arr[np.logical_and(arr >= np.percentile(arr, 25), arr <= np.percentile(arr, 75))])"
   ]
  },
  {
   "cell_type": "code",
   "execution_count": 12,
   "metadata": {},
   "outputs": [
    {
     "data": {
      "text/plain": [
       "array([[0., 0., 0., 0., 0., 0., 0., 0., 0., 0.],\n",
       "       [0., 0., 0., 0., 0., 0., 0., 0., 0., 0.],\n",
       "       [0., 0., 0., 0., 0., 0., 0., 0., 0., 0.],\n",
       "       [0., 0., 0., 0., 0., 0., 0., 0., 0., 0.],\n",
       "       [0., 0., 0., 0., 0., 0., 0., 0., 0., 0.]])"
      ]
     },
     "execution_count": 12,
     "metadata": {},
     "output_type": "execute_result"
    }
   ],
   "source": [
    "np.zeros((5,10))"
   ]
  },
  {
   "cell_type": "code",
   "execution_count": 6,
   "metadata": {},
   "outputs": [],
   "source": [
    "import pandas as pd"
   ]
  },
  {
   "cell_type": "code",
   "execution_count": 6,
   "metadata": {},
   "outputs": [
    {
     "data": {
      "text/plain": [
       "<matplotlib.legend.Legend at 0x1c5b3a56110>"
      ]
     },
     "execution_count": 6,
     "metadata": {},
     "output_type": "execute_result"
    }
   ],
   "source": [
    "\n",
    "df = pd.read_csv(r'C:\\Users\\physlab\\Desktop\\FMR_Python_Automation\\Data\\NiFe_2\\freq_3.0_GHz_field_0.0-170.0_Oe.csv')\n",
    "intX, intY = E._integrate(df['field_Oe'].to_numpy(), df['X'].to_numpy())\n",
    "plt.plot(intX, intY, label='Integrated')\n",
    "plt.plot(df['field_Oe'], df['X'], label='Signal')\n",
    "plt.legend()"
   ]
  },
  {
   "cell_type": "code",
   "execution_count": null,
   "metadata": {},
   "outputs": [],
   "source": []
  }
 ],
 "metadata": {
  "kernelspec": {
   "display_name": "visa-env",
   "language": "python",
   "name": "python3"
  },
  "language_info": {
   "codemirror_mode": {
    "name": "ipython",
    "version": 3
   },
   "file_extension": ".py",
   "mimetype": "text/x-python",
   "name": "python",
   "nbconvert_exporter": "python",
   "pygments_lexer": "ipython3",
   "version": "3.10.11"
  },
  "orig_nbformat": 4
 },
 "nbformat": 4,
 "nbformat_minor": 2
}
