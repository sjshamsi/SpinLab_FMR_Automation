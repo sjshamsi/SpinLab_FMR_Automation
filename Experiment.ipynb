{
 "cells": [
  {
   "cell_type": "code",
   "execution_count": 1,
   "metadata": {},
   "outputs": [],
   "source": [
    "import numpy as np\n",
    "import pandas as pd\n",
    "import matplotlib.pyplot as plt"
   ]
  },
  {
   "cell_type": "code",
   "execution_count": 2,
   "metadata": {},
   "outputs": [
    {
     "name": "stderr",
     "output_type": "stream",
     "text": [
      "C:\\Users\\plyslab\\AppData\\Local\\Temp\\ipykernel_9572\\1122457406.py:2: MatplotlibDeprecationWarning: The seaborn styles shipped by Matplotlib are deprecated since 3.6, as they no longer correspond to the styles shipped by seaborn. However, they will remain available as 'seaborn-v0_8-<style>'. Alternatively, directly use the seaborn API instead.\n",
      "  plt.style.use('seaborn')\n",
      "C:\\Users\\plyslab\\AppData\\Local\\Temp\\ipykernel_9572\\1122457406.py:3: MatplotlibDeprecationWarning: The seaborn styles shipped by Matplotlib are deprecated since 3.6, as they no longer correspond to the styles shipped by seaborn. However, they will remain available as 'seaborn-v0_8-<style>'. Alternatively, directly use the seaborn API instead.\n",
      "  plt.style.use('seaborn-colorblind')\n"
     ]
    }
   ],
   "source": [
    "\n",
    "%matplotlib qt\n",
    "plt.style.use('seaborn')\n",
    "plt.style.use('seaborn-colorblind')"
   ]
  },
  {
   "attachments": {},
   "cell_type": "markdown",
   "metadata": {},
   "source": [
    "### Sweeping across the first frequency while changing centre-point"
   ]
  },
  {
   "cell_type": "code",
   "execution_count": 3,
   "metadata": {},
   "outputs": [
    {
     "name": "stdout",
     "output_type": "stream",
     "text": [
      "Welcome to the FMR Experiment!\n",
      "You might want to update some experiment parameters.\n",
      "The parameters presently are:\n",
      "\n",
      "PS Output Current (A) :\t 5.2271\n",
      "PS Output Voltage (V) :\t 48.997\n",
      "PS Output Mode (Current/Voltage) :\t Constant Current\n",
      "SG Frequency :\t FR03000000000HZ\n",
      "SG RF Output :\t On\n",
      "SG RF Output Level :\t LE-70.0DM\n",
      "LIA Sensitivity :\t 0.0005\n",
      "LIA Time Constant :\t 0.3\n",
      "Read Delay (s) :\t 0.5\n",
      "Log File :\t c:\\Users\\plyslab\\Desktop\\SpinLab_FMR_Automation\\Experiment_Logs\\FMR_log_2023-6-6_23-29-36.log\n"
     ]
    }
   ],
   "source": [
    "from experiment import Experiment\n",
    "E = Experiment()"
   ]
  },
  {
   "cell_type": "code",
   "execution_count": 4,
   "metadata": {},
   "outputs": [],
   "source": [
    "# Changing any parameters we need to change\n",
    "E.SG.level = '-3'\n",
    "\n",
    "# Creating some constants to help us later\n",
    "save_dir = r'C:\\Users\\plyslab\\Desktop\\plt_test'"
   ]
  },
  {
   "cell_type": "code",
   "execution_count": 5,
   "metadata": {},
   "outputs": [
    {
     "name": "stderr",
     "output_type": "stream",
     "text": [
      "c:\\Users\\plyslab\\Desktop\\SpinLab_FMR_Automation\\experiment.py:211: UserWarning: Attempting to set identical low and high xlims makes transformation singular; automatically expanding.\n",
      "  self.ax.set_xlim(min(xdata), max(xdata))\n"
     ]
    }
   ],
   "source": [
    "# Let's do one sweep @ 3 GHz\n",
    "frequency = 3\n",
    "field_range = np.linspace(30, 200, 200)\n",
    "\n",
    "E.sweep_field(3, field_range, save_dir=save_dir, savefig=True)"
   ]
  },
  {
   "cell_type": "code",
   "execution_count": 6,
   "metadata": {},
   "outputs": [
    {
     "data": {
      "text/plain": [
       "0.0002"
      ]
     },
     "execution_count": 6,
     "metadata": {},
     "output_type": "execute_result"
    }
   ],
   "source": [
    "E.LIA.SEN"
   ]
  },
  {
   "cell_type": "code",
   "execution_count": 6,
   "metadata": {},
   "outputs": [
    {
     "data": {
      "text/plain": [
       "3"
      ]
     },
     "execution_count": 6,
     "metadata": {},
     "output_type": "execute_result"
    }
   ],
   "source": [
    "abs(-3)"
   ]
  },
  {
   "cell_type": "code",
   "execution_count": null,
   "metadata": {},
   "outputs": [],
   "source": []
  }
 ],
 "metadata": {
  "kernelspec": {
   "display_name": "Python 3 (ipykernel)",
   "language": "python",
   "name": "python3"
  },
  "language_info": {
   "codemirror_mode": {
    "name": "ipython",
    "version": 3
   },
   "file_extension": ".py",
   "mimetype": "text/x-python",
   "name": "python",
   "nbconvert_exporter": "python",
   "pygments_lexer": "ipython3",
   "version": "3.10.11"
  }
 },
 "nbformat": 4,
 "nbformat_minor": 4
}
