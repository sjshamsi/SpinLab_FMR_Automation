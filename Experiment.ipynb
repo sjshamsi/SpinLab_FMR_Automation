{
 "cells": [
  {
   "cell_type": "code",
   "execution_count": 36,
   "metadata": {},
   "outputs": [],
   "source": [
    "import numpy as np\n",
    "\n",
    "# from BOP50_8D import KEPCO_BOP\n",
    "# from HP8673G import HP_CWG\n",
    "# from SRS_SR830 import SRS_SR830\n",
    "\n",
    "# Define instruments\n",
    "# PS = KEPCO_BOP() # Power Supply\n",
    "# SG = HP_CWG() # HP Signal Generator\n",
    "# LIA = SRS_SR830() # SRS 380 Lock-in Amplifier\n",
    "\n",
    "\n",
    "# PS parameters\n",
    "ps_current_values = np.linspace(0, 8, 20)\n",
    "\n",
    "# SG parameters\n",
    "sg_frequency_values = np.linspace(4, 20, 20)\n",
    "\n",
    "# An N x M x 2 array of numbers where N = len(ps_current_values), M = len(sg_frequency_values).\n",
    "# One 2D array contains the PS amperage and the other has SG frequency values\n",
    "\n",
    "N = len(ps_current_values)\n",
    "M = len(sg_frequency_values)\n",
    "\n",
    "input_params = np.array([(x, y) for x in ps_current_values for y in sg_frequency_values]).reshape(N, M, 2)"
   ]
  },
  {
   "cell_type": "code",
   "execution_count": 37,
   "metadata": {},
   "outputs": [
    {
     "data": {
      "text/plain": [
       "array([0.42105263, 4.        ])"
      ]
     },
     "execution_count": 37,
     "metadata": {},
     "output_type": "execute_result"
    }
   ],
   "source": [
    "input_params[1, 0]"
   ]
  },
  {
   "cell_type": "code",
   "execution_count": 30,
   "metadata": {},
   "outputs": [
    {
     "data": {
      "text/plain": [
       "array([[ 8.        ,  4.        ],\n",
       "       [ 8.        ,  4.84210526],\n",
       "       [ 8.        ,  5.68421053],\n",
       "       [ 8.        ,  6.52631579],\n",
       "       [ 8.        ,  7.36842105],\n",
       "       [ 8.        ,  8.21052632],\n",
       "       [ 8.        ,  9.05263158],\n",
       "       [ 8.        ,  9.89473684],\n",
       "       [ 8.        , 10.73684211],\n",
       "       [ 8.        , 11.57894737],\n",
       "       [ 8.        , 12.42105263],\n",
       "       [ 8.        , 13.26315789],\n",
       "       [ 8.        , 14.10526316],\n",
       "       [ 8.        , 14.94736842],\n",
       "       [ 8.        , 15.78947368],\n",
       "       [ 8.        , 16.63157895],\n",
       "       [ 8.        , 17.47368421],\n",
       "       [ 8.        , 18.31578947],\n",
       "       [ 8.        , 19.15789474],\n",
       "       [ 8.        , 20.        ]])"
      ]
     },
     "execution_count": 30,
     "metadata": {},
     "output_type": "execute_result"
    }
   ],
   "source": [
    "for i in range(N):\n",
    "    for j in range(M):\n",
    "        current, frequency = input_params[i, j, :]\n",
    "        "
   ]
  },
  {
   "cell_type": "code",
   "execution_count": null,
   "metadata": {},
   "outputs": [],
   "source": [
    "def get_A = "
   ]
  }
 ],
 "metadata": {
  "kernelspec": {
   "display_name": "visa-en",
   "language": "python",
   "name": "python3"
  },
  "language_info": {
   "codemirror_mode": {
    "name": "ipython",
    "version": 3
   },
   "file_extension": ".py",
   "mimetype": "text/x-python",
   "name": "python",
   "nbconvert_exporter": "python",
   "pygments_lexer": "ipython3",
   "version": "3.10.11"
  },
  "orig_nbformat": 4
 },
 "nbformat": 4,
 "nbformat_minor": 2
}
