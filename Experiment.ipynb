{
 "cells": [
  {
   "cell_type": "code",
   "execution_count": 1,
   "metadata": {},
   "outputs": [],
   "source": [
    "import numpy as np\n",
    "import pandas as pd\n",
    "import matplotlib.pyplot as plt"
   ]
  },
  {
   "cell_type": "code",
   "execution_count": 2,
   "metadata": {},
   "outputs": [
    {
     "name": "stderr",
     "output_type": "stream",
     "text": [
      "C:\\Users\\plyslab\\AppData\\Local\\Temp\\ipykernel_14748\\3776523248.py:2: MatplotlibDeprecationWarning: The seaborn styles shipped by Matplotlib are deprecated since 3.6, as they no longer correspond to the styles shipped by seaborn. However, they will remain available as 'seaborn-v0_8-<style>'. Alternatively, directly use the seaborn API instead.\n",
      "  plt.style.use('seaborn')\n",
      "C:\\Users\\plyslab\\AppData\\Local\\Temp\\ipykernel_14748\\3776523248.py:3: MatplotlibDeprecationWarning: The seaborn styles shipped by Matplotlib are deprecated since 3.6, as they no longer correspond to the styles shipped by seaborn. However, they will remain available as 'seaborn-v0_8-<style>'. Alternatively, directly use the seaborn API instead.\n",
      "  plt.style.use('seaborn-colorblind')\n"
     ]
    }
   ],
   "source": [
    "%matplotlib qt\n",
    "plt.style.use('seaborn')\n",
    "plt.style.use('seaborn-colorblind')"
   ]
  },
  {
   "attachments": {},
   "cell_type": "markdown",
   "metadata": {},
   "source": [
    "### Sweeping across the first frequency while changing centre-point"
   ]
  },
  {
   "cell_type": "code",
   "execution_count": 3,
   "metadata": {},
   "outputs": [
    {
     "name": "stdout",
     "output_type": "stream",
     "text": [
      "Welcome to the FMR Experiment!\n",
      "You might want to update some experiment parameters.\n",
      "The parameters presently are:\n",
      "\n",
      "PS Output Current (A) :\t 3.16894\n",
      "PS Output Voltage (V) :\t 47.5699\n",
      "PS Output Mode (Current/Voltage) :\t Constant Current\n",
      "SG Frequency :\t FR03000000000HZ\n",
      "SG RF Output :\t On\n",
      "SG RF Output Level :\t LE-70.0DM\n",
      "LIA Sensitivity :\t 0.0005\n",
      "LIA Time Constant :\t 0.3\n",
      "Read Delay (s) :\t 1\n",
      "Log File :\t c:\\Users\\plyslab\\Desktop\\SpinLab_FMR_Automation\\Experiment_Logs\\FMR_log_2023-6-7_17-57-31.log\n"
     ]
    }
   ],
   "source": [
    "from experiment import Experiment\n",
    "E = Experiment()"
   ]
  },
  {
   "cell_type": "code",
   "execution_count": 4,
   "metadata": {},
   "outputs": [],
   "source": [
    "# Changing any parameters we need to change\n",
    "E.SG.level = '-3'\n",
    "\n",
    "# Creating some constants to help us later\n",
    "save_dir = r'C:\\Users\\plyslab\\Desktop\\different_ranges'"
   ]
  },
  {
   "cell_type": "code",
   "execution_count": 5,
   "metadata": {},
   "outputs": [
    {
     "name": "stderr",
     "output_type": "stream",
     "text": [
      "c:\\Users\\plyslab\\Desktop\\SpinLab_FMR_Automation\\experiment.py:211: UserWarning: Attempting to set identical low and high xlims makes transformation singular; automatically expanding.\n",
      "  self.ax.set_xlim(min(xdata), max(xdata))\n"
     ]
    }
   ],
   "source": [
    "# Let's do one sweep @ 3 GHz\n",
    "frequency = 3\n",
    "field_range = np.linspace(30, 200, 200)\n",
    "\n",
    "E.sweep_field(3, field_range, save_dir=save_dir, savefig=True)"
   ]
  },
  {
   "cell_type": "code",
   "execution_count": 8,
   "metadata": {},
   "outputs": [
    {
     "name": "stderr",
     "output_type": "stream",
     "text": [
      "c:\\Users\\plyslab\\Desktop\\SpinLab_FMR_Automation\\experiment.py:211: UserWarning: Attempting to set identical low and high xlims makes transformation singular; automatically expanding.\n",
      "  self.ax.set_xlim(min(xdata), max(xdata))\n"
     ]
    }
   ],
   "source": [
    "# Looks good. Now let's do a sweep at 3.5 GHz\n",
    "frequency = 3.5\n",
    "field_range = np.linspace(50, 230, 200)\n",
    "\n",
    "E.sweep_field(frequency, field_range, save_dir=save_dir, savefig=True)"
   ]
  },
  {
   "attachments": {},
   "cell_type": "markdown",
   "metadata": {},
   "source": [
    "**Take some time to pause**\n",
    "\n",
    "As expected, the centre-point does go ahead a bit. We'll use our past two measurements as a guideline for how much the field sweep range should change as we modify the frequency.\n",
    "\n",
    "Let's see the exact centre-points for our past two measurements."
   ]
  },
  {
   "cell_type": "code",
   "execution_count": 6,
   "metadata": {},
   "outputs": [
    {
     "name": "stdout",
     "output_type": "stream",
     "text": [
      "X field Midpoint (Oe) @ 3GHz:\t 106.88442211055275\n",
      "Y field Midpoint (Oe) @ 3GHz:\t 106.03015075376885\n",
      "Average field Midpoint (Oe) @ 3GHz:\t 106.4572864321608\n"
     ]
    }
   ],
   "source": [
    "csv_path = save_dir + r'\\freq_3_GHz_field_30.0–200.0_Oe.csv'\n",
    "df_3ghz = pd.read_csv(csv_path)\n",
    "\n",
    "# Get the midpoint from the 3GHz file\n",
    "field_at_minX_3ghz = df_3ghz.iloc[df_3ghz['X'].idxmin()]['field_Oe']\n",
    "field_at_maxX_3ghz = df_3ghz.iloc[df_3ghz['X'].idxmax()]['field_Oe']\n",
    "field_at_minY_3ghz = df_3ghz.iloc[df_3ghz['Y'].idxmin()]['field_Oe']\n",
    "field_at_maxY_3ghz = df_3ghz.iloc[df_3ghz['Y'].idxmax()]['field_Oe']\n",
    "\n",
    "midpoint_X_3ghz = (field_at_minX_3ghz + field_at_maxX_3ghz) / 2\n",
    "midpoint_Y_3ghz = (field_at_minY_3ghz + field_at_maxY_3ghz) / 2\n",
    "\n",
    "midpoint_3ghz = (midpoint_X_3ghz + midpoint_Y_3ghz) / 2\n",
    "\n",
    "print('X field Midpoint (Oe) @ 3GHz:' + '\\t', midpoint_X_3ghz)\n",
    "print('Y field Midpoint (Oe) @ 3GHz:' + '\\t', midpoint_Y_3ghz)\n",
    "print('Average field Midpoint (Oe) @ 3GHz:' + '\\t', midpoint_3ghz)"
   ]
  },
  {
   "attachments": {},
   "cell_type": "markdown",
   "metadata": {},
   "source": [
    "Great! Now let's find out the centre-ponts at 3.5 GHz. But all that above is quite lengthy, and since we're going to be finding midpoints a lot, let's use a helper function (which does the same thing). We've made one in the `experiment.py` file. Just always double check your midpoints, as noise in data can change them easily."
   ]
  },
  {
   "cell_type": "code",
   "execution_count": 7,
   "metadata": {},
   "outputs": [
    {
     "name": "stdout",
     "output_type": "stream",
     "text": [
      "\n",
      "X field Midpoint (Oe) @ 3.5GHz:\t 150.85427135678393\n",
      "Y field Midpoint (Oe) @ 3.5GHz:\t 149.9497487437186\n",
      "Average field Midpoint (Oe) @ 3.5GHz:\t 150.40201005025125\n"
     ]
    }
   ],
   "source": [
    "# Get the midpoint from the 3.5GHz file\n",
    "from experiment import get_midpoint\n",
    "\n",
    "csv_path = save_dir + r'\\freq_3.5_GHz_field_50.0–230.0_Oe.csv'\n",
    "\n",
    "midpoint_X_3_5ghz = get_midpoint(csv_path, channel='X')\n",
    "midpoint_Y_3_5ghz = get_midpoint(csv_path, channel='Y')\n",
    "midpoint_3_5ghz = get_midpoint(csv_path, channel='both')\n",
    "\n",
    "print('\\nX field Midpoint (Oe) @ 3.5GHz:' + '\\t', midpoint_X_3_5ghz)\n",
    "print('Y field Midpoint (Oe) @ 3.5GHz:' + '\\t', midpoint_Y_3_5ghz)\n",
    "print('Average field Midpoint (Oe) @ 3.5GHz:' + '\\t', midpoint_3_5ghz)"
   ]
  },
  {
   "attachments": {},
   "cell_type": "markdown",
   "metadata": {},
   "source": [
    "Great! Now we have a pretty good idea of where the midpoints of the two field sweep curves lie. Let's see how much of a difference we get."
   ]
  },
  {
   "cell_type": "code",
   "execution_count": 8,
   "metadata": {},
   "outputs": [
    {
     "name": "stdout",
     "output_type": "stream",
     "text": [
      "Midpoint difference between 3GHz and 3.5GHz is 43.94472361809045 Oe\n"
     ]
    }
   ],
   "source": [
    "print('Midpoint difference between 3GHz and 3.5GHz is', (midpoint_3_5ghz - midpoint_3ghz), 'Oe')"
   ]
  },
  {
   "attachments": {},
   "cell_type": "markdown",
   "metadata": {},
   "source": [
    "That's a 43.9 Oe increase in field centrepoint per 0.5 GHz increase in frequency.\n",
    "\n",
    "Now we expect the relationship between field midpoint and frequency to be approximately linear, but that might not be a good enough approximation depending on the sample. Let's see if this linear approximation is good enough. We will check the midpoint difference between sweep with frequencies 3 GHz and 3.5 GHz."
   ]
  },
  {
   "cell_type": "code",
   "execution_count": 9,
   "metadata": {},
   "outputs": [
    {
     "name": "stderr",
     "output_type": "stream",
     "text": [
      "c:\\Users\\plyslab\\Desktop\\SpinLab_FMR_Automation\\experiment.py:215: UserWarning: Attempting to set identical low and high xlims makes transformation singular; automatically expanding.\n",
      "  self.ax.set_xlim(min(xdata), max(xdata))\n"
     ]
    }
   ],
   "source": [
    "# Sweep at 5 GHz\n",
    "frequency = 5.0\n",
    "field_range = np.linspace(230, 400, 200) # Field range approximation from our 50Oe / 0.5 GHz figure.\n",
    "\n",
    "E.sweep_field(frequency, field_range, save_dir=save_dir, savefig=True)"
   ]
  },
  {
   "cell_type": "code",
   "execution_count": 10,
   "metadata": {},
   "outputs": [
    {
     "name": "stderr",
     "output_type": "stream",
     "text": [
      "c:\\Users\\plyslab\\Desktop\\SpinLab_FMR_Automation\\experiment.py:215: UserWarning: Attempting to set identical low and high xlims makes transformation singular; automatically expanding.\n",
      "  self.ax.set_xlim(min(xdata), max(xdata))\n"
     ]
    }
   ],
   "source": [
    "# Sweep at 5.5 GHz\n",
    "frequency = 5.5\n",
    "field_range = np.linspace(280, 450, 200) # Field range approximation from our 50Oe / 0.5 GHz figure.\n",
    "\n",
    "E.sweep_field(frequency, field_range, save_dir=save_dir, savefig=True)"
   ]
  },
  {
   "attachments": {},
   "cell_type": "markdown",
   "metadata": {},
   "source": [
    "All looks good so far. Let's see if the field midpoints between 5 GHz and 5.5 GHz have same difference."
   ]
  },
  {
   "cell_type": "code",
   "execution_count": 12,
   "metadata": {},
   "outputs": [
    {
     "name": "stdout",
     "output_type": "stream",
     "text": [
      "\n",
      "X field Midpoint (Oe) @ 5GHz:\t 307.3115577889447\n",
      "Y field Midpoint (Oe) @ 5GHz:\t 306.4572864321608\n",
      "Average field Midpoint (Oe) @ 5GHz:\t 306.88442211055275\n"
     ]
    }
   ],
   "source": [
    "# Get the midpoint from the 5 GHz file\n",
    "csv_path = save_dir + r'\\freq_5.0_GHz_field_230.0-400.0_Oe.csv'\n",
    "\n",
    "midpoint_X_5ghz = get_midpoint(csv_path, channel='X')\n",
    "midpoint_Y_5ghz = get_midpoint(csv_path, channel='Y')\n",
    "midpoint_5ghz = get_midpoint(csv_path, channel='both')\n",
    "\n",
    "print('\\nX field Midpoint (Oe) @ 5GHz:' + '\\t', midpoint_X_5ghz)\n",
    "print('Y field Midpoint (Oe) @ 5GHz:' + '\\t', midpoint_Y_5ghz)\n",
    "print('Average field Midpoint (Oe) @ 5GHz:' + '\\t', midpoint_5ghz)"
   ]
  },
  {
   "cell_type": "code",
   "execution_count": 13,
   "metadata": {},
   "outputs": [
    {
     "name": "stdout",
     "output_type": "stream",
     "text": [
      "\n",
      "X field Midpoint (Oe) @ 5.5GHz:\t 369.69849246231155\n",
      "Y field Midpoint (Oe) @ 5.5GHz:\t 370.97989949748745\n",
      "Average field Midpoint (Oe) @ 5.5GHz:\t 370.3391959798995\n"
     ]
    }
   ],
   "source": [
    "# Get the midpoint from the 5 GHz file\n",
    "csv_path = save_dir + r'\\freq_5.5_GHz_field_280.0-450.0_Oe.csv'\n",
    "\n",
    "midpoint_X_5_5ghz = get_midpoint(csv_path, channel='X')\n",
    "midpoint_Y_5_5ghz = get_midpoint(csv_path, channel='Y')\n",
    "midpoint_5_5ghz = get_midpoint(csv_path, channel='both')\n",
    "\n",
    "print('\\nX field Midpoint (Oe) @ 5.5GHz:' + '\\t', midpoint_X_5_5ghz)\n",
    "print('Y field Midpoint (Oe) @ 5.5GHz:' + '\\t', midpoint_Y_5_5ghz)\n",
    "print('Average field Midpoint (Oe) @ 5.5GHz:' + '\\t', midpoint_5_5ghz)"
   ]
  },
  {
   "cell_type": "code",
   "execution_count": 14,
   "metadata": {},
   "outputs": [
    {
     "name": "stdout",
     "output_type": "stream",
     "text": [
      "Midpoint difference between 5GHz and 5.5GHz is 63.45477386934675 Oe\n"
     ]
    }
   ],
   "source": [
    "print('Midpoint difference between 5GHz and 5.5GHz is', (midpoint_5_5ghz - midpoint_5ghz), 'Oe')"
   ]
  },
  {
   "attachments": {},
   "cell_type": "markdown",
   "metadata": {},
   "source": [
    "So there is a significant (ish) difference. 43 Oe / 0.5 GHz rate of change of field midpoint has changed to 63.5 Oe / 0.5 GHz. That means we can expect a drift of 100 Oe for a 10Ghz change in frequency.\n",
    "\n",
    "We can deal with this by just increasing our field range widths a bit. For now, let's do an auto sweep from 2 GHz to 11 GHz with steps of 1 GHz.\n",
    "\n",
    "We'll use our 44 Oe / 0.5 GHz and 63 Oe / 0.5 GHz figures to determine a field range for each frequency. We'll make a nice function that'll do that for us, provided the frequency and the width we want to leave out on eithr side of the centrepoint."
   ]
  },
  {
   "cell_type": "code",
   "execution_count": 6,
   "metadata": {},
   "outputs": [],
   "source": [
    "def freq_cp_3_3_5(frequency):\n",
    "    m = (43.94472361809045) / (0.5)\n",
    "    c = 106.4572864321608 - (3 * m)\n",
    "    return m * frequency + c\n",
    "\n",
    "def get_field_ranges(frequencies, width, num_points):\n",
    "    field_ranges = []\n",
    "    for frequency in frequencies:\n",
    "        cp = freq_cp_3_3_5(frequency)\n",
    "        field_range = np.linspace(cp - (width/2), cp + (width/2), num_points)\n",
    "        field_ranges.append(field_range)\n",
    "    return field_ranges"
   ]
  },
  {
   "cell_type": "code",
   "execution_count": 8,
   "metadata": {},
   "outputs": [],
   "source": [
    "frequency_range = np.arange(6, 10 + 1, 1)\n",
    "field_ranges = get_field_ranges(frequency_range, 300, 200)"
   ]
  },
  {
   "attachments": {},
   "cell_type": "markdown",
   "metadata": {},
   "source": [
    "Now we have a list of desired freqencies and their corresponding field ranges. It is time to get acquainted with `experiment.multisweep(primary_parameter=None, save_dir=None, fields=None, frequencies=None, closefig=True, savefig=False)`.\n",
    "\n",
    "This function takes in:\n",
    "- `primary_parameter` as either `frequency` or `field`. This indicates the parameter being held constant while the other is swept.\n",
    "- `save_dir` a path to where you want to save your files.\n",
    "- `frequencies` a list of frequencies or a list of frequency ranges (depending on what `primary_parameter` is)\n",
    "- `fields` a list of fields or a list of field ranges (depending on what `primary_parameter` is)\n",
    "- `closefig` a boolean to determine if you want to keep or close sweep plots as they finish (`True` recommended.)\n",
    "- `savefig` a boolean determining if you want to save your sweep plots as they are completed.\n",
    "\n",
    "We'll just pass in your frequencies along with their field ranges to `multisweep`."
   ]
  },
  {
   "cell_type": "code",
   "execution_count": 9,
   "metadata": {},
   "outputs": [
    {
     "name": "stderr",
     "output_type": "stream",
     "text": [
      "c:\\Users\\plyslab\\Desktop\\SpinLab_FMR_Automation\\experiment.py:215: UserWarning: Attempting to set identical low and high xlims makes transformation singular; automatically expanding.\n",
      "  self.ax.set_xlim(min(xdata), max(xdata))\n",
      "c:\\Users\\plyslab\\Desktop\\SpinLab_FMR_Automation\\experiment.py:215: UserWarning: Attempting to set identical low and high xlims makes transformation singular; automatically expanding.\n",
      "  self.ax.set_xlim(min(xdata), max(xdata))\n",
      "c:\\Users\\plyslab\\Desktop\\SpinLab_FMR_Automation\\experiment.py:215: UserWarning: Attempting to set identical low and high xlims makes transformation singular; automatically expanding.\n",
      "  self.ax.set_xlim(min(xdata), max(xdata))\n",
      "c:\\Users\\plyslab\\Desktop\\SpinLab_FMR_Automation\\experiment.py:215: UserWarning: Attempting to set identical low and high xlims makes transformation singular; automatically expanding.\n",
      "  self.ax.set_xlim(min(xdata), max(xdata))\n",
      "c:\\Users\\plyslab\\Desktop\\SpinLab_FMR_Automation\\experiment.py:215: UserWarning: Attempting to set identical low and high xlims makes transformation singular; automatically expanding.\n",
      "  self.ax.set_xlim(min(xdata), max(xdata))\n"
     ]
    }
   ],
   "source": [
    "save_dir = r'C:\\Users\\plyslab\\Desktop\\multisweep_2-11_ghz'\n",
    "E.multisweep(primary_parameter='frequency', save_dir=save_dir, frequencies=frequency_range, fields=field_ranges,\n",
    "             closefig=True, savefig=True)"
   ]
  },
  {
   "cell_type": "code",
   "execution_count": 12,
   "metadata": {},
   "outputs": [
    {
     "name": "stderr",
     "output_type": "stream",
     "text": [
      "c:\\Users\\plyslab\\Desktop\\SpinLab_FMR_Automation\\experiment.py:215: UserWarning: Attempting to set identical low and high xlims makes transformation singular; automatically expanding.\n",
      "  self.ax.set_xlim(min(xdata), max(xdata))\n"
     ]
    }
   ],
   "source": [
    "E.sweep_field(8.0, np.linspace(800, 950, 100), save_dir=save_dir, savefig=True)"
   ]
  },
  {
   "cell_type": "code",
   "execution_count": 5,
   "metadata": {},
   "outputs": [
    {
     "name": "stderr",
     "output_type": "stream",
     "text": [
      "c:\\Users\\plyslab\\Desktop\\SpinLab_FMR_Automation\\experiment.py:232: UserWarning: Attempting to set identical low and high xlims makes transformation singular; automatically expanding.\n",
      "  self.ax.set_xlim(min(xdata), max(xdata))\n"
     ]
    }
   ],
   "source": [
    "save_dir = r'C:\\Users\\plyslab\\Desktop\\multisweep_2-11_ghz'\n",
    "E.sweep_field(8.0, np.linspace(500, 1000, 100), save_dir=save_dir, savefig=True)"
   ]
  },
  {
   "cell_type": "code",
   "execution_count": 7,
   "metadata": {},
   "outputs": [
    {
     "name": "stderr",
     "output_type": "stream",
     "text": [
      "c:\\Users\\plyslab\\Desktop\\SpinLab_FMR_Automation\\experiment.py:232: UserWarning: Attempting to set identical low and high xlims makes transformation singular; automatically expanding.\n",
      "  self.ax.set_xlim(min(xdata), max(xdata))\n"
     ]
    }
   ],
   "source": [
    "save_dir = r'C:\\Users\\plyslab\\Desktop\\multisweep_2-11_ghz'\n",
    "E.sweep_field(7.0, np.linspace(400, 900, 300), save_dir=save_dir, savefig=True)"
   ]
  },
  {
   "cell_type": "code",
   "execution_count": 8,
   "metadata": {},
   "outputs": [
    {
     "name": "stderr",
     "output_type": "stream",
     "text": [
      "c:\\Users\\plyslab\\Desktop\\SpinLab_FMR_Automation\\experiment.py:232: UserWarning: Attempting to set identical low and high xlims makes transformation singular; automatically expanding.\n",
      "  self.ax.set_xlim(min(xdata), max(xdata))\n"
     ]
    }
   ],
   "source": [
    "save_dir = r'C:\\Users\\plyslab\\Desktop\\multisweep_2-11_ghz'\n",
    "E.sweep_field(2.0, np.linspace(0, 150, 300), save_dir=save_dir, savefig=True)"
   ]
  },
  {
   "cell_type": "code",
   "execution_count": 9,
   "metadata": {},
   "outputs": [
    {
     "name": "stderr",
     "output_type": "stream",
     "text": [
      "c:\\Users\\plyslab\\Desktop\\SpinLab_FMR_Automation\\experiment.py:232: UserWarning: Attempting to set identical low and high xlims makes transformation singular; automatically expanding.\n",
      "  self.ax.set_xlim(min(xdata), max(xdata))\n"
     ]
    },
    {
     "ename": "KeyboardInterrupt",
     "evalue": "",
     "output_type": "error",
     "traceback": [
      "\u001b[1;31m---------------------------------------------------------------------------\u001b[0m",
      "\u001b[1;31mKeyboardInterrupt\u001b[0m                         Traceback (most recent call last)",
      "Cell \u001b[1;32mIn[9], line 2\u001b[0m\n\u001b[0;32m      1\u001b[0m save_dir \u001b[39m=\u001b[39m \u001b[39mr\u001b[39m\u001b[39m'\u001b[39m\u001b[39mC:\u001b[39m\u001b[39m\\\u001b[39m\u001b[39mUsers\u001b[39m\u001b[39m\\\u001b[39m\u001b[39mplyslab\u001b[39m\u001b[39m\\\u001b[39m\u001b[39mDesktop\u001b[39m\u001b[39m\\\u001b[39m\u001b[39mmultisweep_2-11_ghz\u001b[39m\u001b[39m'\u001b[39m\n\u001b[1;32m----> 2\u001b[0m E\u001b[39m.\u001b[39;49msweep_field(\u001b[39m4.0\u001b[39;49m, np\u001b[39m.\u001b[39;49mlinspace(\u001b[39m50\u001b[39;49m, \u001b[39m350\u001b[39;49m, \u001b[39m300\u001b[39;49m), save_dir\u001b[39m=\u001b[39;49msave_dir, savefig\u001b[39m=\u001b[39;49m\u001b[39mTrue\u001b[39;49;00m)\n",
      "File \u001b[1;32mc:\\Users\\plyslab\\Desktop\\SpinLab_FMR_Automation\\experiment.py:146\u001b[0m, in \u001b[0;36mExperiment.sweep_field\u001b[1;34m(self, frequency, fields, save_dir, savefig, closefig, default_sen)\u001b[0m\n\u001b[0;32m    144\u001b[0m \u001b[39mfor\u001b[39;00m i, current \u001b[39min\u001b[39;00m \u001b[39menumerate\u001b[39m(currents):\n\u001b[0;32m    145\u001b[0m     \u001b[39mself\u001b[39m\u001b[39m.\u001b[39mPS\u001b[39m.\u001b[39mcurrent \u001b[39m=\u001b[39m current\n\u001b[1;32m--> 146\u001b[0m     time\u001b[39m.\u001b[39;49msleep(\u001b[39mself\u001b[39;49m\u001b[39m.\u001b[39;49mread_delay)\n\u001b[0;32m    147\u001b[0m     X_array\u001b[39m.\u001b[39mappend(\u001b[39mself\u001b[39m\u001b[39m.\u001b[39mreadX())\n\u001b[0;32m    148\u001b[0m     Y_array\u001b[39m.\u001b[39mappend(\u001b[39mself\u001b[39m\u001b[39m.\u001b[39mreadY())\n",
      "\u001b[1;31mKeyboardInterrupt\u001b[0m: "
     ]
    }
   ],
   "source": [
    "save_dir = r'C:\\Users\\plyslab\\Desktop\\multisweep_2-11_ghz'\n",
    "E.sweep_field(4.0, np.linspace(50, 350, 300), save_dir=save_dir, savefig=True)"
   ]
  },
  {
   "attachments": {},
   "cell_type": "markdown",
   "metadata": {},
   "source": [
    "Ni-FE Sample 2, 100nm"
   ]
  },
  {
   "cell_type": "code",
   "execution_count": 14,
   "metadata": {},
   "outputs": [
    {
     "name": "stderr",
     "output_type": "stream",
     "text": [
      "c:\\Users\\plyslab\\Desktop\\SpinLab_FMR_Automation\\experiment.py:232: UserWarning: Attempting to set identical low and high xlims makes transformation singular; automatically expanding.\n",
      "  self.ax.set_xlim(min(xdata), max(xdata))\n"
     ]
    }
   ],
   "source": [
    "save_dir = r'C:\\Users\\plyslab\\Desktop\\ni_fe_2'\n",
    "E.sweep_field(3.0, np.linspace(50, 200, 300), save_dir=save_dir, savefig=True)"
   ]
  },
  {
   "cell_type": "code",
   "execution_count": 15,
   "metadata": {},
   "outputs": [
    {
     "name": "stderr",
     "output_type": "stream",
     "text": [
      "c:\\Users\\plyslab\\Desktop\\SpinLab_FMR_Automation\\experiment.py:232: UserWarning: Attempting to set identical low and high xlims makes transformation singular; automatically expanding.\n",
      "  self.ax.set_xlim(min(xdata), max(xdata))\n"
     ]
    }
   ],
   "source": [
    "save_dir = r'C:\\Users\\plyslab\\Desktop\\ni_fe_2'\n",
    "E.sweep_field(8.0, np.linspace(500, 1000, 300), save_dir=save_dir, savefig=True)"
   ]
  },
  {
   "cell_type": "code",
   "execution_count": 5,
   "metadata": {},
   "outputs": [
    {
     "name": "stderr",
     "output_type": "stream",
     "text": [
      "c:\\Users\\plyslab\\Desktop\\SpinLab_FMR_Automation\\experiment.py:232: UserWarning: Attempting to set identical low and high xlims makes transformation singular; automatically expanding.\n",
      "  self.ax.set_xlim(min(xdata), max(xdata))\n"
     ]
    }
   ],
   "source": [
    "save_dir = r'C:\\Users\\plyslab\\Desktop\\ni_fe_2'\n",
    "E.sweep_field(14.0, np.linspace(1500, 2100, 200), save_dir=save_dir, savefig=True)"
   ]
  },
  {
   "cell_type": "code",
   "execution_count": 6,
   "metadata": {},
   "outputs": [
    {
     "name": "stderr",
     "output_type": "stream",
     "text": [
      "c:\\Users\\plyslab\\Desktop\\SpinLab_FMR_Automation\\experiment.py:232: UserWarning: Attempting to set identical low and high xlims makes transformation singular; automatically expanding.\n",
      "  self.ax.set_xlim(min(xdata), max(xdata))\n"
     ]
    }
   ],
   "source": [
    "save_dir = r'C:\\Users\\plyslab\\Desktop\\ni_fe_2'\n",
    "E.sweep_field(10.0, np.linspace(750, 1250, 200), save_dir=save_dir, savefig=True)"
   ]
  },
  {
   "cell_type": "code",
   "execution_count": 5,
   "metadata": {},
   "outputs": [],
   "source": [
    "from srs_sr830_RS232 import SRS_SR830"
   ]
  },
  {
   "cell_type": "code",
   "execution_count": 6,
   "metadata": {},
   "outputs": [],
   "source": [
    "lia = SRS_SR830(ResourceName='ASRL4::INSTR')"
   ]
  },
  {
   "cell_type": "code",
   "execution_count": 7,
   "metadata": {},
   "outputs": [
    {
     "data": {
      "text/plain": [
       "'Stanford_Research_Systems,SR830,s/n46107,ver1.07 '"
      ]
     },
     "execution_count": 7,
     "metadata": {},
     "output_type": "execute_result"
    }
   ],
   "source": [
    "lia.query('*IDN?')"
   ]
  },
  {
   "cell_type": "code",
   "execution_count": 9,
   "metadata": {},
   "outputs": [
    {
     "data": {
      "text/plain": [
       "5.28099e-05"
      ]
     },
     "execution_count": 9,
     "metadata": {},
     "output_type": "execute_result"
    }
   ],
   "source": [
    "lia.X()"
   ]
  },
  {
   "cell_type": "code",
   "execution_count": 12,
   "metadata": {},
   "outputs": [],
   "source": [
    "foo = lia.X"
   ]
  },
  {
   "cell_type": "code",
   "execution_count": 13,
   "metadata": {},
   "outputs": [
    {
     "data": {
      "text/plain": [
       "3.83856e-05"
      ]
     },
     "execution_count": 13,
     "metadata": {},
     "output_type": "execute_result"
    }
   ],
   "source": [
    "foo()"
   ]
  },
  {
   "cell_type": "code",
   "execution_count": 1,
   "metadata": {},
   "outputs": [
    {
     "data": {
      "text/plain": [
       "1.43345"
      ]
     },
     "execution_count": 1,
     "metadata": {},
     "output_type": "execute_result"
    }
   ],
   "source": [
    "round(1.433454545, 5)"
   ]
  },
  {
   "cell_type": "code",
   "execution_count": null,
   "metadata": {},
   "outputs": [],
   "source": []
  }
 ],
 "metadata": {
  "kernelspec": {
   "display_name": "Python 3 (ipykernel)",
   "language": "python",
   "name": "python3"
  },
  "language_info": {
   "codemirror_mode": {
    "name": "ipython",
    "version": 3
   },
   "file_extension": ".py",
   "mimetype": "text/x-python",
   "name": "python",
   "nbconvert_exporter": "python",
   "pygments_lexer": "ipython3",
   "version": "3.10.11"
  }
 },
 "nbformat": 4,
 "nbformat_minor": 4
}
