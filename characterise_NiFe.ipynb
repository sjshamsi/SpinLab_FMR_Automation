{
 "cells": [
  {
   "cell_type": "code",
   "execution_count": 1,
   "metadata": {},
   "outputs": [],
   "source": [
    "from experiment import Experiment, get_midpoint\n",
    "import numpy as np"
   ]
  },
  {
   "cell_type": "code",
   "execution_count": 2,
   "metadata": {},
   "outputs": [
    {
     "name": "stderr",
     "output_type": "stream",
     "text": [
      "C:\\Users\\plyslab\\AppData\\Local\\Temp\\ipykernel_9912\\761868469.py:4: MatplotlibDeprecationWarning: The seaborn styles shipped by Matplotlib are deprecated since 3.6, as they no longer correspond to the styles shipped by seaborn. However, they will remain available as 'seaborn-v0_8-<style>'. Alternatively, directly use the seaborn API instead.\n",
      "  plt.style.use('seaborn')\n"
     ]
    }
   ],
   "source": [
    "%matplotlib qt\n",
    "\n",
    "import matplotlib.pyplot as plt\n",
    "plt.style.use('seaborn')"
   ]
  },
  {
   "cell_type": "code",
   "execution_count": 14,
   "metadata": {},
   "outputs": [
    {
     "name": "stdout",
     "output_type": "stream",
     "text": [
      "Welcome to the FMR Experiment!\n",
      "You might want to update some experiment parameters.\n",
      "The parameters presently are:\n",
      "\n",
      "PS Output Current (A) :\t 3.13294\n",
      "PS Output Voltage (V) :\t 46.5988\n",
      "PS Output Mode (Current/Voltage) :\t Constant Current\n",
      "SG Frequency :\t FR03000000000HZ\n",
      "SG RF Output :\t On\n",
      "SG RF Output Level :\t LE-70.0DM\n",
      "LIA Sensitivity :\t 0.002\n",
      "Default Sensitivity :\t 0.0002\n",
      "LIA Time Constant :\t 0.3\n",
      "Read Delay (s) :\t 1\n",
      "From 0 Delay (s) :\t 5\n",
      "Sensivity Delay (s) :\t 5\n",
      "Read Repetition Delay :\t 0.1\n",
      "Read Repetitions :\t 30\n",
      "Log File :\t c:\\Users\\plyslab\\Desktop\\SpinLab_FMR_Automation\\Experiment_Logs\\FMR_log_2023-6-8_18-58-6.log\n",
      "The parameters presently are:\n",
      "\n",
      "PS Output Current (A) :\t 1.04695\n",
      "PS Output Voltage (V) :\t 45.6532\n",
      "PS Output Mode (Current/Voltage) :\t Constant Current\n",
      "SG Frequency :\t FR03000000000HZ\n",
      "SG RF Output :\t On\n",
      "SG RF Output Level :\t LE-3.0DM\n",
      "LIA Sensitivity :\t 0.002\n",
      "Default Sensitivity :\t 0.0002\n",
      "LIA Time Constant :\t 0.3\n",
      "Read Delay (s) :\t 0.5\n",
      "From 0 Delay (s) :\t 5\n",
      "Sensivity Delay (s) :\t 5\n",
      "Read Repetition Delay :\t 0.1\n",
      "Read Repetitions :\t 10\n",
      "Log File :\t c:\\Users\\plyslab\\Desktop\\SpinLab_FMR_Automation\\Experiment_Logs\\FMR_log_2023-6-8_18-58-6.log\n"
     ]
    },
    {
     "name": "stderr",
     "output_type": "stream",
     "text": [
      "c:\\Users\\plyslab\\Desktop\\SpinLab_FMR_Automation\\experiment.py:240: UserWarning: Attempting to set identical low and high xlims makes transformation singular; automatically expanding.\n",
      "  self.ax.set_xlim(min(xdata), max(xdata))\n"
     ]
    },
    {
     "ename": "KeyboardInterrupt",
     "evalue": "",
     "output_type": "error",
     "traceback": [
      "\u001b[1;31m---------------------------------------------------------------------------\u001b[0m",
      "\u001b[1;31mKeyboardInterrupt\u001b[0m                         Traceback (most recent call last)",
      "Cell \u001b[1;32mIn[14], line 10\u001b[0m\n\u001b[0;32m      7\u001b[0m E\u001b[39m.\u001b[39mprint_parameters()\n\u001b[0;32m      9\u001b[0m save_dir \u001b[39m=\u001b[39m save_dir \u001b[39m=\u001b[39m \u001b[39mr\u001b[39m\u001b[39m'\u001b[39m\u001b[39mC:\u001b[39m\u001b[39m\\\u001b[39m\u001b[39mUsers\u001b[39m\u001b[39m\\\u001b[39m\u001b[39mplyslab\u001b[39m\u001b[39m\\\u001b[39m\u001b[39mDesktop\u001b[39m\u001b[39m'\u001b[39m\n\u001b[1;32m---> 10\u001b[0m E\u001b[39m.\u001b[39;49msweep_field(\u001b[39m2.0\u001b[39;49m, np\u001b[39m.\u001b[39;49mlinspace(\u001b[39m0\u001b[39;49m, \u001b[39m100\u001b[39;49m, \u001b[39m100\u001b[39;49m), save_dir\u001b[39m=\u001b[39;49msave_dir, savefig\u001b[39m=\u001b[39;49m\u001b[39mTrue\u001b[39;49;00m)\n",
      "File \u001b[1;32mc:\\Users\\plyslab\\Desktop\\SpinLab_FMR_Automation\\experiment.py:155\u001b[0m, in \u001b[0;36mExperiment.sweep_field\u001b[1;34m(self, frequency, fields, save_dir, savefig, closefig, default_sen)\u001b[0m\n\u001b[0;32m    153\u001b[0m \u001b[39mself\u001b[39m\u001b[39m.\u001b[39mPS\u001b[39m.\u001b[39mcurrent \u001b[39m=\u001b[39m current\n\u001b[0;32m    154\u001b[0m time\u001b[39m.\u001b[39msleep(\u001b[39mself\u001b[39m\u001b[39m.\u001b[39mread_delay)\n\u001b[1;32m--> 155\u001b[0m X_array\u001b[39m.\u001b[39mappend(\u001b[39mself\u001b[39;49m\u001b[39m.\u001b[39;49mreadLIA(\u001b[39m'\u001b[39;49m\u001b[39mX\u001b[39;49m\u001b[39m'\u001b[39;49m, \u001b[39m'\u001b[39;49m\u001b[39mmean mid-50\u001b[39;49m\u001b[39m'\u001b[39;49m))\n\u001b[0;32m    156\u001b[0m Y_array\u001b[39m.\u001b[39mappend(\u001b[39mself\u001b[39m\u001b[39m.\u001b[39mreadLIA(\u001b[39m'\u001b[39m\u001b[39mY\u001b[39m\u001b[39m'\u001b[39m, \u001b[39m'\u001b[39m\u001b[39mmean mid-50\u001b[39m\u001b[39m'\u001b[39m))\n\u001b[0;32m    157\u001b[0m \u001b[39mself\u001b[39m\u001b[39m.\u001b[39mupdate_plot(fields[\u001b[39m0\u001b[39m:i \u001b[39m+\u001b[39m \u001b[39m1\u001b[39m], X_array, Y_array)\n",
      "File \u001b[1;32mc:\\Users\\plyslab\\Desktop\\SpinLab_FMR_Automation\\experiment.py:281\u001b[0m, in \u001b[0;36mExperiment.readLIA\u001b[1;34m(self, channel, averaging)\u001b[0m\n\u001b[0;32m    279\u001b[0m arr \u001b[39m=\u001b[39m np\u001b[39m.\u001b[39marray([], dtype\u001b[39m=\u001b[39m\u001b[39mfloat\u001b[39m)\n\u001b[0;32m    280\u001b[0m \u001b[39mfor\u001b[39;00m i \u001b[39min\u001b[39;00m \u001b[39mrange\u001b[39m(\u001b[39mself\u001b[39m\u001b[39m.\u001b[39mread_repetitions):\n\u001b[1;32m--> 281\u001b[0m     arr \u001b[39m=\u001b[39m np\u001b[39m.\u001b[39mappend(arr, read_command())\n\u001b[0;32m    282\u001b[0m     time\u001b[39m.\u001b[39msleep(\u001b[39mself\u001b[39m\u001b[39m.\u001b[39mread_repetition_delay)\n\u001b[0;32m    283\u001b[0m val \u001b[39m=\u001b[39m avg_func(arr)\n",
      "File \u001b[1;32mc:\\Users\\plyslab\\Desktop\\SpinLab_FMR_Automation\\srs_sr830_RS232.py:218\u001b[0m, in \u001b[0;36mSRS_SR830.X\u001b[1;34m(self)\u001b[0m\n\u001b[0;32m    217\u001b[0m \u001b[39mdef\u001b[39;00m \u001b[39mX\u001b[39m(\u001b[39mself\u001b[39m):\n\u001b[1;32m--> 218\u001b[0m     \u001b[39mreturn\u001b[39;00m \u001b[39mself\u001b[39;49m\u001b[39m.\u001b[39;49mquery_float(\u001b[39m'\u001b[39;49m\u001b[39mOUTP? 1\u001b[39;49m\u001b[39m'\u001b[39;49m)\n",
      "File \u001b[1;32mc:\\Users\\plyslab\\Desktop\\SpinLab_FMR_Automation\\instrument_base.py:130\u001b[0m, in \u001b[0;36mInstrumentBase.query_float\u001b[1;34m(self, command)\u001b[0m\n\u001b[0;32m    129\u001b[0m \u001b[39mdef\u001b[39;00m \u001b[39mquery_float\u001b[39m(\u001b[39mself\u001b[39m, command):\n\u001b[1;32m--> 130\u001b[0m     \u001b[39mreturn\u001b[39;00m \u001b[39mself\u001b[39;49m\u001b[39m.\u001b[39;49mquery_type(command, \u001b[39mfloat\u001b[39;49m)\n",
      "File \u001b[1;32mc:\\Users\\plyslab\\Desktop\\SpinLab_FMR_Automation\\instrument_base.py:119\u001b[0m, in \u001b[0;36mInstrumentBase.query_type\u001b[1;34m(self, command, type_caster)\u001b[0m\n\u001b[0;32m    117\u001b[0m \u001b[39mdef\u001b[39;00m \u001b[39mquery_type\u001b[39m(\u001b[39mself\u001b[39m, command, type_caster):\n\u001b[0;32m    118\u001b[0m     \u001b[39mtry\u001b[39;00m:\n\u001b[1;32m--> 119\u001b[0m         returnQ \u001b[39m=\u001b[39m \u001b[39mself\u001b[39;49m\u001b[39m.\u001b[39;49mquery(command)\n\u001b[0;32m    120\u001b[0m         \u001b[39mreturn\u001b[39;00m type_caster(returnQ)\n\u001b[0;32m    121\u001b[0m     \u001b[39mexcept\u001b[39;00m \u001b[39mException\u001b[39;00m \u001b[39mas\u001b[39;00m E:\n",
      "File \u001b[1;32mc:\\Users\\plyslab\\Desktop\\SpinLab_FMR_Automation\\instrument_base.py:113\u001b[0m, in \u001b[0;36mInstrumentBase.query\u001b[1;34m(self, command)\u001b[0m\n\u001b[0;32m    111\u001b[0m \u001b[39mdef\u001b[39;00m \u001b[39mquery\u001b[39m(\u001b[39mself\u001b[39m, command):\n\u001b[0;32m    112\u001b[0m     \u001b[39mself\u001b[39m\u001b[39m.\u001b[39m_logWrite(\u001b[39m'\u001b[39m\u001b[39mquery\u001b[39m\u001b[39m'\u001b[39m, command)\n\u001b[1;32m--> 113\u001b[0m     returnQ \u001b[39m=\u001b[39m \u001b[39mself\u001b[39;49m\u001b[39m.\u001b[39;49mVI\u001b[39m.\u001b[39;49mquery(command)\n\u001b[0;32m    114\u001b[0m     \u001b[39mself\u001b[39m\u001b[39m.\u001b[39m_logWrite(\u001b[39m'\u001b[39m\u001b[39mresp \u001b[39m\u001b[39m'\u001b[39m, returnQ)\n\u001b[0;32m    115\u001b[0m     \u001b[39mreturn\u001b[39;00m returnQ\n",
      "File \u001b[1;32mc:\\Users\\plyslab\\anaconda3\\envs\\visa-env\\lib\\site-packages\\pyvisa\\resources\\messagebased.py:648\u001b[0m, in \u001b[0;36mMessageBasedResource.query\u001b[1;34m(self, message, delay)\u001b[0m\n\u001b[0;32m    645\u001b[0m \u001b[39mif\u001b[39;00m delay \u001b[39m>\u001b[39m \u001b[39m0.0\u001b[39m:\n\u001b[0;32m    646\u001b[0m     time\u001b[39m.\u001b[39msleep(delay)\n\u001b[1;32m--> 648\u001b[0m \u001b[39mreturn\u001b[39;00m \u001b[39mself\u001b[39;49m\u001b[39m.\u001b[39;49mread()\n",
      "File \u001b[1;32mc:\\Users\\plyslab\\anaconda3\\envs\\visa-env\\lib\\site-packages\\pyvisa\\resources\\messagebased.py:486\u001b[0m, in \u001b[0;36mMessageBasedResource.read\u001b[1;34m(self, termination, encoding)\u001b[0m\n\u001b[0;32m    484\u001b[0m \u001b[39mif\u001b[39;00m termination \u001b[39mis\u001b[39;00m \u001b[39mNone\u001b[39;00m:\n\u001b[0;32m    485\u001b[0m     termination \u001b[39m=\u001b[39m \u001b[39mself\u001b[39m\u001b[39m.\u001b[39m_read_termination\n\u001b[1;32m--> 486\u001b[0m     message \u001b[39m=\u001b[39m \u001b[39mself\u001b[39;49m\u001b[39m.\u001b[39;49m_read_raw()\u001b[39m.\u001b[39mdecode(enco)\n\u001b[0;32m    487\u001b[0m \u001b[39melse\u001b[39;00m:\n\u001b[0;32m    488\u001b[0m     \u001b[39mwith\u001b[39;00m \u001b[39mself\u001b[39m\u001b[39m.\u001b[39mread_termination_context(termination):\n",
      "File \u001b[1;32mc:\\Users\\plyslab\\anaconda3\\envs\\visa-env\\lib\\site-packages\\pyvisa\\resources\\messagebased.py:442\u001b[0m, in \u001b[0;36mMessageBasedResource._read_raw\u001b[1;34m(self, size)\u001b[0m\n\u001b[0;32m    435\u001b[0m     \u001b[39mwhile\u001b[39;00m status \u001b[39m==\u001b[39m loop_status:\n\u001b[0;32m    436\u001b[0m         logger\u001b[39m.\u001b[39mdebug(\n\u001b[0;32m    437\u001b[0m             \u001b[39m\"\u001b[39m\u001b[39m%s\u001b[39;00m\u001b[39m - reading \u001b[39m\u001b[39m%d\u001b[39;00m\u001b[39m bytes (last status \u001b[39m\u001b[39m%r\u001b[39;00m\u001b[39m)\u001b[39m\u001b[39m\"\u001b[39m,\n\u001b[0;32m    438\u001b[0m             \u001b[39mself\u001b[39m\u001b[39m.\u001b[39m_resource_name,\n\u001b[0;32m    439\u001b[0m             size,\n\u001b[0;32m    440\u001b[0m             status,\n\u001b[0;32m    441\u001b[0m         )\n\u001b[1;32m--> 442\u001b[0m         chunk, status \u001b[39m=\u001b[39m \u001b[39mself\u001b[39;49m\u001b[39m.\u001b[39;49mvisalib\u001b[39m.\u001b[39;49mread(\u001b[39mself\u001b[39;49m\u001b[39m.\u001b[39;49msession, size)\n\u001b[0;32m    443\u001b[0m         ret\u001b[39m.\u001b[39mextend(chunk)\n\u001b[0;32m    444\u001b[0m \u001b[39mexcept\u001b[39;00m errors\u001b[39m.\u001b[39mVisaIOError \u001b[39mas\u001b[39;00m e:\n",
      "File \u001b[1;32mc:\\Users\\plyslab\\anaconda3\\envs\\visa-env\\lib\\site-packages\\pyvisa\\ctwrapper\\functions.py:2337\u001b[0m, in \u001b[0;36mread\u001b[1;34m(library, session, count)\u001b[0m\n\u001b[0;32m   2335\u001b[0m buffer \u001b[39m=\u001b[39m create_string_buffer(count)\n\u001b[0;32m   2336\u001b[0m return_count \u001b[39m=\u001b[39m ViUInt32()\n\u001b[1;32m-> 2337\u001b[0m ret \u001b[39m=\u001b[39m library\u001b[39m.\u001b[39;49mviRead(session, buffer, count, byref(return_count))\n\u001b[0;32m   2338\u001b[0m \u001b[39mreturn\u001b[39;00m buffer\u001b[39m.\u001b[39mraw[: return_count\u001b[39m.\u001b[39mvalue], ret\n",
      "File \u001b[1;32mc:\\Users\\plyslab\\anaconda3\\envs\\visa-env\\lib\\site-packages\\pyvisa\\ctwrapper\\highlevel.py:184\u001b[0m, in \u001b[0;36mIVIVisaLibrary._return_handler\u001b[1;34m(self, ret_value, func, arguments)\u001b[0m\n\u001b[0;32m    181\u001b[0m     \u001b[39mfor\u001b[39;00m method_name \u001b[39min\u001b[39;00m \u001b[39mgetattr\u001b[39m(\u001b[39mself\u001b[39m\u001b[39m.\u001b[39mlib, \u001b[39m\"\u001b[39m\u001b[39m_functions\u001b[39m\u001b[39m\"\u001b[39m, []):\n\u001b[0;32m    182\u001b[0m         \u001b[39msetattr\u001b[39m(\u001b[39mself\u001b[39m, method_name, \u001b[39mgetattr\u001b[39m(\u001b[39mself\u001b[39m\u001b[39m.\u001b[39mlib, method_name))\n\u001b[1;32m--> 184\u001b[0m \u001b[39mdef\u001b[39;00m \u001b[39m_return_handler\u001b[39m(\u001b[39mself\u001b[39m, ret_value: \u001b[39mint\u001b[39m, func: Callable, arguments: \u001b[39mtuple\u001b[39m) \u001b[39m-\u001b[39m\u001b[39m>\u001b[39m Any:\n\u001b[0;32m    185\u001b[0m \u001b[39m    \u001b[39m\u001b[39m\"\"\"Check return values for errors and warnings.\"\"\"\u001b[39;00m\n\u001b[0;32m    186\u001b[0m     logger\u001b[39m.\u001b[39mdebug(\n\u001b[0;32m    187\u001b[0m         \u001b[39m\"\u001b[39m\u001b[39m%s\u001b[39;00m\u001b[39m%s\u001b[39;00m\u001b[39m -> \u001b[39m\u001b[39m%r\u001b[39;00m\u001b[39m\"\u001b[39m,\n\u001b[0;32m    188\u001b[0m         func\u001b[39m.\u001b[39m\u001b[39m__name__\u001b[39m,\n\u001b[1;32m   (...)\u001b[0m\n\u001b[0;32m    191\u001b[0m         extra\u001b[39m=\u001b[39m\u001b[39mself\u001b[39m\u001b[39m.\u001b[39m_logging_extra,\n\u001b[0;32m    192\u001b[0m     )\n",
      "\u001b[1;31mKeyboardInterrupt\u001b[0m: "
     ]
    }
   ],
   "source": [
    "E = Experiment()\n",
    "\n",
    "E.read_delay = 0.5\n",
    "E.read_repetitions = 10\n",
    "E.read_repetition_delay = 0.1\n",
    "E.SG.level = '-3'\n",
    "E.print_parameters()\n",
    "\n",
    "save_dir = save_dir = r'C:\\Users\\plyslab\\Desktop'\n",
    "E.sweep_field(2.0, np.linspace(0, 100, 100), save_dir=save_dir, savefig=True)"
   ]
  },
  {
   "cell_type": "code",
   "execution_count": 20,
   "metadata": {},
   "outputs": [
    {
     "name": "stdout",
     "output_type": "stream",
     "text": [
      "Welcome to the FMR Experiment!\n",
      "You might want to update some experiment parameters.\n",
      "The parameters presently are:\n",
      "\n",
      "PS Output Current (A) :\t 3.17405\n",
      "PS Output Voltage (V) :\t 51.317\n",
      "PS Output Mode (Current/Voltage) :\t Constant Current\n",
      "SG Frequency :\t FR03000000000HZ\n",
      "SG RF Output :\t On\n",
      "SG RF Output Level :\t LE-70.0DM\n",
      "LIA Sensitivity :\t 0.0005\n",
      "Default Sensitivity :\t 0.0002\n",
      "LIA Time Constant :\t 0.3\n",
      "Read Delay (s) :\t 1\n",
      "From 0 Delay (s) :\t 5\n",
      "Sensivity Delay (s) :\t 5\n",
      "Read Repetition Delay :\t 0.1\n",
      "Read Repetitions :\t 30\n",
      "Log File :\t c:\\Users\\plyslab\\Desktop\\SpinLab_FMR_Automation\\Experiment_Logs\\FMR_log_2023-6-8_12-10-27.log\n",
      "The parameters presently are:\n",
      "\n",
      "PS Output Current (A) :\t 6.2715\n",
      "PS Output Voltage (V) :\t -49.1772\n",
      "PS Output Mode (Current/Voltage) :\t Constant Current\n",
      "SG Frequency :\t FR03000000000HZ\n",
      "SG RF Output :\t On\n",
      "SG RF Output Level :\t LE-3.0DM\n",
      "LIA Sensitivity :\t 0.0005\n",
      "Default Sensitivity :\t 0.0002\n",
      "LIA Time Constant :\t 0.3\n",
      "Read Delay (s) :\t 0.5\n",
      "From 0 Delay (s) :\t 5\n",
      "Sensivity Delay (s) :\t 5\n",
      "Read Repetition Delay :\t 0.1\n",
      "Read Repetitions :\t 10\n",
      "Log File :\t c:\\Users\\plyslab\\Desktop\\SpinLab_FMR_Automation\\Experiment_Logs\\FMR_log_2023-6-8_12-10-27.log\n"
     ]
    }
   ],
   "source": [
    "E = Experiment()\n",
    "\n",
    "E.read_delay = 0.5\n",
    "E.read_repetitions = 10\n",
    "E.read_repetition_delay = 0.1\n",
    "E.SG.level = '-3'\n",
    "E.print_parameters()\n",
    "\n",
    "save_dir = save_dir = r'C:\\Users\\plyslab\\Desktop\\NiFe_2'\n",
    "E.sweep_field(3.0, np.linspace(0, 170, 200), save_dir=save_dir, savefig=True)"
   ]
  },
  {
   "cell_type": "code",
   "execution_count": 23,
   "metadata": {},
   "outputs": [
    {
     "name": "stdout",
     "output_type": "stream",
     "text": [
      "Welcome to the FMR Experiment!\n",
      "You might want to update some experiment parameters.\n",
      "The parameters presently are:\n",
      "\n",
      "PS Output Current (A) :\t 2.10769\n",
      "PS Output Voltage (V) :\t 51.2405\n",
      "PS Output Mode (Current/Voltage) :\t Constant Current\n",
      "SG Frequency :\t FR03000000000HZ\n",
      "SG RF Output :\t On\n",
      "SG RF Output Level :\t LE-70.0DM\n",
      "LIA Sensitivity :\t 0.0002\n",
      "Default Sensitivity :\t 0.0002\n",
      "LIA Time Constant :\t 0.3\n",
      "Read Delay (s) :\t 1\n",
      "From 0 Delay (s) :\t 5\n",
      "Sensivity Delay (s) :\t 5\n",
      "Read Repetition Delay :\t 0.1\n",
      "Read Repetitions :\t 30\n",
      "Log File :\t c:\\Users\\plyslab\\Desktop\\SpinLab_FMR_Automation\\Experiment_Logs\\FMR_log_2023-6-8_12-35-27.log\n"
     ]
    }
   ],
   "source": [
    "E = Experiment()\n",
    "\n",
    "E.read_delay = 0.5\n",
    "E.read_repetitions = 10\n",
    "E.read_repetition_delay = 0.1\n",
    "E.SG.level = '-3'\n",
    "\n",
    "save_dir = save_dir = r'C:\\Users\\plyslab\\Desktop\\NiFe_2'\n",
    "E.sweep_field(4.0, np.linspace(70, 270, 200), save_dir=save_dir, savefig=True)"
   ]
  },
  {
   "cell_type": "code",
   "execution_count": 3,
   "metadata": {},
   "outputs": [
    {
     "name": "stdout",
     "output_type": "stream",
     "text": [
      "Welcome to the FMR Experiment!\n",
      "You might want to update some experiment parameters.\n",
      "The parameters presently are:\n",
      "\n",
      "PS Output Current (A) :\t 1.10977\n",
      "PS Output Voltage (V) :\t 43.3619\n",
      "PS Output Mode (Current/Voltage) :\t Constant Current\n",
      "SG Frequency :\t FR03000000000HZ\n",
      "SG RF Output :\t On\n",
      "SG RF Output Level :\t LE-70.0DM\n",
      "LIA Sensitivity :\t 0.0002\n",
      "Default Sensitivity :\t 0.0002\n",
      "LIA Time Constant :\t 0.3\n",
      "Read Delay (s) :\t 1\n",
      "From 0 Delay (s) :\t 5\n",
      "Sensivity Delay (s) :\t 5\n",
      "Read Repetition Delay :\t 0.1\n",
      "Read Repetitions :\t 30\n",
      "Log File :\t c:\\Users\\plyslab\\Desktop\\SpinLab_FMR_Automation\\Experiment_Logs\\FMR_log_2023-6-8_12-53-22.log\n"
     ]
    }
   ],
   "source": [
    "E = Experiment()"
   ]
  },
  {
   "cell_type": "code",
   "execution_count": 4,
   "metadata": {},
   "outputs": [
    {
     "name": "stdout",
     "output_type": "stream",
     "text": [
      "The parameters presently are:\n",
      "\n",
      "PS Output Current (A) :\t 8.36285\n",
      "PS Output Voltage (V) :\t 42.7767\n",
      "PS Output Mode (Current/Voltage) :\t Constant Current\n",
      "SG Frequency :\t FR03000000000HZ\n",
      "SG RF Output :\t On\n",
      "SG RF Output Level :\t LE-3.0DM\n",
      "LIA Sensitivity :\t 0.0002\n",
      "Default Sensitivity :\t 0.0002\n",
      "LIA Time Constant :\t 0.3\n",
      "Read Delay (s) :\t 0.5\n",
      "From 0 Delay (s) :\t 5\n",
      "Sensivity Delay (s) :\t 5\n",
      "Read Repetition Delay :\t 0.1\n",
      "Read Repetitions :\t 10\n",
      "Log File :\t c:\\Users\\plyslab\\Desktop\\SpinLab_FMR_Automation\\Experiment_Logs\\FMR_log_2023-6-8_12-53-22.log\n"
     ]
    },
    {
     "name": "stderr",
     "output_type": "stream",
     "text": [
      "c:\\Users\\plyslab\\Desktop\\SpinLab_FMR_Automation\\experiment.py:240: UserWarning: Attempting to set identical low and high xlims makes transformation singular; automatically expanding.\n",
      "  self.ax.set_xlim(min(xdata), max(xdata))\n"
     ]
    }
   ],
   "source": [
    "E.read_delay = 0.5\n",
    "E.read_repetitions = 10\n",
    "E.read_repetition_delay = 0.1\n",
    "E.SG.level = '-3'\n",
    "E.print_parameters()\n",
    "\n",
    "save_dir = save_dir = r'C:\\Users\\plyslab\\Desktop\\NiFe_2'\n",
    "E.sweep_field(5.0, np.linspace(200, 400, 200), save_dir=save_dir, savefig=True)"
   ]
  },
  {
   "cell_type": "code",
   "execution_count": 6,
   "metadata": {},
   "outputs": [
    {
     "name": "stdout",
     "output_type": "stream",
     "text": [
      "The parameters presently are:\n",
      "\n",
      "PS Output Current (A) :\t 0.4604\n",
      "PS Output Voltage (V) :\t -52.1047\n",
      "PS Output Mode (Current/Voltage) :\t Constant Current\n",
      "SG Frequency :\t FR05000000000HZ\n",
      "SG RF Output :\t On\n",
      "SG RF Output Level :\t LE-3.0DM\n",
      "LIA Sensitivity :\t 0.0005\n",
      "Default Sensitivity :\t 0.0002\n",
      "LIA Time Constant :\t 0.3\n",
      "Read Delay (s) :\t 0.5\n",
      "From 0 Delay (s) :\t 5\n",
      "Sensivity Delay (s) :\t 5\n",
      "Read Repetition Delay :\t 0.1\n",
      "Read Repetitions :\t 10\n",
      "Log File :\t c:\\Users\\plyslab\\Desktop\\SpinLab_FMR_Automation\\Experiment_Logs\\FMR_log_2023-6-8_12-53-22.log\n"
     ]
    },
    {
     "name": "stderr",
     "output_type": "stream",
     "text": [
      "c:\\Users\\plyslab\\Desktop\\SpinLab_FMR_Automation\\experiment.py:240: UserWarning: Attempting to set identical low and high xlims makes transformation singular; automatically expanding.\n",
      "  self.ax.set_xlim(min(xdata), max(xdata))\n"
     ]
    }
   ],
   "source": [
    "E.read_delay = 0.5\n",
    "E.read_repetitions = 10\n",
    "E.read_repetition_delay = 0.1\n",
    "E.SG.level = '-3'\n",
    "E.print_parameters()\n",
    "\n",
    "save_dir = save_dir = r'C:\\Users\\plyslab\\Desktop\\NiFe_2'\n",
    "E.sweep_field(6.0, np.linspace(300, 600, 250), save_dir=save_dir, savefig=True)"
   ]
  },
  {
   "cell_type": "code",
   "execution_count": 7,
   "metadata": {},
   "outputs": [
    {
     "name": "stdout",
     "output_type": "stream",
     "text": [
      "The parameters presently are:\n",
      "\n",
      "PS Output Current (A) :\t 7.31692\n",
      "PS Output Voltage (V) :\t 45.9961\n",
      "PS Output Mode (Current/Voltage) :\t Constant Current\n",
      "SG Frequency :\t FR06000000000HZ\n",
      "SG RF Output :\t On\n",
      "SG RF Output Level :\t LE-3.0DM\n",
      "LIA Sensitivity :\t 0.001\n",
      "Default Sensitivity :\t 0.0002\n",
      "LIA Time Constant :\t 0.3\n",
      "Read Delay (s) :\t 0.5\n",
      "From 0 Delay (s) :\t 5\n",
      "Sensivity Delay (s) :\t 5\n",
      "Read Repetition Delay :\t 0.1\n",
      "Read Repetitions :\t 15\n",
      "Log File :\t c:\\Users\\plyslab\\Desktop\\SpinLab_FMR_Automation\\Experiment_Logs\\FMR_log_2023-6-8_12-53-22.log\n"
     ]
    },
    {
     "name": "stderr",
     "output_type": "stream",
     "text": [
      "c:\\Users\\plyslab\\Desktop\\SpinLab_FMR_Automation\\experiment.py:240: UserWarning: Attempting to set identical low and high xlims makes transformation singular; automatically expanding.\n",
      "  self.ax.set_xlim(min(xdata), max(xdata))\n"
     ]
    }
   ],
   "source": [
    "E.read_delay = 0.5\n",
    "E.read_repetitions = 15\n",
    "E.read_repetition_delay = 0.1\n",
    "E.SG.level = '-3'\n",
    "E.print_parameters()\n",
    "\n",
    "save_dir = save_dir = r'C:\\Users\\plyslab\\Desktop\\NiFe_2'\n",
    "E.sweep_field(7.0, np.linspace(400, 700, 250), save_dir=save_dir, savefig=True)"
   ]
  },
  {
   "cell_type": "code",
   "execution_count": 9,
   "metadata": {},
   "outputs": [
    {
     "name": "stdout",
     "output_type": "stream",
     "text": [
      "The parameters presently are:\n",
      "\n",
      "PS Output Current (A) :\t 5.23297\n",
      "PS Output Voltage (V) :\t 47.8473\n",
      "PS Output Mode (Current/Voltage) :\t Constant Current\n",
      "SG Frequency :\t FR07000000000HZ\n",
      "SG RF Output :\t On\n",
      "SG RF Output Level :\t LE-3.0DM\n",
      "LIA Sensitivity :\t 0.001\n",
      "Default Sensitivity :\t 0.0002\n",
      "LIA Time Constant :\t 0.3\n",
      "Read Delay (s) :\t 0.5\n",
      "From 0 Delay (s) :\t 5\n",
      "Sensivity Delay (s) :\t 5\n",
      "Read Repetition Delay :\t 0.1\n",
      "Read Repetitions :\t 15\n",
      "Log File :\t c:\\Users\\plyslab\\Desktop\\SpinLab_FMR_Automation\\Experiment_Logs\\FMR_log_2023-6-8_12-53-22.log\n"
     ]
    },
    {
     "name": "stderr",
     "output_type": "stream",
     "text": [
      "c:\\Users\\plyslab\\Desktop\\SpinLab_FMR_Automation\\experiment.py:240: UserWarning: Attempting to set identical low and high xlims makes transformation singular; automatically expanding.\n",
      "  self.ax.set_xlim(min(xdata), max(xdata))\n"
     ]
    }
   ],
   "source": [
    "E.read_delay = 0.5\n",
    "E.read_repetitions = 15\n",
    "E.read_repetition_delay = 0.1\n",
    "E.SG.level = '-3'\n",
    "E.print_parameters()\n",
    "\n",
    "save_dir = save_dir = r'C:\\Users\\plyslab\\Desktop\\NiFe_2'\n",
    "E.sweep_field(8.0, np.linspace(550, 900, 300), save_dir=save_dir, savefig=True)"
   ]
  },
  {
   "cell_type": "code",
   "execution_count": 11,
   "metadata": {},
   "outputs": [
    {
     "name": "stdout",
     "output_type": "stream",
     "text": [
      "The parameters presently are:\n",
      "\n",
      "PS Output Current (A) :\t 1.07912\n",
      "PS Output Voltage (V) :\t -39.7152\n",
      "PS Output Mode (Current/Voltage) :\t Constant Current\n",
      "SG Frequency :\t FR08000000000HZ\n",
      "SG RF Output :\t On\n",
      "SG RF Output Level :\t LE-3.0DM\n",
      "LIA Sensitivity :\t 0.0005\n",
      "Default Sensitivity :\t 0.0002\n",
      "LIA Time Constant :\t 0.3\n",
      "Read Delay (s) :\t 0.5\n",
      "From 0 Delay (s) :\t 5\n",
      "Sensivity Delay (s) :\t 5\n",
      "Read Repetition Delay :\t 0.1\n",
      "Read Repetitions :\t 20\n",
      "Log File :\t c:\\Users\\plyslab\\Desktop\\SpinLab_FMR_Automation\\Experiment_Logs\\FMR_log_2023-6-8_12-53-22.log\n"
     ]
    }
   ],
   "source": [
    "E.read_delay = 0.5\n",
    "E.read_repetitions = 20\n",
    "E.read_repetition_delay = 0.1\n",
    "E.SG.level = '-3'\n",
    "E.print_parameters()\n",
    "\n",
    "save_dir = save_dir = r'C:\\Users\\plyslab\\Desktop\\NiFe_2'\n",
    "E.sweep_field(9.0, np.linspace(700, 1050, 300), save_dir=save_dir, savefig=True)"
   ]
  },
  {
   "cell_type": "code",
   "execution_count": 13,
   "metadata": {},
   "outputs": [
    {
     "name": "stdout",
     "output_type": "stream",
     "text": [
      "The parameters presently are:\n",
      "\n",
      "PS Output Current (A) :\t 1.26425\n",
      "PS Output Voltage (V) :\t -50.8004\n",
      "PS Output Mode (Current/Voltage) :\t Constant Current\n",
      "SG Frequency :\t FR09000000000HZ\n",
      "SG RF Output :\t On\n",
      "SG RF Output Level :\t LE-3.0DM\n",
      "LIA Sensitivity :\t 0.0002\n",
      "Default Sensitivity :\t 0.0002\n",
      "LIA Time Constant :\t 0.3\n",
      "Read Delay (s) :\t 0.5\n",
      "From 0 Delay (s) :\t 5\n",
      "Sensivity Delay (s) :\t 5\n",
      "Read Repetition Delay :\t 0.1\n",
      "Read Repetitions :\t 30\n",
      "Log File :\t c:\\Users\\plyslab\\Desktop\\SpinLab_FMR_Automation\\Experiment_Logs\\FMR_log_2023-6-8_12-53-22.log\n"
     ]
    }
   ],
   "source": [
    "E.read_delay = 0.5\n",
    "E.read_repetitions = 30\n",
    "E.read_repetition_delay = 0.1\n",
    "E.SG.level = '-3'\n",
    "E.print_parameters()\n",
    "\n",
    "save_dir = save_dir = r'C:\\Users\\plyslab\\Desktop\\NiFe_2'\n",
    "E.sweep_field(10.0, np.linspace(850, 1350, 300), save_dir=save_dir, savefig=True)"
   ]
  },
  {
   "cell_type": "code",
   "execution_count": 14,
   "metadata": {},
   "outputs": [
    {
     "name": "stdout",
     "output_type": "stream",
     "text": [
      "The parameters presently are:\n",
      "\n",
      "PS Output Current (A) :\t 3.14775\n",
      "PS Output Voltage (V) :\t 49.6715\n",
      "PS Output Mode (Current/Voltage) :\t Constant Current\n",
      "SG Frequency :\t FR10000000000HZ\n",
      "SG RF Output :\t On\n",
      "SG RF Output Level :\t LE-3.0DM\n",
      "LIA Sensitivity :\t 0.0005\n",
      "Default Sensitivity :\t 0.0002\n",
      "LIA Time Constant :\t 0.3\n",
      "Read Delay (s) :\t 0.5\n",
      "From 0 Delay (s) :\t 5\n",
      "Sensivity Delay (s) :\t 5\n",
      "Read Repetition Delay :\t 0.05\n",
      "Read Repetitions :\t 30\n",
      "Log File :\t c:\\Users\\plyslab\\Desktop\\SpinLab_FMR_Automation\\Experiment_Logs\\FMR_log_2023-6-8_12-53-22.log\n"
     ]
    },
    {
     "name": "stderr",
     "output_type": "stream",
     "text": [
      "c:\\Users\\plyslab\\Desktop\\SpinLab_FMR_Automation\\experiment.py:240: UserWarning: Attempting to set identical low and high xlims makes transformation singular; automatically expanding.\n",
      "  self.ax.set_xlim(min(xdata), max(xdata))\n"
     ]
    }
   ],
   "source": [
    "E.read_delay = 0.5\n",
    "E.read_repetitions = 30\n",
    "E.read_repetition_delay = 0.05\n",
    "E.SG.level = '-3'\n",
    "E.print_parameters()\n",
    "\n",
    "save_dir = save_dir = r'C:\\Users\\plyslab\\Desktop\\NiFe_2'\n",
    "E.sweep_field(11.0, np.linspace(1050, 1550, 300), save_dir=save_dir, savefig=True)"
   ]
  },
  {
   "cell_type": "code",
   "execution_count": null,
   "metadata": {},
   "outputs": [],
   "source": [
    "E.read_delay = 0.5\n",
    "E.read_repetitions = 30\n",
    "E.read_repetition_delay = 0.05\n",
    "E.SG.level = '-3'\n",
    "E.print_parameters()\n",
    "\n",
    "save_dir = save_dir = r'C:\\Users\\plyslab\\Desktop\\NiFe_2'\n",
    "E.sweep_field(11.0, np.linspace(1050, 1550, 300), save_dir=save_dir, savefig=True)"
   ]
  },
  {
   "attachments": {},
   "cell_type": "markdown",
   "metadata": {},
   "source": [
    "We now have a lot of data to analyse.\n",
    "\n",
    "First, let's find out the midpoints for all our field sweeps."
   ]
  },
  {
   "cell_type": "code",
   "execution_count": 3,
   "metadata": {},
   "outputs": [],
   "source": [
    "import os\n",
    "import glob"
   ]
  },
  {
   "cell_type": "code",
   "execution_count": 4,
   "metadata": {},
   "outputs": [
    {
     "data": {
      "text/plain": [
       "['C:\\\\Users\\\\plyslab\\\\Desktop\\\\NiFe_2\\\\freq_10.0_GHz_field_850.0-1350.0_Oe.csv',\n",
       " 'C:\\\\Users\\\\plyslab\\\\Desktop\\\\NiFe_2\\\\freq_11.0_GHz_field_1050.0-1550.0_Oe.csv',\n",
       " 'C:\\\\Users\\\\plyslab\\\\Desktop\\\\NiFe_2\\\\freq_2.0_GHz_field_0.0-100.0_Oe.csv',\n",
       " 'C:\\\\Users\\\\plyslab\\\\Desktop\\\\NiFe_2\\\\freq_3.0_GHz_field_0.0-170.0_Oe.csv',\n",
       " 'C:\\\\Users\\\\plyslab\\\\Desktop\\\\NiFe_2\\\\freq_4.0_GHz_field_70.0-270.0_Oe.csv',\n",
       " 'C:\\\\Users\\\\plyslab\\\\Desktop\\\\NiFe_2\\\\freq_5.0_GHz_field_200.0-400.0_Oe.csv',\n",
       " 'C:\\\\Users\\\\plyslab\\\\Desktop\\\\NiFe_2\\\\freq_6.0_GHz_field_300.0-600.0_Oe.csv',\n",
       " 'C:\\\\Users\\\\plyslab\\\\Desktop\\\\NiFe_2\\\\freq_7.0_GHz_field_400.0-700.0_Oe.csv',\n",
       " 'C:\\\\Users\\\\plyslab\\\\Desktop\\\\NiFe_2\\\\freq_8.0_GHz_field_550.0-900.0_Oe.csv',\n",
       " 'C:\\\\Users\\\\plyslab\\\\Desktop\\\\NiFe_2\\\\freq_9.0_GHz_field_700.0-1050.0_Oe.csv']"
      ]
     },
     "execution_count": 4,
     "metadata": {},
     "output_type": "execute_result"
    }
   ],
   "source": [
    "csv_dir = r'C:\\Users\\plyslab\\Desktop\\NiFe_2'\n",
    "csv_files = glob.glob(os.path.join(csv_dir, \"*.csv\"))\n",
    "csv_files"
   ]
  },
  {
   "cell_type": "code",
   "execution_count": 5,
   "metadata": {},
   "outputs": [],
   "source": [
    "swept_freqs = [float(x.split('\\\\')[-1].split('_')[1]) for x in csv_files]\n",
    "field_midpoints = [get_midpoint(x, channel='both') for x in csv_files]"
   ]
  },
  {
   "attachments": {},
   "cell_type": "markdown",
   "metadata": {},
   "source": [
    "We will now do a frequency sweep at 2 GHz"
   ]
  },
  {
   "cell_type": "code",
   "execution_count": 6,
   "metadata": {},
   "outputs": [
    {
     "name": "stdout",
     "output_type": "stream",
     "text": [
      "Welcome to the FMR Experiment!\n",
      "You might want to update some experiment parameters.\n",
      "The parameters presently are:\n",
      "\n",
      "PS Output Current (A) :\t 1.11028\n",
      "PS Output Voltage (V) :\t 48.0817\n",
      "PS Output Mode (Current/Voltage) :\t Constant Current\n",
      "SG Frequency :\t FR03000000000HZ\n",
      "SG RF Output :\t On\n",
      "SG RF Output Level :\t LE-70.0DM\n",
      "LIA Sensitivity :\t 0.002\n",
      "Default Sensitivity :\t 0.0002\n",
      "LIA Time Constant :\t 0.3\n",
      "Read Delay (s) :\t 1\n",
      "From 0 Delay (s) :\t 5\n",
      "Sensivity Delay (s) :\t 5\n",
      "Read Repetition Delay :\t 0.1\n",
      "Read Repetitions :\t 30\n",
      "Log File :\t c:\\Users\\plyslab\\Desktop\\SpinLab_FMR_Automation\\Experiment_Logs\\FMR_log_2023-6-8_19-10-20.log\n"
     ]
    }
   ],
   "source": [
    "E = Experiment()"
   ]
  },
  {
   "cell_type": "code",
   "execution_count": 7,
   "metadata": {},
   "outputs": [
    {
     "name": "stdout",
     "output_type": "stream",
     "text": [
      "The parameters presently are:\n",
      "\n",
      "PS Output Current (A) :\t 7.3159\n",
      "PS Output Voltage (V) :\t 46.9863\n",
      "PS Output Mode (Current/Voltage) :\t Constant Current\n",
      "SG Frequency :\t FR03000000000HZ\n",
      "SG RF Output :\t On\n",
      "SG RF Output Level :\t LE-3.0DM\n",
      "LIA Sensitivity :\t 0.002\n",
      "Default Sensitivity :\t 0.0002\n",
      "LIA Time Constant :\t 0.3\n",
      "Read Delay (s) :\t 0.5\n",
      "From 0 Delay (s) :\t 5\n",
      "Sensivity Delay (s) :\t 5\n",
      "Read Repetition Delay :\t 0.1\n",
      "Read Repetitions :\t 10\n",
      "Log File :\t c:\\Users\\plyslab\\Desktop\\SpinLab_FMR_Automation\\Experiment_Logs\\FMR_log_2023-6-8_19-10-20.log\n"
     ]
    }
   ],
   "source": [
    "E.read_delay = 0.5\n",
    "E.read_repetitions = 10\n",
    "E.read_repetition_delay = 0.1\n",
    "E.SG.level = '-3'\n",
    "#E.default_sensitivity = 0.002\n",
    "E.print_parameters()"
   ]
  },
  {
   "cell_type": "code",
   "execution_count": 8,
   "metadata": {},
   "outputs": [
    {
     "name": "stderr",
     "output_type": "stream",
     "text": [
      "c:\\Users\\plyslab\\Desktop\\SpinLab_FMR_Automation\\experiment.py:240: UserWarning: Attempting to set identical low and high xlims makes transformation singular; automatically expanding.\n",
      "  self.ax.set_xlim(min(xdata), max(xdata))\n"
     ]
    }
   ],
   "source": [
    "save_dir = r'C:\\Users\\plyslab\\Desktop\\NiFe_2\\freq_swaps'\n",
    "E.sweep_frequency(field_midpoints[3], np.linspace(2.5, 3.5, 100), save_dir=save_dir)"
   ]
  },
  {
   "cell_type": "code",
   "execution_count": null,
   "metadata": {},
   "outputs": [],
   "source": []
  }
 ],
 "metadata": {
  "kernelspec": {
   "display_name": "visa-env",
   "language": "python",
   "name": "python3"
  },
  "language_info": {
   "codemirror_mode": {
    "name": "ipython",
    "version": 3
   },
   "file_extension": ".py",
   "mimetype": "text/x-python",
   "name": "python",
   "nbconvert_exporter": "python",
   "pygments_lexer": "ipython3",
   "version": "3.10.11"
  },
  "orig_nbformat": 4
 },
 "nbformat": 4,
 "nbformat_minor": 2
}
