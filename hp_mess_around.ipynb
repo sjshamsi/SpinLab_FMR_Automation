{
 "cells": [
  {
   "cell_type": "code",
   "execution_count": 1,
   "id": "258b3271-2946-47ae-8997-a6f5c1b8633e",
   "metadata": {},
   "outputs": [],
   "source": [
    "from HP8673G import HP_CWG"
   ]
  },
  {
   "cell_type": "code",
   "execution_count": 12,
   "id": "dc46f485-1837-4b5d-b7bc-44bc87b28fd7",
   "metadata": {},
   "outputs": [
    {
     "data": {
      "text/plain": [
       "('GPIB0::15::INSTR', 'ASRL3::INSTR', 'ASRL4::INSTR')"
      ]
     },
     "execution_count": 12,
     "metadata": {},
     "output_type": "execute_result"
    }
   ],
   "source": [
    "import pyvisa\n",
    "\n",
    "rm = pyvisa.ResourceManager()\n",
    "rm.list_resources()"
   ]
  },
  {
   "cell_type": "code",
   "execution_count": 13,
   "id": "ed667768",
   "metadata": {},
   "outputs": [],
   "source": [
    "hp = rm.open_resource('GPIB0::15::INSTR')\n",
    "hp.read_termination = hp.LF\n",
    "hp.write_termination = hp.LF"
   ]
  },
  {
   "cell_type": "code",
   "execution_count": 14,
   "id": "c502f943-7b3c-42ce-ac1f-6ebe032fae1c",
   "metadata": {},
   "outputs": [
    {
     "name": "stdout",
     "output_type": "stream",
     "text": [
      "Centre Frequency (CF OA):  CF03000000000HZ\n",
      "Lock Frequency (OK):  FR03000000000HZ\n",
      "Frequency Increment (FI OA):  FI00001000000HZ\n",
      "Start Frequency (FA OA):  FA02000000000HZ\n",
      "End Frequency (FB OA):  FB04000000000HZ\n",
      "Delta Frequency (FS OA):  FS02000000000HZ\n",
      "\n",
      "\n",
      "Step Size, # of Steps (SPOA):  SP00020000000HZ,SP0100SS\n",
      "\n",
      "\n",
      "Dwell Time (DW OA):  DW0020MS\n",
      "\n",
      "\n",
      "Level (LE OA):  LE-70.0DM\n",
      "Range (RA OA):  RA-70DM\n",
      "Vernier (VE OA):  VE0.0DM\n"
     ]
    }
   ],
   "source": [
    "# Run this cell to print out all HP settings\n",
    "\n",
    "print('Centre Frequency (CF OA): ', hp.query('CF OA'))\n",
    "print('Lock Frequency (OK): ', hp.query('OK'))\n",
    "print('Frequency Increment (FI OA): ', hp.query('FI OA'))\n",
    "print('Start Frequency (FA OA): ', hp.query('FA OA'))\n",
    "print('End Frequency (FB OA): ', hp.query('FB OA'))\n",
    "print('Delta Frequency (FS OA): ', hp.query('FS OA'))\n",
    "print('\\n')\n",
    "print('Step Size, # of Steps (SPOA): ', hp.query('SPOA'))\n",
    "print('\\n')\n",
    "print('Dwell Time (DW OA): ', hp.query('DW OA'))\n",
    "print('\\n')\n",
    "print('Level (LE OA): ', hp.query('LE OA'))\n",
    "print('Range (RA OA): ', hp.query('RA OA'))\n",
    "print('Vernier (VE OA): ', hp.query('VE OA'))"
   ]
  },
  {
   "cell_type": "code",
   "execution_count": 7,
   "id": "73352a8c",
   "metadata": {},
   "outputs": [
    {
     "data": {
      "text/plain": [
       "9"
      ]
     },
     "execution_count": 7,
     "metadata": {},
     "output_type": "execute_result"
    }
   ],
   "source": [
    "hp.write('VE 0 DM')\n",
    "hp.write('RA 10 DM')"
   ]
  },
  {
   "cell_type": "code",
   "execution_count": 7,
   "id": "7e034784",
   "metadata": {},
   "outputs": [
    {
     "data": {
      "text/plain": [
       "'SP00010000000HZ,SP0200SS'"
      ]
     },
     "execution_count": 7,
     "metadata": {},
     "output_type": "execute_result"
    }
   ],
   "source": [
    "hp.query('SP 200 SS')"
   ]
  },
  {
   "cell_type": "code",
   "execution_count": 21,
   "id": "f23a8f8b",
   "metadata": {},
   "outputs": [
    {
     "data": {
      "text/plain": [
       "'SP00010000000HZ,SP0200SS'"
      ]
     },
     "execution_count": 21,
     "metadata": {},
     "output_type": "execute_result"
    }
   ],
   "source": [
    "spoa = hp.query('SPOA')\n",
    "spoa"
   ]
  },
  {
   "cell_type": "code",
   "execution_count": 22,
   "id": "13103eb2",
   "metadata": {},
   "outputs": [
    {
     "data": {
      "text/plain": [
       "10"
      ]
     },
     "execution_count": 22,
     "metadata": {},
     "output_type": "execute_result"
    }
   ],
   "source": [
    "hp.write('SP 400 SS')"
   ]
  },
  {
   "cell_type": "code",
   "execution_count": 23,
   "id": "280b6f31",
   "metadata": {},
   "outputs": [
    {
     "data": {
      "text/plain": [
       "'SP00005000000HZ,SP0400SS'"
      ]
     },
     "execution_count": 23,
     "metadata": {},
     "output_type": "execute_result"
    }
   ],
   "source": [
    "hp.query('SPOA')"
   ]
  },
  {
   "cell_type": "code",
   "execution_count": 24,
   "id": "4a1fa6cb",
   "metadata": {},
   "outputs": [
    {
     "data": {
      "text/plain": [
       "9"
      ]
     },
     "execution_count": 24,
     "metadata": {},
     "output_type": "execute_result"
    }
   ],
   "source": [
    "hp.write('SP 10 MZ')"
   ]
  },
  {
   "cell_type": "code",
   "execution_count": 25,
   "id": "e926ff91",
   "metadata": {},
   "outputs": [
    {
     "data": {
      "text/plain": [
       "'SP00010000000HZ,SP0200SS'"
      ]
     },
     "execution_count": 25,
     "metadata": {},
     "output_type": "execute_result"
    }
   ],
   "source": [
    "hp.query('SPOA')"
   ]
  },
  {
   "attachments": {},
   "cell_type": "markdown",
   "id": "e2fd1490",
   "metadata": {},
   "source": [
    "### Messing with HP_CWG Object"
   ]
  },
  {
   "cell_type": "code",
   "execution_count": 2,
   "id": "0316f9d9",
   "metadata": {},
   "outputs": [],
   "source": [
    "HP = HP_CWG()"
   ]
  },
  {
   "cell_type": "code",
   "execution_count": 3,
   "id": "a932c120",
   "metadata": {},
   "outputs": [
    {
     "data": {
      "text/plain": [
       "'FR03000000000HZ'"
      ]
     },
     "execution_count": 3,
     "metadata": {},
     "output_type": "execute_result"
    }
   ],
   "source": [
    "HP.frequency"
   ]
  },
  {
   "cell_type": "code",
   "execution_count": 4,
   "id": "b7cbba34",
   "metadata": {},
   "outputs": [
    {
     "data": {
      "text/plain": [
       "'SP00020000000HZ,SP0100SS'"
      ]
     },
     "execution_count": 4,
     "metadata": {},
     "output_type": "execute_result"
    }
   ],
   "source": [
    "HP.query('SPOA')"
   ]
  },
  {
   "cell_type": "code",
   "execution_count": 3,
   "id": "4e00514d",
   "metadata": {},
   "outputs": [],
   "source": [
    "HP.steps"
   ]
  },
  {
   "cell_type": "code",
   "execution_count": 5,
   "id": "a1c553b8",
   "metadata": {},
   "outputs": [
    {
     "data": {
      "text/plain": [
       "'LE-70.0DM'"
      ]
     },
     "execution_count": 5,
     "metadata": {},
     "output_type": "execute_result"
    }
   ],
   "source": [
    "HP.query('LE OA')"
   ]
  },
  {
   "cell_type": "code",
   "execution_count": 6,
   "id": "5d1ba74f",
   "metadata": {},
   "outputs": [],
   "source": [
    "HP.range"
   ]
  },
  {
   "cell_type": "code",
   "execution_count": 5,
   "id": "36048069",
   "metadata": {},
   "outputs": [
    {
     "name": "stdout",
     "output_type": "stream",
     "text": [
      "R0\n"
     ]
    }
   ],
   "source": [
    "HP.RF = 'Off'"
   ]
  },
  {
   "cell_type": "code",
   "execution_count": 6,
   "id": "5ce606f5",
   "metadata": {},
   "outputs": [
    {
     "data": {
      "text/plain": [
       "'Off'"
      ]
     },
     "execution_count": 6,
     "metadata": {},
     "output_type": "execute_result"
    }
   ],
   "source": [
    "HP.RF"
   ]
  },
  {
   "cell_type": "code",
   "execution_count": 10,
   "id": "3d82e3ba",
   "metadata": {},
   "outputs": [
    {
     "data": {
      "text/plain": [
       "'a'"
      ]
     },
     "execution_count": 10,
     "metadata": {},
     "output_type": "execute_result"
    }
   ],
   "source": [
    "['a', 'b'][['On', 'Off'] == 'Off']"
   ]
  },
  {
   "cell_type": "code",
   "execution_count": 14,
   "id": "83fe16ed",
   "metadata": {},
   "outputs": [
    {
     "data": {
      "text/plain": [
       "1"
      ]
     },
     "execution_count": 14,
     "metadata": {},
     "output_type": "execute_result"
    }
   ],
   "source": [
    "['On', 'Off'].index('Off')"
   ]
  },
  {
   "cell_type": "code",
   "execution_count": 7,
   "id": "28a28c7c",
   "metadata": {},
   "outputs": [
    {
     "name": "stdout",
     "output_type": "stream",
     "text": [
      "None\n",
      "<bound method HP_CWG.level of <HP8673G.HP_CWG object at 0x000001A264626A70>>\n",
      "None\n"
     ]
    }
   ],
   "source": [
    "from HP8673G import HP_CWG\n",
    "\n",
    "HP = HP_CWG()\n",
    "\n",
    "print(HP.steps)\n",
    "print(HP.level)\n",
    "print(HP.range)"
   ]
  },
  {
   "cell_type": "code",
   "execution_count": null,
   "id": "be47fe2f",
   "metadata": {},
   "outputs": [],
   "source": []
  }
 ],
 "metadata": {
  "kernelspec": {
   "display_name": "Python 3 (ipykernel)",
   "language": "python",
   "name": "python3"
  },
  "language_info": {
   "codemirror_mode": {
    "name": "ipython",
    "version": 3
   },
   "file_extension": ".py",
   "mimetype": "text/x-python",
   "name": "python",
   "nbconvert_exporter": "python",
   "pygments_lexer": "ipython3",
   "version": "3.10.11"
  }
 },
 "nbformat": 4,
 "nbformat_minor": 5
}
