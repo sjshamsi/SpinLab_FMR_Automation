{
 "cells": [
  {
   "cell_type": "code",
   "execution_count": 3,
   "id": "de04a07f",
   "metadata": {},
   "outputs": [],
   "source": [
    "from bop import KEPCO_BOP"
   ]
  },
  {
   "cell_type": "code",
   "execution_count": 4,
   "id": "7fa9168e",
   "metadata": {},
   "outputs": [],
   "source": [
    "KB = KEPCO_BOP(ResourceName='GPIB0::6::INSTR')"
   ]
  },
  {
   "cell_type": "code",
   "execution_count": 5,
   "id": "4045625f",
   "metadata": {},
   "outputs": [],
   "source": [
    "KB.BEEP()"
   ]
  },
  {
   "cell_type": "code",
   "execution_count": 52,
   "id": "afc25f2d",
   "metadata": {},
   "outputs": [],
   "source": [
    "KB.CurrentMode()"
   ]
  },
  {
   "cell_type": "code",
   "execution_count": 47,
   "id": "b5fe1d65",
   "metadata": {},
   "outputs": [],
   "source": [
    "KB.VoltageMode()"
   ]
  },
  {
   "cell_type": "code",
   "execution_count": 48,
   "id": "d72e6e6e",
   "metadata": {},
   "outputs": [
    {
     "data": {
      "text/plain": [
       "'Constant Voltage'"
      ]
     },
     "execution_count": 48,
     "metadata": {},
     "output_type": "execute_result"
    }
   ],
   "source": [
    "KB.OperationMode"
   ]
  },
  {
   "cell_type": "code",
   "execution_count": 20,
   "id": "e77fbfe9",
   "metadata": {},
   "outputs": [
    {
     "data": {
      "text/plain": [
       "0.0"
      ]
     },
     "execution_count": 20,
     "metadata": {},
     "output_type": "execute_result"
    }
   ],
   "source": [
    "KB.voltage"
   ]
  },
  {
   "cell_type": "code",
   "execution_count": 51,
   "id": "17fb39ca",
   "metadata": {},
   "outputs": [],
   "source": [
    "KB.voltage = "
   ]
  },
  {
   "cell_type": "code",
   "execution_count": 54,
   "id": "30833771",
   "metadata": {},
   "outputs": [],
   "source": [
    "KB.current = 0.5"
   ]
  },
  {
   "cell_type": "code",
   "execution_count": 44,
   "id": "a03c1943",
   "metadata": {},
   "outputs": [],
   "source": [
    "KB.Output('ON')"
   ]
  },
  {
   "cell_type": "code",
   "execution_count": 42,
   "id": "6970d66f",
   "metadata": {},
   "outputs": [],
   "source": [
    "KB.SetRange('Full')"
   ]
  },
  {
   "cell_type": "code",
   "execution_count": 49,
   "id": "1348cebb",
   "metadata": {},
   "outputs": [],
   "source": [
    "KB.write('VOLT MAX')"
   ]
  },
  {
   "cell_type": "code",
   "execution_count": 7,
   "id": "c12287bf",
   "metadata": {},
   "outputs": [],
   "source": [
    "KB.VI.close()"
   ]
  },
  {
   "cell_type": "code",
   "execution_count": null,
   "id": "abe98804",
   "metadata": {},
   "outputs": [],
   "source": []
  }
 ],
 "metadata": {
  "kernelspec": {
   "display_name": "Python 3 (ipykernel)",
   "language": "python",
   "name": "python3"
  },
  "language_info": {
   "codemirror_mode": {
    "name": "ipython",
    "version": 3
   },
   "file_extension": ".py",
   "mimetype": "text/x-python",
   "name": "python",
   "nbconvert_exporter": "python",
   "pygments_lexer": "ipython3",
   "version": "3.10.11"
  }
 },
 "nbformat": 4,
 "nbformat_minor": 5
}
