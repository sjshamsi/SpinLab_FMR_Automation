{
 "cells": [
  {
   "attachments": {},
   "cell_type": "markdown",
   "metadata": {},
   "source": [
    "### Hello, welcome to the FMR Python Automation tutorial!\n",
    "\n",
    "We'll go over our code and how to use it.\n",
    "\n",
    "**Structure**\n",
    "\n",
    "Our code is based on just a couple of Python scripts. These are:\n",
    "- `instrument_base.py`\n",
    "- `bop50_8d.py`\n",
    "- `hp_8673g.py`\n",
    "- `srs_sr830.py`\n",
    "- `fmr_experiment.py`\n",
    "\n",
    "The first four files help us initialise and interact with our instruments. The last file `fmr_experiment.py` gives us some methods to then conduct various sweeps.\n",
    "\n",
    "**What do I need to do to use these scripts?**\n",
    "\n",
    "You'll need to make sure that whatever Python file you're using to do your analysis (be it a simple Python script or a Jupyter `.ipynb` notebook file) has those 5 files in the same directory. Of course you'll also want to make sure that the PC that you're running these files on is also connectied with our instruments via GPIB.\n",
    "\n",
    "For instance, we're using this file, `tutorial.ipynb` to run some example code. So we'll want to make sure that those 5 Python scripts are in the same folder as this file. Let us begin."
   ]
  },
  {
   "attachments": {},
   "cell_type": "markdown",
   "metadata": {},
   "source": [
    "### Calling our Experiment Class\n",
    "\n",
    "Our experiment has a class, which helps it gather all the resources it needs among other things. If you're unfamiliar with this, don't worry. Simply import the class like so:"
   ]
  },
  {
   "cell_type": "code",
   "execution_count": null,
   "metadata": {},
   "outputs": [],
   "source": [
    "from fmr_experiment import Experiment"
   ]
  },
  {
   "cell_type": "code",
   "execution_count": null,
   "metadata": {},
   "outputs": [],
   "source": [
    "# Now let's initialise the class\n",
    "E = Experiment()"
   ]
  },
  {
   "attachments": {},
   "cell_type": "markdown",
   "metadata": {},
   "source": [
    "The cell above would show a bunch of "
   ]
  }
 ],
 "metadata": {
  "kernelspec": {
   "display_name": "visa-env",
   "language": "python",
   "name": "python3"
  },
  "language_info": {
   "codemirror_mode": {
    "name": "ipython",
    "version": 3
   },
   "file_extension": ".py",
   "mimetype": "text/x-python",
   "name": "python",
   "nbconvert_exporter": "python",
   "pygments_lexer": "ipython3",
   "version": "3.10.11"
  },
  "orig_nbformat": 4
 },
 "nbformat": 4,
 "nbformat_minor": 2
}
