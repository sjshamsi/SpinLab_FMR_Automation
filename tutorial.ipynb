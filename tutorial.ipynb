{
 "cells": [
  {
   "attachments": {},
   "cell_type": "markdown",
   "metadata": {},
   "source": [
    "### Hello, welcome to the FMR Python Automation tutorial!\n",
    "\n",
    "We'll go over our code and how to use it.\n",
    "\n",
    "**Structure**\n",
    "\n",
    "Our code is based on just a couple of Python scripts. These are:\n",
    "- `instrument_base.py`\n",
    "- `bop50_8d.py`\n",
    "- `hp_8673g.py`\n",
    "- `srs_sr830.py`\n",
    "- `fmr_experiment.py`\n",
    "\n",
    "The first four files help us initialise and interact with our instruments. The last file `fmr_experiment.py` gives us some methods to then conduct various sweeps.\n",
    "\n",
    "**What do I need to do to use these scripts?**\n",
    "\n",
    "You'll need to make sure that whatever Python file you're using to do your analysis (be it a simple Python script or a Jupyter `.ipynb` notebook file) has those 5 files in the same directory. Of course you'll also want to make sure that the PC that you're running these files on is also connectied with our instruments via GPIB.\n",
    "\n",
    "For instance, we're using this file, `tutorial.ipynb` to run some example code. So we'll want to make sure that those 5 Python scripts are in the same folder as this file. Let us begin."
   ]
  },
  {
   "attachments": {},
   "cell_type": "markdown",
   "metadata": {},
   "source": [
    "### Calling our Experiment Class\n",
    "\n",
    "Our experiment has a class, which helps it gather all the resources it needs among other things. If you're unfamiliar with this, don't worry. Simply import the class like so:"
   ]
  },
  {
   "cell_type": "code",
   "execution_count": 1,
   "metadata": {},
   "outputs": [],
   "source": [
    "from fmr_experiment import Experiment"
   ]
  },
  {
   "cell_type": "code",
   "execution_count": 2,
   "metadata": {},
   "outputs": [
    {
     "name": "stdout",
     "output_type": "stream",
     "text": [
      "Welcome to the FMR Experiment!\n",
      "Here are some default experiment parameters.\n",
      "\n",
      "PS Output Current (A) :\t 6.29627\n",
      "PS Output Voltage (V) :\t 47.53\n",
      "PS Output Mode (Current/Voltage) :\t Constant Current\n",
      "SG Frequency :\t FR03000000000HZ\n",
      "SG RF Output :\t On\n",
      "SG RF Output Level :\t LE-70.0DM\n",
      "LIA Time Constant :\t 0.3\n",
      "LIA Sensivity :\t 0.0002\n",
      "Sensivity Delay (s) :\t 3\n",
      "Read Repetitions :\t 1\n",
      "Read Repetition Delay :\t 0\n",
      "Repetition Averaging Function :\t <function mean at 0x000001CE31F4BF40>\n",
      "Read Delay :\t 0.02\n",
      "From 0 Delay (s) :\t 4\n",
      "Log File :\t C:\\Users\\physlab\\Desktop\\FMR_Python_Automation\\SpinLab_FMR_Automation\\Experiment_Logs\\FMR_log_2023-6-23_13-0-46.log\n"
     ]
    }
   ],
   "source": [
    "# Now let's initialise the class\n",
    "E = Experiment()"
   ]
  },
  {
   "attachments": {},
   "cell_type": "markdown",
   "metadata": {},
   "source": [
    "Great! We've iniialised an `Experiment` object and have named it `E`. Once initialised, a bunch of experiment parameters get printed out. Let's go over them:\n",
    "\n",
    "- **PS Output Current (A)** shows the measured power supply current in Amperes. It's a bit out of wack because the set current is actually 0.\n",
    "- **PS Output Voltage (V)** shows the measured power supply voltage in Volts. Same reason as the measurent current for why it isn't 0.\n",
    "- **PS Output Mode (Current/Voltage)** shows whether the power supply is in constant current or constant voltage mode.\n",
    "- **SG Frequency** is the RF output level from the signal generator.\n",
    "- **SG RF Output** shows if the signal generator's RF output is on.\n",
    "- **SG RF Output Level** shows the RF output's level in dB.\n",
    "- **LIA Time Constant** shows the time constant for our lock-in amplifier in seconds.\n",
    "- **LIA Sensivity** shows the absolute largest signal it can measure in the current sensivity setting. The sensivity is in Volts or Amperes depending on the measurement setting.\n",
    "- **Sensivity Delay (s)** is the amount of time (in seconds) paused when the LIA sensivity is changed. This is because some time is required after changing the sensivity before stable reading can be achieved.\n",
    "- **Read Repetitions** is the amount of readings taken per measurement of A and B. More readings give us a more stable, accurate result.\n",
    "- **Read Repetition Delay** is the amount of time (in seconds) between reach read repitition.\n",
    "- **Repetition Averaging Function** is the function which creates a measurement from our repeated readings. By default, this is a simple mean function (`np.mean`). However, sometimes, you want to do more complex averagings than a simple mean. For instance, the experiment class also has a method called `avg_mid_50` which takes in an array as argument, and returns the mean of the middle $50^{th}$ percentile of array elements. This can help stabilise erratic measurements, especially at higher frequencies.\n",
    "- **Read Delay** is the delay (in seconds) after the frequency or field is changed, before a measurement is taken.\n",
    "- **From 0 Delay** is the delay (in seconds) after the frequency or field begins from 0 (occurs when initial parameters are being set), before a measurement is made.\n",
    "- **Log File** is the path to the experiment log file which records every instrument communication. It's always a good idea to look at the log file for clues when things are acting up for unknown reasons.\n",
    "\n",
    "These are just some of the experiment parameters which might be useful for you to take note of before your experiment. Of course, you can change most of these."
   ]
  },
  {
   "attachments": {},
   "cell_type": "markdown",
   "metadata": {},
   "source": [
    "### Available Methods\n",
    "\n",
    "Now that the experiment object is initialised, we can talk about the methods available. This will be easy, don't worry. We only have three methods to be aware of:\n",
    "\n",
    "- `sweep_field`\n",
    "- `sweep_frequency`\n",
    "- `make2D`\n",
    "\n",
    "Let's go over each method and see how to use it."
   ]
  },
  {
   "attachments": {},
   "cell_type": "markdown",
   "metadata": {},
   "source": [
    "### `sweep_field`\n",
    "\n",
    "As the name suggests, this method is used to conduct a magnetic field sweep at a particular output RF frequency. This method's arguments are:\n",
    "\n",
    "- **frequency** *number*: Enter the frequency (in GHz) at which you want to conduct the magnetic field sweep.\n",
    "- **fields** *number array*: Enter the magnetic field values (in Oe) through which you'd like to sweep in an array.\n",
    "- **save_dir** *string*: Enter the path of the directory where you'd like to save your sweep data. If save directory does not exist, the program will create it (given that the parent directories exist).\n",
    "- **livefig** *bool*: Would you like to show a live plot of the sweep as it happens? Pass along `True` or `False` (it's `True` by default).\n",
    "- **savefig** *bool*: Would you like to save the sweep plot after it's done? Pass along `True` or `False` (it's `True` by default).\n",
    "- **closefig** *bool*: Would you like to close the liveplot after it's done? Pass along `True` or `False` (it's `False` by default). There's usually no reason to automatically close the figure after the sweep is done, except if you're doing a lot of sweeps at the same time. In that case, closing the figures after the sweeps are done can save memory.\n",
    "- **file_prefix** *string*: The sweep's savefiles usually look something like `'freq_3.0_GHz_field_80-120_Oe_-3_dB.csv'` by default. If you'd like to add a tring before this default fileneme, you can pass it along to the `file_prefix` argument. For example, I can pass along the string `'NiFe_'` here if I'm investigating a NiFe sample to get a filename `'NiFe_freq_3.0_GHz_field_80-120_Oe_-3_dB.csv'`.\n",
    "- **sen** *float*: Want to start your sweep with a particular sensitivity? Put it in here. The default value is $0.0002$ V.\n",
    "- **sen_delay** *number*: How long (in seconds) do you want to wait before the LIA resumes taking readings after its sensitivity changes? By default this takes $3$ s. This delay is good to have as the LIA needs some time after sensitivity changes in order to stabilise.\n",
    "- **read_reps** *int*: How many readings should the LIA take before making a measurement? This is $1$ by default. More repetitions usually help with unstable readings (especially at higher frequencies).\n",
    "- **rep_delay** *number*: How long (in seconds) do you want to wait in between LIA readings? The default value is $0$ s.\n",
    "- **read_delay** *number*: How long (in seconds) do you want to wait after the frequency or field is changed, before a measurement is taken? The default value is $0$ s.\n",
    "- **from0delay** *number*: How long (in seconds) do you want to wait after the frequency or field begins from $0$ (occurs when initial parameters are being set), before a measurement is made? The default value is $4$ s.\n",
    "- **avg_func** *function*: This is the function which creates a measurement from our repeated readings. By default, this is a simple mean function (`np.mean`). However, sometimes, you want to do more complex averagings than a simple mean. For instance, the experiment class also has a method called `avg_mid_50` which takes in an array as argument, and returns the mean of the middle $50^{th}$ percentile of array elements. This can help stabilise erratic measurements, especially at higher frequencies.\n",
    "- **return_XY** *bool*: Do you want the function to return 2 numpy arrays with the *X* and *Y* values respectively? If so, pass along `True` or `False`. The default value is `False`."
   ]
  },
  {
   "attachments": {},
   "cell_type": "markdown",
   "metadata": {},
   "source": [
    "### `sweep_frequency`\n",
    "\n",
    "As the name suggests, this method is used to conduct a radio frequency sweep at a particular magnetic field. This method's arguments are:\n",
    "\n",
    "- **field** *number*: Enter the field (in Oe) at which you want to conduct the frequency sweep.\n",
    "- **frequencies** *number array*: Enter the frequency values (in GHz) through which you'd like to sweep in an array.\n",
    "- **save_dir** *string*: Enter the path of the directory where you'd like to save your sweep data. If save directory does not exist, the program will create it (given that the parent directories exist).\n",
    "- **livefig** *bool*: Would you like to show a live plot of the sweep as it happens? Pass along `True` or `False` (it's `True` by default).\n",
    "- **savefig** *bool*: Would you like to save the sweep plot after it's done? Pass along `True` or `False` (it's `True` by default).\n",
    "- **closefig** *bool*: Would you like to close the liveplot after it's done? Pass along `True` or `False` (it's `False` by default). There's usually no reason to automatically close the figure after the sweep is done, except if you're doing a lot of sweeps at the same time. In that case, closing the figures after the sweeps are done can save memory.\n",
    "- **file_prefix** *string*: The sweep's savefiles usually look something like `'field_100_Oe_freq_3-10_GHz_-3_dB.csv'` by default. If you'd like to add a tring before this default fileneme, you can pass it along to the `file_prefix` argument. For example, I can pass along the string `'NiFe_'` here if I'm investigating a NiFe sample to get a filename `'NiFe_field_100_Oe_freq_3-10_GHz_-3_dB.csv'`.\n",
    "- **sen** *float*: Want to start your sweep with a particular sensitivity? Put it in here. The default value is $0.0002$ V.\n",
    "- **sen_delay** *number*: How long (in seconds) do you want to wait before the LIA resumes taking readings after its sensitivity changes? By default this takes $3$ s. This delay is good to have as the LIA needs some time after sensitivity changes in order to stabilise.\n",
    "- **read_reps** *int*: How many readings should the LIA take before making a measurement? This is $1$ by default. More repetitions usually help with unstable readings (especially at higher frequencies).\n",
    "- **rep_delay** *number*: How long (in seconds) do you want to wait in between LIA readings? The default value is $0$ s.\n",
    "- **read_delay** *number*: How long (in seconds) do you want to wait after the frequency or field is changed, before a measurement is taken? The default value is $0$ s.\n",
    "- **from0delay** *number*: How long (in seconds) do you want to wait after the frequency or field begins from $0$ (occurs when initial parameters are being set), before a measurement is made? The default value is $4$ s.\n",
    "- **avg_func** *function*: This is the function which creates a measurement from our repeated readings. By default, this is a simple mean function (`np.mean`). However, sometimes, you want to do more complex averagings than a simple mean. For instance, the experiment class also has a method called `avg_mid_50` which takes in an array as argument, and returns the mean of the middle $50^{th}$ percentile of array elements. This can help stabilise erratic measurements, especially at higher frequencies.\n",
    "- **return_XY** *bool*: Do you want the function to return 2 numpy arrays with the *X* and *Y* values respectively? If so, pass along `True` or `False`. The default value is `False`."
   ]
  },
  {
   "attachments": {},
   "cell_type": "markdown",
   "metadata": {},
   "source": [
    "### `make2D`\n",
    "\n",
    "Would you like to make a 2D sweep of power absorption along the frequency and field axes? This method's arguments are:\n",
    "\n",
    "\n",
    "- **frequencies** *number array*: Enter the frequency values (in GHz) through which you'd like to sweep in an array.\n",
    "- **fields** *number array*: nter the magnetic field values (in Oe) through which you'd like to sweep in an array.\n",
    "- **save_dir** *string*: Enter the path of the directory where you'd like to save your sweep data. If save directory does not exist, the program will create it (given that the parent directories exist).\n",
    "- **primary** *string*: Whenever we conduct a 2D sweep, the sweep needs to select one of the parmeters (frequency or field) to be the 'primary' parameter with the other being the 'secondary' parameter. Pass along either `'frequency'` or `'field'` in this argument to decide the primary parameter. The defaault is `'frequency'`.\n",
    "- **channel** *string*: both *X* and *Y* channel measurements from the LIA can show power absorption. Which channel do you want to use in the 2D sweep? Pass along `'X'` or `'Y'` in the argument here to decide. The default is `'X'`.\n",
    "- **livefig** *bool*: Would you like to show a live plot of an individual sweep as it happens? Pass along `True` or `False` (it's `False` by default). Note that this is different from the 2D liveplot itself, which is always shown.\n",
    "- **savefig** *bool*: Would you like to save each individual sweep plot after it's done? Pass along `True` or `False` (it's `False` by default). Note that this is different from the 2D liveplot itself, which is always saved.\n",
    "- **closefig** *bool*: Would you like to close each individual sweep liveplot after it's done? Pass along `True` or `False` (it's `False` by default). If you're doing a lot of sweeps at the same time (which tends to happen during a 2D sweep), closing the figures after the sweeps are done can save memory. Note that this is different from the 2D liveplot itself.\n",
    "- **file_prefix** *string*: The sweep's savefiles usually look something like `'2Dsweep_freq_3-10_GHz_field_100-500_Oe_-3_dB_channel_X_Unintegrated.npy'` by default. If you'd like to add a tring before this default fileneme, you can pass it along to the `file_prefix` argument. For example, I can pass along the string `'NiFe_'` here if I'm investigating a NiFe sample to get a filename `'NiFe_2Dsweep_freq_3-10_GHz_field_100-500_Oe_-3_dB_channel_X_Unintegrated.npy'`.\n",
    "- **sen** *float*: Want to start your sweeps with a particular sensitivity? Put it in here. The default value is $0.0002$ V. Note that if the sensitivity changes during one individual sweep, it resets to this value before the next individual sweep.\n",
    "- **sen_delay** *number*: How long (in seconds) do you want to wait before the LIA resumes taking readings after its sensitivity changes? By default this takes $3$ s. This delay is good to have as the LIA needs some time after sensitivity changes in order to stabilise.\n",
    "- **read_reps** *int*: How many readings should the LIA take before making a measurement? This is $1$ by default. More repetitions usually help with unstable readings (especially at higher frequencies).\n",
    "- **rep_delay** *number*: How long (in seconds) do you want to wait in between LIA readings? The default value is $0$ s.\n",
    "- **read_delay** *number*: How long (in seconds) do you want to wait after the frequency or field is changed, before a measurement is taken? The default value is $0$ s.\n",
    "- **from0delay** *number*: How long (in seconds) do you want to wait after the frequency or field begins from $0$ (occurs when initial parameters are being set), before a measurement is made? The default value is $4$ s.\n",
    "- **avg_func** *function*: This is the function which creates a measurement from our repeated readings. By default, this is a simple mean function (`np.mean`). However, sometimes, you want to do more complex averagings than a simple mean. For instance, the experiment class also has a method called `avg_mid_50` which takes in an array as argument, and returns the mean of the middle $50^{th}$ percentile of array elements. This can help stabilise erratic measurements, especially at higher frequencies.\n",
    "- **integrate** *bool*: Do you want the *X* or *Y* channel sweep to be integrated? If so, pass along `True` or `False`. The default value is `False`. Note that this doesn't work very well for unstable power absorption values."
   ]
  },
  {
   "attachments": {},
   "cell_type": "markdown",
   "metadata": {},
   "source": []
  }
 ],
 "metadata": {
  "kernelspec": {
   "display_name": "Python 3 (ipykernel)",
   "language": "python",
   "name": "python3"
  },
  "language_info": {
   "codemirror_mode": {
    "name": "ipython",
    "version": 3
   },
   "file_extension": ".py",
   "mimetype": "text/x-python",
   "name": "python",
   "nbconvert_exporter": "python",
   "pygments_lexer": "ipython3",
   "version": "3.10.11"
  }
 },
 "nbformat": 4,
 "nbformat_minor": 2
}
